{
 "cells": [
  {
   "cell_type": "markdown",
   "id": "1d94d9e9-e1ca-4678-a68e-913538777929",
   "metadata": {},
   "source": [
    "## BAYESIAN REGRESSION\n"
   ]
  },
  {
   "cell_type": "code",
   "execution_count": null,
   "id": "12088733-5f4c-4d20-b892-2bef895d5d6e",
   "metadata": {},
   "outputs": [],
   "source": []
  },
  {
   "cell_type": "code",
   "execution_count": null,
   "id": "182d48da-a827-4940-bc9f-20e64c90b491",
   "metadata": {},
   "outputs": [],
   "source": []
  },
  {
   "cell_type": "code",
   "execution_count": null,
   "id": "c0489708-5ce5-4866-a0f5-ac57fafd5c0a",
   "metadata": {},
   "outputs": [],
   "source": []
  },
  {
   "cell_type": "code",
   "execution_count": null,
   "id": "09da5b95-36e2-425d-a68a-35088be2027a",
   "metadata": {},
   "outputs": [],
   "source": []
  },
  {
   "cell_type": "code",
   "execution_count": null,
   "id": "8cd268dd-2d92-49fe-86a6-307d9fc9ed62",
   "metadata": {},
   "outputs": [],
   "source": []
  },
  {
   "cell_type": "markdown",
   "id": "5885f831-0acd-4aac-8c07-4dc2d19e903f",
   "metadata": {
    "tags": []
   },
   "source": [
    "### test vs train auc issue"
   ]
  },
  {
   "cell_type": "code",
   "execution_count": 17,
   "id": "51aafaa5-db9d-4889-a214-1831802f7172",
   "metadata": {
    "scrolled": true,
    "tags": []
   },
   "outputs": [
    {
     "name": "stderr",
     "output_type": "stream",
     "text": [
      "15:40:15 - cmdstanpy - INFO - CmdStan start processing\n"
     ]
    },
    {
     "data": {
      "application/vnd.jupyter.widget-view+json": {
       "model_id": "e3aec757a0c64771a7fbfa45898e7417",
       "version_major": 2,
       "version_minor": 0
      },
      "text/plain": [
       "chain 1 |          | 00:00 Status"
      ]
     },
     "metadata": {},
     "output_type": "display_data"
    },
    {
     "data": {
      "application/vnd.jupyter.widget-view+json": {
       "model_id": "abadae90b61e4aa297fc4cbfbdbc3eb7",
       "version_major": 2,
       "version_minor": 0
      },
      "text/plain": [
       "chain 2 |          | 00:00 Status"
      ]
     },
     "metadata": {},
     "output_type": "display_data"
    },
    {
     "data": {
      "application/vnd.jupyter.widget-view+json": {
       "model_id": "afa84751cf024d3daba7c5151e52f427",
       "version_major": 2,
       "version_minor": 0
      },
      "text/plain": [
       "chain 3 |          | 00:00 Status"
      ]
     },
     "metadata": {},
     "output_type": "display_data"
    },
    {
     "data": {
      "application/vnd.jupyter.widget-view+json": {
       "model_id": "5b10ac4d250846c3963d0f4c25c2223f",
       "version_major": 2,
       "version_minor": 0
      },
      "text/plain": [
       "chain 4 |          | 00:00 Status"
      ]
     },
     "metadata": {},
     "output_type": "display_data"
    },
    {
     "name": "stdout",
     "output_type": "stream",
     "text": [
      "                                                                                                                                                                                                                                                                                                                                "
     ]
    },
    {
     "name": "stderr",
     "output_type": "stream",
     "text": [
      "15:40:27 - cmdstanpy - INFO - CmdStan done processing.\n"
     ]
    },
    {
     "name": "stdout",
     "output_type": "stream",
     "text": [
      "\n"
     ]
    },
    {
     "name": "stderr",
     "output_type": "stream",
     "text": [
      "15:40:28 - cmdstanpy - INFO - CmdStan start processing\n"
     ]
    },
    {
     "data": {
      "application/vnd.jupyter.widget-view+json": {
       "model_id": "e30bd07cd660489b94366bfa43b51773",
       "version_major": 2,
       "version_minor": 0
      },
      "text/plain": [
       "chain 1 |          | 00:00 Status"
      ]
     },
     "metadata": {},
     "output_type": "display_data"
    },
    {
     "data": {
      "application/vnd.jupyter.widget-view+json": {
       "model_id": "65000271ae3b4b93b21e0857589d7c51",
       "version_major": 2,
       "version_minor": 0
      },
      "text/plain": [
       "chain 2 |          | 00:00 Status"
      ]
     },
     "metadata": {},
     "output_type": "display_data"
    },
    {
     "data": {
      "application/vnd.jupyter.widget-view+json": {
       "model_id": "0caa210daee84e9c975d35f65a350268",
       "version_major": 2,
       "version_minor": 0
      },
      "text/plain": [
       "chain 3 |          | 00:00 Status"
      ]
     },
     "metadata": {},
     "output_type": "display_data"
    },
    {
     "data": {
      "application/vnd.jupyter.widget-view+json": {
       "model_id": "300a8bc0d02047cd889cee158ed54f9e",
       "version_major": 2,
       "version_minor": 0
      },
      "text/plain": [
       "chain 4 |          | 00:00 Status"
      ]
     },
     "metadata": {},
     "output_type": "display_data"
    },
    {
     "name": "stdout",
     "output_type": "stream",
     "text": [
      "                                                                                                                                                                                                                                                                                                                                "
     ]
    },
    {
     "name": "stderr",
     "output_type": "stream",
     "text": [
      "15:40:37 - cmdstanpy - INFO - CmdStan done processing.\n"
     ]
    },
    {
     "name": "stdout",
     "output_type": "stream",
     "text": [
      "\n"
     ]
    },
    {
     "name": "stderr",
     "output_type": "stream",
     "text": [
      "15:40:38 - cmdstanpy - INFO - CmdStan start processing\n"
     ]
    },
    {
     "data": {
      "application/vnd.jupyter.widget-view+json": {
       "model_id": "dd0e184bc93b4502923774f888d568d2",
       "version_major": 2,
       "version_minor": 0
      },
      "text/plain": [
       "chain 1 |          | 00:00 Status"
      ]
     },
     "metadata": {},
     "output_type": "display_data"
    },
    {
     "data": {
      "application/vnd.jupyter.widget-view+json": {
       "model_id": "ae82fa6c13444b89928551ca94a53149",
       "version_major": 2,
       "version_minor": 0
      },
      "text/plain": [
       "chain 2 |          | 00:00 Status"
      ]
     },
     "metadata": {},
     "output_type": "display_data"
    },
    {
     "data": {
      "application/vnd.jupyter.widget-view+json": {
       "model_id": "8af7f5f7d26042ffad76ee2939aa6402",
       "version_major": 2,
       "version_minor": 0
      },
      "text/plain": [
       "chain 3 |          | 00:00 Status"
      ]
     },
     "metadata": {},
     "output_type": "display_data"
    },
    {
     "data": {
      "application/vnd.jupyter.widget-view+json": {
       "model_id": "00de866bdaa04caeb64f33db70a6457f",
       "version_major": 2,
       "version_minor": 0
      },
      "text/plain": [
       "chain 4 |          | 00:00 Status"
      ]
     },
     "metadata": {},
     "output_type": "display_data"
    },
    {
     "name": "stdout",
     "output_type": "stream",
     "text": [
      "                                                                                                                                                                                                                                                                                                                                "
     ]
    },
    {
     "name": "stderr",
     "output_type": "stream",
     "text": [
      "15:40:50 - cmdstanpy - INFO - CmdStan done processing.\n"
     ]
    },
    {
     "name": "stdout",
     "output_type": "stream",
     "text": [
      "\n"
     ]
    },
    {
     "name": "stderr",
     "output_type": "stream",
     "text": [
      "15:40:51 - cmdstanpy - INFO - CmdStan start processing\n"
     ]
    },
    {
     "data": {
      "application/vnd.jupyter.widget-view+json": {
       "model_id": "961e83928b084f01b85976c0e16724d6",
       "version_major": 2,
       "version_minor": 0
      },
      "text/plain": [
       "chain 1 |          | 00:00 Status"
      ]
     },
     "metadata": {},
     "output_type": "display_data"
    },
    {
     "data": {
      "application/vnd.jupyter.widget-view+json": {
       "model_id": "117c9030be2d42a9be102f6c6a1e88e2",
       "version_major": 2,
       "version_minor": 0
      },
      "text/plain": [
       "chain 2 |          | 00:00 Status"
      ]
     },
     "metadata": {},
     "output_type": "display_data"
    },
    {
     "data": {
      "application/vnd.jupyter.widget-view+json": {
       "model_id": "1a4230a2bcf74023a41b75f0c707924d",
       "version_major": 2,
       "version_minor": 0
      },
      "text/plain": [
       "chain 3 |          | 00:00 Status"
      ]
     },
     "metadata": {},
     "output_type": "display_data"
    },
    {
     "data": {
      "application/vnd.jupyter.widget-view+json": {
       "model_id": "39107d72d5db44bf8c3112769a26c3e3",
       "version_major": 2,
       "version_minor": 0
      },
      "text/plain": [
       "chain 4 |          | 00:00 Status"
      ]
     },
     "metadata": {},
     "output_type": "display_data"
    },
    {
     "name": "stdout",
     "output_type": "stream",
     "text": [
      "                                                                                                                                                                                                                                                                                                                                "
     ]
    },
    {
     "name": "stderr",
     "output_type": "stream",
     "text": [
      "15:41:02 - cmdstanpy - INFO - CmdStan done processing.\n"
     ]
    },
    {
     "name": "stdout",
     "output_type": "stream",
     "text": [
      "\n"
     ]
    },
    {
     "name": "stderr",
     "output_type": "stream",
     "text": [
      "15:41:03 - cmdstanpy - INFO - CmdStan start processing\n"
     ]
    },
    {
     "data": {
      "application/vnd.jupyter.widget-view+json": {
       "model_id": "ac71a431090546638aa61a27e2c34d89",
       "version_major": 2,
       "version_minor": 0
      },
      "text/plain": [
       "chain 1 |          | 00:00 Status"
      ]
     },
     "metadata": {},
     "output_type": "display_data"
    },
    {
     "data": {
      "application/vnd.jupyter.widget-view+json": {
       "model_id": "fdf314dbcc5647528f7172e3f7212149",
       "version_major": 2,
       "version_minor": 0
      },
      "text/plain": [
       "chain 2 |          | 00:00 Status"
      ]
     },
     "metadata": {},
     "output_type": "display_data"
    },
    {
     "data": {
      "application/vnd.jupyter.widget-view+json": {
       "model_id": "a1170c617ffd4329b6a0c89842ab1977",
       "version_major": 2,
       "version_minor": 0
      },
      "text/plain": [
       "chain 3 |          | 00:00 Status"
      ]
     },
     "metadata": {},
     "output_type": "display_data"
    },
    {
     "data": {
      "application/vnd.jupyter.widget-view+json": {
       "model_id": "778c99a1cf7047cb8488dfc66ebca33a",
       "version_major": 2,
       "version_minor": 0
      },
      "text/plain": [
       "chain 4 |          | 00:00 Status"
      ]
     },
     "metadata": {},
     "output_type": "display_data"
    },
    {
     "name": "stdout",
     "output_type": "stream",
     "text": [
      "                                                                                                                                                                                                                                                                                                                                "
     ]
    },
    {
     "name": "stderr",
     "output_type": "stream",
     "text": [
      "15:41:14 - cmdstanpy - INFO - CmdStan done processing.\n"
     ]
    },
    {
     "name": "stdout",
     "output_type": "stream",
     "text": [
      "\n"
     ]
    },
    {
     "name": "stderr",
     "output_type": "stream",
     "text": [
      "15:41:15 - cmdstanpy - INFO - CmdStan start processing\n"
     ]
    },
    {
     "data": {
      "application/vnd.jupyter.widget-view+json": {
       "model_id": "cda60eb7536d4a279b99f2bd8c113f48",
       "version_major": 2,
       "version_minor": 0
      },
      "text/plain": [
       "chain 1 |          | 00:00 Status"
      ]
     },
     "metadata": {},
     "output_type": "display_data"
    },
    {
     "data": {
      "application/vnd.jupyter.widget-view+json": {
       "model_id": "b7a79e4558094b1186a31b47ea2b1561",
       "version_major": 2,
       "version_minor": 0
      },
      "text/plain": [
       "chain 2 |          | 00:00 Status"
      ]
     },
     "metadata": {},
     "output_type": "display_data"
    },
    {
     "data": {
      "application/vnd.jupyter.widget-view+json": {
       "model_id": "6ae9ad9ca4304fdcb40001b58773a02b",
       "version_major": 2,
       "version_minor": 0
      },
      "text/plain": [
       "chain 3 |          | 00:00 Status"
      ]
     },
     "metadata": {},
     "output_type": "display_data"
    },
    {
     "data": {
      "application/vnd.jupyter.widget-view+json": {
       "model_id": "6c22bf0fcf274acea0ed432e6a2ef1fd",
       "version_major": 2,
       "version_minor": 0
      },
      "text/plain": [
       "chain 4 |          | 00:00 Status"
      ]
     },
     "metadata": {},
     "output_type": "display_data"
    },
    {
     "name": "stdout",
     "output_type": "stream",
     "text": [
      "                                                                                                                                                                                                                                                                                                                                "
     ]
    },
    {
     "name": "stderr",
     "output_type": "stream",
     "text": [
      "15:41:27 - cmdstanpy - INFO - CmdStan done processing.\n"
     ]
    },
    {
     "name": "stdout",
     "output_type": "stream",
     "text": [
      "\n"
     ]
    },
    {
     "data": {
      "image/png": "[encoded data removed]",
      "text/plain": [
       "<Figure size 1000x600 with 1 Axes>"
      ]
     },
     "metadata": {},
     "output_type": "display_data"
    },
    {
     "name": "stdout",
     "output_type": "stream",
     "text": [
      "Mean Training AUC: 0.8830\n",
      "Mean Test AUC: 0.7862\n",
      "Training AUCs: [0.8865556169574484, 0.8898954077043661, 0.891444600280505, 0.8744587137802192, 0.8771950271950272, 0.8782251377847143]\n",
      "Test AUCs: [0.7923901460540339, 0.7747368421052632, 0.7397791903646705, 0.7935275080906149, 0.7996505532906232, 0.8170941449188663]\n"
     ]
    }
   ],
   "source": [
    "import pandas as pd\n",
    "import numpy as np\n",
    "import arviz as az\n",
    "from cmdstanpy import CmdStanModel\n",
    "from sklearn.preprocessing import StandardScaler\n",
    "from sklearn.model_selection import train_test_split\n",
    "from sklearn.metrics import roc_auc_score\n",
    "import matplotlib.pyplot as plt\n",
    "\n",
    "# Load the data\n",
    "data = pd.read_csv(\"RF_imputation_NEW.csv\")\n",
    "\n",
    "# Drop unnecessary columns\n",
    "data.drop(columns=['deathtime', 'survival_time', 'LOS', 'Unnamed_0', 'V1', 'admittime', 'ID', 'group', 'tLOS', 'subject_id'], inplace=True)\n",
    "\n",
    "# Ensure the 'outcome' column is present\n",
    "if 'outcome' not in data.columns:\n",
    "    raise ValueError(\"The 'outcome' column does not exist in the dataframe.\")\n",
    "\n",
    "# Convert the 'outcome' column to integer type\n",
    "data['outcome'] = data['outcome'].astype(int)\n",
    "\n",
    "# Normalize the predictors\n",
    "predictor_names = data.columns.difference(['outcome'])\n",
    "scaler = StandardScaler()\n",
    "data[predictor_names] = scaler.fit_transform(data[predictor_names])\n",
    "\n",
    "# Function to train the model and calculate AUC\n",
    "def train_and_evaluate(data, predictor_names, stan_file, seed):\n",
    "    # Split the data into training and validation sets\n",
    "    train_data, valid_data = train_test_split(data, test_size=0.3, random_state=seed)\n",
    "\n",
    "    # Prepare data for Stan model\n",
    "    stan_data = {\n",
    "        'N': train_data.shape[0],\n",
    "        'K': len(predictor_names),\n",
    "        'X': train_data[predictor_names].values,\n",
    "        'y': train_data['outcome'].values\n",
    "    }\n",
    "\n",
    "    # Compile and sample from Stan model\n",
    "    model = CmdStanModel(stan_file=stan_file)\n",
    "    fit = model.sample(data=stan_data, seed=seed, chains=4, parallel_chains=4, iter_sampling=2000, iter_warmup=1000)\n",
    "\n",
    "    # Convert the CmdStanPy output to ArviZ's InferenceData object\n",
    "    idata = az.from_cmdstanpy(fit)\n",
    "\n",
    "    # Extract the samples\n",
    "    beta_samples = idata.posterior['beta'].mean(dim=['chain', 'draw']).values\n",
    "\n",
    "    # Predict on the training data\n",
    "    train_preds_prob = 1 / (1 + np.exp(-(np.dot(train_data[predictor_names].values, beta_samples) + idata.posterior['alpha'].mean(dim=['chain', 'draw']).values)))\n",
    "    train_auc = roc_auc_score(train_data['outcome'], train_preds_prob)\n",
    "\n",
    "    # Predict on the test data\n",
    "    test_preds_prob = 1 / (1 + np.exp(-(np.dot(valid_data[predictor_names].values, beta_samples) + idata.posterior['alpha'].mean(dim=['chain', 'draw']).values)))\n",
    "    test_auc = roc_auc_score(valid_data['outcome'], test_preds_prob)\n",
    "\n",
    "    return train_auc, test_auc\n",
    "\n",
    "# Perform multiple data splits and calculate AUCs\n",
    "num_splits = 6\n",
    "train_aucs = []\n",
    "test_aucs = []\n",
    "\n",
    "for seed in range(num_splits):\n",
    "    train_auc, test_auc = train_and_evaluate(data, predictor_names, 'logistic_regression_cauchy.stan', seed)\n",
    "    train_aucs.append(train_auc)\n",
    "    test_aucs.append(test_auc)\n",
    "\n",
    "# Plot the AUC values\n",
    "plt.figure(figsize=(10, 6))\n",
    "plt.plot(range(num_splits), train_aucs, label='Training AUC', marker='o')\n",
    "plt.plot(range(num_splits), test_aucs, label='Test AUC', marker='o')\n",
    "plt.xlabel('Data Split')\n",
    "plt.ylabel('AUC')\n",
    "plt.title('Training and Test AUC across Different Data Splits')\n",
    "plt.legend()\n",
    "plt.show()\n",
    "\n",
    "# Print the results\n",
    "print(f\"Mean Training AUC: {np.mean(train_aucs):.4f}\")\n",
    "print(f\"Mean Test AUC: {np.mean(test_aucs):.4f}\")\n",
    "print(f\"Training AUCs: {train_aucs}\")\n",
    "print(f\"Test AUCs: {test_aucs}\")\n"
   ]
  },
  {
   "cell_type": "markdown",
   "id": "e63d56ec-76c6-4807-8d00-8145dea0edc3",
   "metadata": {},
   "source": [
    "### normal tests"
   ]
  },
  {
   "cell_type": "code",
   "execution_count": 1,
   "id": "a84e0a50-f547-4766-99e0-9b2b52f25277",
   "metadata": {
    "scrolled": true
   },
   "outputs": [
    {
     "name": "stderr",
     "output_type": "stream",
     "text": [
      "14:11:04 - cmdstanpy - INFO - No CmdStan installation found.\n",
      "14:11:04 - cmdstanpy - INFO - Cannot determine whether version is before 2.27.\n",
      "14:11:04 - cmdstanpy - INFO - No CmdStan installation found.\n",
      "14:11:04 - cmdstanpy - INFO - Cannot determine whether version is before 2.27.\n"
     ]
    },
    {
     "ename": "ValueError",
     "evalue": "No CmdStan installation found, run command \"install_cmdstan\"or (re)activate your conda environment!",
     "output_type": "error",
     "traceback": [
      "\u001b[1;31m---------------------------------------------------------------------------\u001b[0m",
      "\u001b[1;31mValueError\u001b[0m                                Traceback (most recent call last)",
      "Cell \u001b[1;32mIn[1], line 67\u001b[0m\n\u001b[0;32m     64\u001b[0m test_aucs \u001b[38;5;241m=\u001b[39m []\n\u001b[0;32m     66\u001b[0m \u001b[38;5;28;01mfor\u001b[39;00m seed \u001b[38;5;129;01min\u001b[39;00m \u001b[38;5;28mrange\u001b[39m(num_splits):\n\u001b[1;32m---> 67\u001b[0m     train_auc, test_auc \u001b[38;5;241m=\u001b[39m train_and_evaluate(data, predictor_names, \u001b[38;5;124m'\u001b[39m\u001b[38;5;124mlogistic_regression.stan\u001b[39m\u001b[38;5;124m'\u001b[39m, seed)\n\u001b[0;32m     68\u001b[0m     train_aucs\u001b[38;5;241m.\u001b[39mappend(train_auc)\n\u001b[0;32m     69\u001b[0m     test_aucs\u001b[38;5;241m.\u001b[39mappend(test_auc)\n",
      "Cell \u001b[1;32mIn[1], line 42\u001b[0m, in \u001b[0;36mtrain_and_evaluate\u001b[1;34m(data, predictor_names, stan_file, seed)\u001b[0m\n\u001b[0;32m     34\u001b[0m stan_data \u001b[38;5;241m=\u001b[39m {\n\u001b[0;32m     35\u001b[0m     \u001b[38;5;124m'\u001b[39m\u001b[38;5;124mN\u001b[39m\u001b[38;5;124m'\u001b[39m: train_data\u001b[38;5;241m.\u001b[39mshape[\u001b[38;5;241m0\u001b[39m],\n\u001b[0;32m     36\u001b[0m     \u001b[38;5;124m'\u001b[39m\u001b[38;5;124mK\u001b[39m\u001b[38;5;124m'\u001b[39m: \u001b[38;5;28mlen\u001b[39m(predictor_names),\n\u001b[0;32m     37\u001b[0m     \u001b[38;5;124m'\u001b[39m\u001b[38;5;124mX\u001b[39m\u001b[38;5;124m'\u001b[39m: train_data[predictor_names]\u001b[38;5;241m.\u001b[39mvalues,\n\u001b[0;32m     38\u001b[0m     \u001b[38;5;124m'\u001b[39m\u001b[38;5;124my\u001b[39m\u001b[38;5;124m'\u001b[39m: train_data[\u001b[38;5;124m'\u001b[39m\u001b[38;5;124moutcome\u001b[39m\u001b[38;5;124m'\u001b[39m]\u001b[38;5;241m.\u001b[39mvalues\n\u001b[0;32m     39\u001b[0m }\n\u001b[0;32m     41\u001b[0m \u001b[38;5;66;03m# Compile and sample from Stan model\u001b[39;00m\n\u001b[1;32m---> 42\u001b[0m model \u001b[38;5;241m=\u001b[39m CmdStanModel(stan_file\u001b[38;5;241m=\u001b[39mstan_file)\n\u001b[0;32m     43\u001b[0m fit \u001b[38;5;241m=\u001b[39m model\u001b[38;5;241m.\u001b[39msample(data\u001b[38;5;241m=\u001b[39mstan_data, seed\u001b[38;5;241m=\u001b[39mseed, chains\u001b[38;5;241m=\u001b[39m\u001b[38;5;241m4\u001b[39m, parallel_chains\u001b[38;5;241m=\u001b[39m\u001b[38;5;241m4\u001b[39m, iter_sampling\u001b[38;5;241m=\u001b[39m\u001b[38;5;241m2000\u001b[39m, iter_warmup\u001b[38;5;241m=\u001b[39m\u001b[38;5;241m1000\u001b[39m)\n\u001b[0;32m     45\u001b[0m \u001b[38;5;66;03m# Convert the CmdStanPy output to ArviZ's InferenceData object\u001b[39;00m\n",
      "File \u001b[1;32m~\\anaconda3\\Lib\\site-packages\\cmdstanpy\\model.py:212\u001b[0m, in \u001b[0;36mCmdStanModel.__init__\u001b[1;34m(self, model_name, stan_file, exe_file, force_compile, stanc_options, cpp_options, user_header, compile)\u001b[0m\n\u001b[0;32m    208\u001b[0m \u001b[38;5;28;01mif\u001b[39;00m \u001b[38;5;129;01mnot\u001b[39;00m cmdstan_version_before(\n\u001b[0;32m    209\u001b[0m     \u001b[38;5;241m2\u001b[39m, \u001b[38;5;241m27\u001b[39m\n\u001b[0;32m    210\u001b[0m ):  \u001b[38;5;66;03m# unknown end of version range\u001b[39;00m\n\u001b[0;32m    211\u001b[0m     \u001b[38;5;28;01mtry\u001b[39;00m:\n\u001b[1;32m--> 212\u001b[0m         model_info \u001b[38;5;241m=\u001b[39m \u001b[38;5;28mself\u001b[39m\u001b[38;5;241m.\u001b[39msrc_info()\n\u001b[0;32m    213\u001b[0m         \u001b[38;5;28;01mif\u001b[39;00m \u001b[38;5;124m'\u001b[39m\u001b[38;5;124mparameters\u001b[39m\u001b[38;5;124m'\u001b[39m \u001b[38;5;129;01min\u001b[39;00m model_info:\n\u001b[0;32m    214\u001b[0m             \u001b[38;5;28mself\u001b[39m\u001b[38;5;241m.\u001b[39m_fixed_param \u001b[38;5;241m|\u001b[39m\u001b[38;5;241m=\u001b[39m \u001b[38;5;28mlen\u001b[39m(model_info[\u001b[38;5;124m'\u001b[39m\u001b[38;5;124mparameters\u001b[39m\u001b[38;5;124m'\u001b[39m]) \u001b[38;5;241m==\u001b[39m \u001b[38;5;241m0\u001b[39m\n",
      "File \u001b[1;32m~\\anaconda3\\Lib\\site-packages\\cmdstanpy\\model.py:318\u001b[0m, in \u001b[0;36mCmdStanModel.src_info\u001b[1;34m(self)\u001b[0m\n\u001b[0;32m    316\u001b[0m \u001b[38;5;28;01mif\u001b[39;00m \u001b[38;5;28mself\u001b[39m\u001b[38;5;241m.\u001b[39mstan_file \u001b[38;5;129;01mis\u001b[39;00m \u001b[38;5;28;01mNone\u001b[39;00m \u001b[38;5;129;01mor\u001b[39;00m cmdstan_version_before(\u001b[38;5;241m2\u001b[39m, \u001b[38;5;241m27\u001b[39m):\n\u001b[0;32m    317\u001b[0m     \u001b[38;5;28;01mreturn\u001b[39;00m {}\n\u001b[1;32m--> 318\u001b[0m \u001b[38;5;28;01mreturn\u001b[39;00m compilation\u001b[38;5;241m.\u001b[39msrc_info(\u001b[38;5;28mstr\u001b[39m(\u001b[38;5;28mself\u001b[39m\u001b[38;5;241m.\u001b[39mstan_file), \u001b[38;5;28mself\u001b[39m\u001b[38;5;241m.\u001b[39m_compiler_options)\n",
      "File \u001b[1;32m~\\anaconda3\\Lib\\site-packages\\cmdstanpy\\compilation.py:354\u001b[0m, in \u001b[0;36msrc_info\u001b[1;34m(stan_file, compiler_options)\u001b[0m\n\u001b[0;32m    344\u001b[0m \u001b[38;5;28;01mdef\u001b[39;00m \u001b[38;5;21msrc_info\u001b[39m(\n\u001b[0;32m    345\u001b[0m     stan_file: \u001b[38;5;28mstr\u001b[39m, compiler_options: CompilerOptions\n\u001b[0;32m    346\u001b[0m ) \u001b[38;5;241m-\u001b[39m\u001b[38;5;241m>\u001b[39m Dict[\u001b[38;5;28mstr\u001b[39m, Any]:\n\u001b[0;32m    347\u001b[0m \u001b[38;5;250m    \u001b[39m\u001b[38;5;124;03m\"\"\"\u001b[39;00m\n\u001b[0;32m    348\u001b[0m \u001b[38;5;124;03m    Get source info for Stan program file.\u001b[39;00m\n\u001b[0;32m    349\u001b[0m \n\u001b[0;32m    350\u001b[0m \u001b[38;5;124;03m    This function is used in the implementation of\u001b[39;00m\n\u001b[0;32m    351\u001b[0m \u001b[38;5;124;03m    :meth:`CmdStanModel.src_info`, and should not be called directly.\u001b[39;00m\n\u001b[0;32m    352\u001b[0m \u001b[38;5;124;03m    \"\"\"\u001b[39;00m\n\u001b[0;32m    353\u001b[0m     cmd \u001b[38;5;241m=\u001b[39m (\n\u001b[1;32m--> 354\u001b[0m         [os\u001b[38;5;241m.\u001b[39mpath\u001b[38;5;241m.\u001b[39mjoin(cmdstan_path(), \u001b[38;5;124m'\u001b[39m\u001b[38;5;124mbin\u001b[39m\u001b[38;5;124m'\u001b[39m, \u001b[38;5;124m'\u001b[39m\u001b[38;5;124mstanc\u001b[39m\u001b[38;5;124m'\u001b[39m \u001b[38;5;241m+\u001b[39m EXTENSION)]\n\u001b[0;32m    355\u001b[0m         \u001b[38;5;66;03m# handle include-paths, allow-undefined etc\u001b[39;00m\n\u001b[0;32m    356\u001b[0m         \u001b[38;5;241m+\u001b[39m compiler_options\u001b[38;5;241m.\u001b[39mcompose_stanc(\u001b[38;5;28;01mNone\u001b[39;00m)\n\u001b[0;32m    357\u001b[0m         \u001b[38;5;241m+\u001b[39m [\u001b[38;5;124m'\u001b[39m\u001b[38;5;124m--info\u001b[39m\u001b[38;5;124m'\u001b[39m, \u001b[38;5;28mstr\u001b[39m(stan_file)]\n\u001b[0;32m    358\u001b[0m     )\n\u001b[0;32m    359\u001b[0m     proc \u001b[38;5;241m=\u001b[39m subprocess\u001b[38;5;241m.\u001b[39mrun(cmd, capture_output\u001b[38;5;241m=\u001b[39m\u001b[38;5;28;01mTrue\u001b[39;00m, text\u001b[38;5;241m=\u001b[39m\u001b[38;5;28;01mTrue\u001b[39;00m, check\u001b[38;5;241m=\u001b[39m\u001b[38;5;28;01mFalse\u001b[39;00m)\n\u001b[0;32m    360\u001b[0m     \u001b[38;5;28;01mif\u001b[39;00m proc\u001b[38;5;241m.\u001b[39mreturncode:\n",
      "File \u001b[1;32m~\\anaconda3\\Lib\\site-packages\\cmdstanpy\\utils\\cmdstan.py:170\u001b[0m, in \u001b[0;36mcmdstan_path\u001b[1;34m()\u001b[0m\n\u001b[0;32m    168\u001b[0m cmdstan_dir \u001b[38;5;241m=\u001b[39m os\u001b[38;5;241m.\u001b[39mpath\u001b[38;5;241m.\u001b[39mexpanduser(os\u001b[38;5;241m.\u001b[39mpath\u001b[38;5;241m.\u001b[39mjoin(\u001b[38;5;124m'\u001b[39m\u001b[38;5;124m~\u001b[39m\u001b[38;5;124m'\u001b[39m, _DOT_CMDSTAN))\n\u001b[0;32m    169\u001b[0m \u001b[38;5;28;01mif\u001b[39;00m \u001b[38;5;129;01mnot\u001b[39;00m os\u001b[38;5;241m.\u001b[39mpath\u001b[38;5;241m.\u001b[39mexists(cmdstan_dir):\n\u001b[1;32m--> 170\u001b[0m     \u001b[38;5;28;01mraise\u001b[39;00m \u001b[38;5;167;01mValueError\u001b[39;00m(\n\u001b[0;32m    171\u001b[0m         \u001b[38;5;124m'\u001b[39m\u001b[38;5;124mNo CmdStan installation found, run command \u001b[39m\u001b[38;5;124m\"\u001b[39m\u001b[38;5;124minstall_cmdstan\u001b[39m\u001b[38;5;124m\"\u001b[39m\u001b[38;5;124m'\u001b[39m\n\u001b[0;32m    172\u001b[0m         \u001b[38;5;124m'\u001b[39m\u001b[38;5;124mor (re)activate your conda environment!\u001b[39m\u001b[38;5;124m'\u001b[39m\n\u001b[0;32m    173\u001b[0m     )\n\u001b[0;32m    174\u001b[0m latest_cmdstan \u001b[38;5;241m=\u001b[39m get_latest_cmdstan(cmdstan_dir)\n\u001b[0;32m    175\u001b[0m \u001b[38;5;28;01mif\u001b[39;00m latest_cmdstan \u001b[38;5;129;01mis\u001b[39;00m \u001b[38;5;28;01mNone\u001b[39;00m:\n",
      "\u001b[1;31mValueError\u001b[0m: No CmdStan installation found, run command \"install_cmdstan\"or (re)activate your conda environment!"
     ]
    }
   ],
   "source": [
    "import pandas as pd\n",
    "import numpy as np\n",
    "import arviz as az\n",
    "from cmdstanpy import CmdStanModel\n",
    "from sklearn.preprocessing import StandardScaler\n",
    "from sklearn.model_selection import train_test_split\n",
    "from sklearn.metrics import roc_auc_score\n",
    "import matplotlib.pyplot as plt\n",
    "\n",
    "# Load the data\n",
    "data = pd.read_csv(\"RF_imputation_NEW.csv\")\n",
    "\n",
    "# Drop unnecessary columns\n",
    "data.drop(columns=['deathtime', 'survival_time', 'LOS', 'Unnamed_0', 'V1', 'admittime', 'ID', 'group', 'tLOS', 'subject_id', 'COPD', 'CHD_with_no_MI'], inplace=True)\n",
    "\n",
    "# Ensure the 'outcome' column is present\n",
    "if 'outcome' not in data.columns:\n",
    "    raise ValueError(\"The 'outcome' column does not exist in the dataframe.\")\n",
    "\n",
    "# Convert the 'outcome' column to integer type\n",
    "data['outcome'] = data['outcome'].astype(int)\n",
    "\n",
    "# Normalize the predictors\n",
    "predictor_names = data.columns.difference(['outcome'])\n",
    "scaler = StandardScaler()\n",
    "data[predictor_names] = scaler.fit_transform(data[predictor_names])\n",
    "\n",
    "# Function to train the model and calculate AUC\n",
    "def train_and_evaluate(data, predictor_names, stan_file, seed):\n",
    "    # Split the data into training and validation sets\n",
    "    train_data, valid_data = train_test_split(data, test_size=0.3, random_state=seed)\n",
    "\n",
    "    # Prepare data for Stan model\n",
    "    stan_data = {\n",
    "        'N': train_data.shape[0],\n",
    "        'K': len(predictor_names),\n",
    "        'X': train_data[predictor_names].values,\n",
    "        'y': train_data['outcome'].values\n",
    "    }\n",
    "\n",
    "    # Compile and sample from Stan model\n",
    "    model = CmdStanModel(stan_file=stan_file)\n",
    "    fit = model.sample(data=stan_data, seed=seed, chains=4, parallel_chains=4, iter_sampling=2000, iter_warmup=1000)\n",
    "\n",
    "    # Convert the CmdStanPy output to ArviZ's InferenceData object\n",
    "    idata = az.from_cmdstanpy(fit)\n",
    "\n",
    "    # Extract the samples\n",
    "    beta_samples = idata.posterior['beta'].mean(dim=['chain', 'draw']).values\n",
    "\n",
    "    # Predict on the training data\n",
    "    train_preds_prob = 1 / (1 + np.exp(-(np.dot(train_data[predictor_names].values, beta_samples) + idata.posterior['alpha'].mean(dim=['chain', 'draw']).values)))\n",
    "    train_auc = roc_auc_score(train_data['outcome'], train_preds_prob)\n",
    "\n",
    "    # Predict on the test data\n",
    "    test_preds_prob = 1 / (1 + np.exp(-(np.dot(valid_data[predictor_names].values, beta_samples) + idata.posterior['alpha'].mean(dim=['chain', 'draw']).values)))\n",
    "    test_auc = roc_auc_score(valid_data['outcome'], test_preds_prob)\n",
    "\n",
    "    return train_auc, test_auc\n",
    "\n",
    "# Perform multiple data splits and calculate AUCs\n",
    "num_splits = 10\n",
    "train_aucs = []\n",
    "test_aucs = []\n",
    "\n",
    "for seed in range(num_splits):\n",
    "    train_auc, test_auc = train_and_evaluate(data, predictor_names, 'logistic_regression.stan', seed)\n",
    "    train_aucs.append(train_auc)\n",
    "    test_aucs.append(test_auc)\n",
    "\n",
    "# Plot the AUC values\n",
    "plt.figure(figsize=(10, 6))\n",
    "plt.plot(range(num_splits), train_aucs, label='Training AUC', marker='o')\n",
    "plt.plot(range(num_splits), test_aucs, label='Test AUC', marker='o')\n",
    "plt.xlabel('Data Split')\n",
    "plt.ylabel('AUC')\n",
    "plt.title('Training and Test AUC across Different Data Splits')\n",
    "plt.legend()\n",
    "plt.show()\n",
    "\n",
    "# Print the results\n",
    "print(f\"Mean Training AUC: {np.mean(train_aucs):.4f}\")\n",
    "print(f\"Mean Test AUC: {np.mean(test_aucs):.4f}\")\n",
    "print(f\"Training AUCs: {train_aucs}\")\n",
    "print(f\"Test AUCs: {test_aucs}\")\n"
   ]
  },
  {
   "cell_type": "markdown",
   "id": "e7dd4897-068e-441f-94c5-2dd337b03655",
   "metadata": {},
   "source": [
    "### test new"
   ]
  },
  {
   "cell_type": "code",
   "execution_count": 25,
   "id": "46c34cca-db13-49b0-a606-c910729b77ec",
   "metadata": {},
   "outputs": [
    {
     "name": "stderr",
     "output_type": "stream",
     "text": [
      "15:59:38 - cmdstanpy - INFO - CmdStan start processing\n"
     ]
    },
    {
     "data": {
      "application/vnd.jupyter.widget-view+json": {
       "model_id": "597823e6411042348f0c83eca5440ee0",
       "version_major": 2,
       "version_minor": 0
      },
      "text/plain": [
       "chain 1 |          | 00:00 Status"
      ]
     },
     "metadata": {},
     "output_type": "display_data"
    },
    {
     "data": {
      "application/vnd.jupyter.widget-view+json": {
       "model_id": "94099600c5b54a2cbb83f1da1f0b4da3",
       "version_major": 2,
       "version_minor": 0
      },
      "text/plain": [
       "chain 2 |          | 00:00 Status"
      ]
     },
     "metadata": {},
     "output_type": "display_data"
    },
    {
     "data": {
      "application/vnd.jupyter.widget-view+json": {
       "model_id": "526ff2710c4e419eabd8da94dced79bd",
       "version_major": 2,
       "version_minor": 0
      },
      "text/plain": [
       "chain 3 |          | 00:00 Status"
      ]
     },
     "metadata": {},
     "output_type": "display_data"
    },
    {
     "data": {
      "application/vnd.jupyter.widget-view+json": {
       "model_id": "a6c19fb719f04bf0b9ff40f7f8fb6561",
       "version_major": 2,
       "version_minor": 0
      },
      "text/plain": [
       "chain 4 |          | 00:00 Status"
      ]
     },
     "metadata": {},
     "output_type": "display_data"
    },
    {
     "name": "stdout",
     "output_type": "stream",
     "text": [
      "                                                                                                                                                                                                                                                                                                                                "
     ]
    },
    {
     "name": "stderr",
     "output_type": "stream",
     "text": [
      "15:59:48 - cmdstanpy - INFO - CmdStan done processing.\n"
     ]
    },
    {
     "name": "stdout",
     "output_type": "stream",
     "text": [
      "\n",
      "Train AUC: 0.8742190488333546\n",
      "Test AUC: 0.7973235195717631\n"
     ]
    }
   ],
   "source": [
    "import pandas as pd\n",
    "import numpy as np\n",
    "from cmdstanpy import CmdStanModel\n",
    "from sklearn.preprocessing import StandardScaler\n",
    "from sklearn.model_selection import train_test_split\n",
    "from sklearn.metrics import roc_auc_score\n",
    "import arviz as az\n",
    "\n",
    "# Load and preprocess data\n",
    "data = pd.read_csv(\"RF_imputation_NEW.csv\")\n",
    "data.drop(columns=['deathtime', 'survival_time', 'LOS', 'Unnamed_0', 'V1', 'admittime', 'ID', 'group', 'tLOS', 'subject_id'], inplace=True)\n",
    "data['outcome'] = data['outcome'].astype(int)\n",
    "predictor_names = data.columns.difference(['outcome'])\n",
    "\n",
    "# Function to preprocess data\n",
    "def preprocess_data(data, predictor_names, random_seed):\n",
    "    scaler = StandardScaler()\n",
    "    data[predictor_names] = scaler.fit_transform(data[predictor_names])\n",
    "    train_data, valid_data = train_test_split(data, test_size=0.3, random_state=random_seed)\n",
    "    return train_data, valid_data\n",
    "\n",
    "# Function to prepare Stan data\n",
    "def prepare_stan_data(train_data, predictor_names):\n",
    "    return {\n",
    "        'N': train_data.shape[0],\n",
    "        'K': len(predictor_names),\n",
    "        'X': train_data[predictor_names].values,\n",
    "        'y': train_data['outcome'].values\n",
    "    }\n",
    "\n",
    "# Function to train and evaluate the model\n",
    "def train_and_evaluate(train_data, valid_data, predictor_names, stan_file, random_seed):\n",
    "    stan_data = prepare_stan_data(train_data, predictor_names)\n",
    "    model = CmdStanModel(stan_file=stan_file)\n",
    "    fit = model.sample(data=stan_data, seed=random_seed, chains=4, parallel_chains=4, iter_sampling=2000, iter_warmup=1000)\n",
    "    idata = az.from_cmdstanpy(fit)\n",
    "    beta_samples = idata.posterior['beta'].mean(dim=['chain', 'draw']).values\n",
    "\n",
    "    # Predict on the training data\n",
    "    train_preds_prob = 1 / (1 + np.exp(-(np.dot(train_data[predictor_names].values, beta_samples) + idata.posterior['alpha'].mean(dim=['chain', 'draw']).values)))\n",
    "    train_auc = roc_auc_score(train_data['outcome'], train_preds_prob)\n",
    "\n",
    "    # Predict on the test data\n",
    "    test_preds_prob = 1 / (1 + np.exp(-(np.dot(valid_data[predictor_names].values, beta_samples) + idata.posterior['alpha'].mean(dim=['chain', 'draw']).values)))\n",
    "    test_auc = roc_auc_score(valid_data['outcome'], test_preds_prob)\n",
    "\n",
    "    return train_auc, test_auc\n",
    "\n",
    "# Set a fixed random seed for reproducibility\n",
    "random_seed = 213\n",
    "\n",
    "# Preprocess data\n",
    "train_data, valid_data = preprocess_data(data, predictor_names, random_seed)\n",
    "\n",
    "# Train and evaluate the model\n",
    "train_auc, test_auc = train_and_evaluate(train_data, valid_data, predictor_names, 'logistic_regression_cauchy.stan', random_seed)\n",
    "\n",
    "# Print results\n",
    "print(\"Train AUC:\", train_auc)\n",
    "print(\"Test AUC:\", test_auc)\n"
   ]
  },
  {
   "cell_type": "markdown",
   "id": "435d2767-9369-4642-891f-f9a0bbbb11bc",
   "metadata": {},
   "source": [
    "## Normal"
   ]
  },
  {
   "cell_type": "code",
   "execution_count": 28,
   "id": "72f4440b-637e-468d-8628-165c6a5fc9ab",
   "metadata": {},
   "outputs": [
    {
     "name": "stderr",
     "output_type": "stream",
     "text": [
      "16:07:50 - cmdstanpy - INFO - compiling stan file /Users/peterdunson/Documents/DMML-Survival-Analysis-NEW/logistic_regression.stan to exe file /Users/peterdunson/Documents/DMML-Survival-Analysis-NEW/logistic_regression\n",
      "16:07:56 - cmdstanpy - INFO - compiled model executable: /Users/peterdunson/Documents/DMML-Survival-Analysis-NEW/logistic_regression\n",
      "16:07:57 - cmdstanpy - INFO - CmdStan start processing\n"
     ]
    },
    {
     "data": {
      "application/vnd.jupyter.widget-view+json": {
       "model_id": "34aeb24b93f14a0797999c2310eb8cc3",
       "version_major": 2,
       "version_minor": 0
      },
      "text/plain": [
       "chain 1 |          | 00:00 Status"
      ]
     },
     "metadata": {},
     "output_type": "display_data"
    },
    {
     "data": {
      "application/vnd.jupyter.widget-view+json": {
       "model_id": "c11dd2ba55424899ad1b494089bb6280",
       "version_major": 2,
       "version_minor": 0
      },
      "text/plain": [
       "chain 2 |          | 00:00 Status"
      ]
     },
     "metadata": {},
     "output_type": "display_data"
    },
    {
     "data": {
      "application/vnd.jupyter.widget-view+json": {
       "model_id": "db6631c83a0a4878bad95337d87e3738",
       "version_major": 2,
       "version_minor": 0
      },
      "text/plain": [
       "chain 3 |          | 00:00 Status"
      ]
     },
     "metadata": {},
     "output_type": "display_data"
    },
    {
     "data": {
      "application/vnd.jupyter.widget-view+json": {
       "model_id": "936b99e735454d8f888213aecb24ca90",
       "version_major": 2,
       "version_minor": 0
      },
      "text/plain": [
       "chain 4 |          | 00:00 Status"
      ]
     },
     "metadata": {},
     "output_type": "display_data"
    },
    {
     "name": "stdout",
     "output_type": "stream",
     "text": [
      "                                                                                                                                                                                                                                                                                                                                "
     ]
    },
    {
     "name": "stderr",
     "output_type": "stream",
     "text": [
      "16:08:01 - cmdstanpy - INFO - CmdStan done processing.\n"
     ]
    },
    {
     "name": "stdout",
     "output_type": "stream",
     "text": [
      "\n",
      "Train AUC: 0.8736452887925539\n",
      "Test AUC: 0.7967213114754099\n"
     ]
    }
   ],
   "source": [
    "import pandas as pd\n",
    "import numpy as np\n",
    "from cmdstanpy import CmdStanModel\n",
    "from sklearn.preprocessing import StandardScaler\n",
    "from sklearn.model_selection import train_test_split\n",
    "from sklearn.metrics import roc_auc_score\n",
    "import arviz as az\n",
    "\n",
    "# Load and preprocess data\n",
    "data = pd.read_csv(\"RF_imputation_NEW.csv\")\n",
    "data.drop(columns=['deathtime', 'survival_time', 'LOS', 'Unnamed_0', 'V1', 'admittime', 'ID', 'group', 'tLOS', 'subject_id', 'COPD', 'CHD_with_no_MI'], inplace=True)\n",
    "data['outcome'] = data['outcome'].astype(int)\n",
    "predictor_names = data.columns.difference(['outcome'])\n",
    "\n",
    "# Function to preprocess data\n",
    "def preprocess_data(data, predictor_names, random_seed):\n",
    "    scaler = StandardScaler()\n",
    "    data[predictor_names] = scaler.fit_transform(data[predictor_names])\n",
    "    train_data, valid_data = train_test_split(data, test_size=0.3, random_state=random_seed)\n",
    "    return train_data, valid_data\n",
    "\n",
    "# Function to prepare Stan data\n",
    "def prepare_stan_data(train_data, predictor_names):\n",
    "    return {\n",
    "        'N': train_data.shape[0],\n",
    "        'K': len(predictor_names),\n",
    "        'X': train_data[predictor_names].values,\n",
    "        'y': train_data['outcome'].values\n",
    "    }\n",
    "\n",
    "# Function to train and evaluate the model\n",
    "def train_and_evaluate(train_data, valid_data, predictor_names, stan_file, random_seed):\n",
    "    stan_data = prepare_stan_data(train_data, predictor_names)\n",
    "    model = CmdStanModel(stan_file=stan_file)\n",
    "    fit = model.sample(data=stan_data, seed=random_seed, chains=4, parallel_chains=4, iter_sampling=2000, iter_warmup=1000)\n",
    "    idata = az.from_cmdstanpy(fit)\n",
    "    beta_samples = idata.posterior['beta'].mean(dim=['chain', 'draw']).values\n",
    "\n",
    "    # Predict on the training data\n",
    "    train_preds_prob = 1 / (1 + np.exp(-(np.dot(train_data[predictor_names].values, beta_samples) + idata.posterior['alpha'].mean(dim=['chain', 'draw']).values)))\n",
    "    train_auc = roc_auc_score(train_data['outcome'], train_preds_prob)\n",
    "\n",
    "    # Predict on the test data\n",
    "    test_preds_prob = 1 / (1 + np.exp(-(np.dot(valid_data[predictor_names].values, beta_samples) + idata.posterior['alpha'].mean(dim=['chain', 'draw']).values)))\n",
    "    test_auc = roc_auc_score(valid_data['outcome'], test_preds_prob)\n",
    "\n",
    "    return train_auc, test_auc\n",
    "\n",
    "# Set a fixed random seed for reproducibility\n",
    "random_seed = 213\n",
    "\n",
    "# Preprocess data\n",
    "train_data, valid_data = preprocess_data(data, predictor_names, random_seed)\n",
    "\n",
    "# Train and evaluate the model\n",
    "train_auc, test_auc = train_and_evaluate(train_data, valid_data, predictor_names, 'logistic_regression.stan', random_seed)\n",
    "\n",
    "# Print results\n",
    "print(\"Train AUC:\", train_auc)\n",
    "print(\"Test AUC:\", test_auc)\n"
   ]
  },
  {
   "cell_type": "markdown",
   "id": "eed9be50-bd47-458d-bd51-19483e1ffe80",
   "metadata": {},
   "source": [
    "### horseshoe"
   ]
  },
  {
   "cell_type": "code",
   "execution_count": 30,
   "id": "8bc36214-4663-4af9-acd0-fc883db82745",
   "metadata": {},
   "outputs": [
    {
     "name": "stderr",
     "output_type": "stream",
     "text": [
      "16:10:40 - cmdstanpy - INFO - compiling stan file /Users/peterdunson/Documents/DMML-Survival-Analysis-NEW/logistic_regression_horseshoe.stan to exe file /Users/peterdunson/Documents/DMML-Survival-Analysis-NEW/logistic_regression_horseshoe\n",
      "16:10:46 - cmdstanpy - INFO - compiled model executable: /Users/peterdunson/Documents/DMML-Survival-Analysis-NEW/logistic_regression_horseshoe\n",
      "16:10:47 - cmdstanpy - INFO - CmdStan start processing\n"
     ]
    },
    {
     "data": {
      "application/vnd.jupyter.widget-view+json": {
       "model_id": "5b579414acf9442f8f1b486e65ff8c0f",
       "version_major": 2,
       "version_minor": 0
      },
      "text/plain": [
       "chain 1 |          | 00:00 Status"
      ]
     },
     "metadata": {},
     "output_type": "display_data"
    },
    {
     "data": {
      "application/vnd.jupyter.widget-view+json": {
       "model_id": "ca7ece27f42e4f70ae67fa1bbac815ba",
       "version_major": 2,
       "version_minor": 0
      },
      "text/plain": [
       "chain 2 |          | 00:00 Status"
      ]
     },
     "metadata": {},
     "output_type": "display_data"
    },
    {
     "data": {
      "application/vnd.jupyter.widget-view+json": {
       "model_id": "07f1219bcb3045d6b476825c5c0c6e21",
       "version_major": 2,
       "version_minor": 0
      },
      "text/plain": [
       "chain 3 |          | 00:00 Status"
      ]
     },
     "metadata": {},
     "output_type": "display_data"
    },
    {
     "data": {
      "application/vnd.jupyter.widget-view+json": {
       "model_id": "5abbdedf640f4d408ae95a13450dfb15",
       "version_major": 2,
       "version_minor": 0
      },
      "text/plain": [
       "chain 4 |          | 00:00 Status"
      ]
     },
     "metadata": {},
     "output_type": "display_data"
    },
    {
     "name": "stdout",
     "output_type": "stream",
     "text": [
      "                                                                                                                                                                                                                                                                                                                                "
     ]
    },
    {
     "name": "stderr",
     "output_type": "stream",
     "text": [
      "16:11:33 - cmdstanpy - INFO - CmdStan done processing.\n"
     ]
    },
    {
     "name": "stdout",
     "output_type": "stream",
     "text": [
      "\n"
     ]
    },
    {
     "name": "stderr",
     "output_type": "stream",
     "text": [
      "16:11:33 - cmdstanpy - WARNING - Some chains may have failed to converge.\n",
      "\tChain 1 had 35 divergent transitions (0.9%)\n",
      "\tChain 2 had 120 divergent transitions (3.0%)\n",
      "\tChain 3 had 66 divergent transitions (1.7%)\n",
      "\tChain 4 had 16 divergent transitions (0.4%)\n",
      "\tUse the \"diagnose()\" method on the CmdStanMCMC object to see further information.\n"
     ]
    },
    {
     "name": "stdout",
     "output_type": "stream",
     "text": [
      "Train AUC: 0.8639041183220707\n",
      "Test AUC: 0.7963198394111742\n"
     ]
    }
   ],
   "source": [
    "import pandas as pd\n",
    "import numpy as np\n",
    "from cmdstanpy import CmdStanModel\n",
    "from sklearn.preprocessing import StandardScaler\n",
    "from sklearn.model_selection import train_test_split\n",
    "from sklearn.metrics import roc_auc_score\n",
    "import arviz as az\n",
    "\n",
    "# Load and preprocess data\n",
    "data = pd.read_csv(\"RF_imputation_NEW.csv\")\n",
    "data.drop(columns=['deathtime', 'survival_time', 'LOS', 'Unnamed_0', 'V1', 'admittime', 'ID', 'group', 'tLOS', 'subject_id', 'COPD', 'CHD_with_no_MI'], inplace=True)\n",
    "data['outcome'] = data['outcome'].astype(int)\n",
    "predictor_names = data.columns.difference(['outcome'])\n",
    "\n",
    "# Function to preprocess data\n",
    "def preprocess_data(data, predictor_names, random_seed):\n",
    "    scaler = StandardScaler()\n",
    "    data[predictor_names] = scaler.fit_transform(data[predictor_names])\n",
    "    train_data, valid_data = train_test_split(data, test_size=0.3, random_state=random_seed)\n",
    "    return train_data, valid_data\n",
    "\n",
    "# Function to prepare Stan data\n",
    "def prepare_stan_data(train_data, predictor_names):\n",
    "    return {\n",
    "        'N': train_data.shape[0],\n",
    "        'K': len(predictor_names),\n",
    "        'X': train_data[predictor_names].values,\n",
    "        'y': train_data['outcome'].values\n",
    "    }\n",
    "\n",
    "# Function to train and evaluate the model\n",
    "def train_and_evaluate(train_data, valid_data, predictor_names, stan_file, random_seed):\n",
    "    stan_data = prepare_stan_data(train_data, predictor_names)\n",
    "    model = CmdStanModel(stan_file=stan_file)\n",
    "    fit = model.sample(data=stan_data, seed=random_seed, chains=4, parallel_chains=4, iter_sampling=4000, iter_warmup=2000, adapt_delta=0.95, max_treedepth=15)\n",
    "    idata = az.from_cmdstanpy(fit)\n",
    "    beta_samples = idata.posterior['beta_tilde'].mean(dim=['chain', 'draw']).values\n",
    "\n",
    "    # Predict on the training data\n",
    "    train_preds_prob = 1 / (1 + np.exp(-(np.dot(train_data[predictor_names].values, beta_samples) + idata.posterior['alpha'].mean(dim=['chain', 'draw']).values)))\n",
    "    train_auc = roc_auc_score(train_data['outcome'], train_preds_prob)\n",
    "\n",
    "    # Predict on the test data\n",
    "    test_preds_prob = 1 / (1 + np.exp(-(np.dot(valid_data[predictor_names].values, beta_samples) + idata.posterior['alpha'].mean(dim=['chain', 'draw']).values)))\n",
    "    test_auc = roc_auc_score(valid_data['outcome'], test_preds_prob)\n",
    "\n",
    "    return train_auc, test_auc\n",
    "\n",
    "# Set a fixed random seed for reproducibility\n",
    "random_seed = 213\n",
    "\n",
    "# Preprocess data\n",
    "train_data, valid_data = preprocess_data(data, predictor_names, random_seed)\n",
    "\n",
    "# Train and evaluate the model\n",
    "train_auc, test_auc = train_and_evaluate(train_data, valid_data, predictor_names, 'logistic_regression_horseshoe.stan', random_seed)\n",
    "\n",
    "# Print results\n",
    "print(\"Train AUC:\", train_auc)\n",
    "print(\"Test AUC:\", test_auc)\n"
   ]
  },
  {
   "cell_type": "markdown",
   "id": "b5141906-d517-4f60-9274-23983de77158",
   "metadata": {},
   "source": [
    "### i hate this"
   ]
  },
  {
   "cell_type": "code",
   "execution_count": 37,
   "id": "bc7328f3-6f70-4d07-a7c4-8b866a26ed2f",
   "metadata": {},
   "outputs": [
    {
     "name": "stderr",
     "output_type": "stream",
     "text": [
      "16:36:32 - cmdstanpy - INFO - CmdStan start processing\n"
     ]
    },
    {
     "data": {
      "application/vnd.jupyter.widget-view+json": {
       "model_id": "5aee340e2f414e0db22916d5a715f457",
       "version_major": 2,
       "version_minor": 0
      },
      "text/plain": [
       "chain 1 |          | 00:00 Status"
      ]
     },
     "metadata": {},
     "output_type": "display_data"
    },
    {
     "data": {
      "application/vnd.jupyter.widget-view+json": {
       "model_id": "dcf3487a177e419bbf1420c736f77f2a",
       "version_major": 2,
       "version_minor": 0
      },
      "text/plain": [
       "chain 2 |          | 00:00 Status"
      ]
     },
     "metadata": {},
     "output_type": "display_data"
    },
    {
     "data": {
      "application/vnd.jupyter.widget-view+json": {
       "model_id": "0042b7cb3e0144689adaba9d42bd0e3a",
       "version_major": 2,
       "version_minor": 0
      },
      "text/plain": [
       "chain 3 |          | 00:00 Status"
      ]
     },
     "metadata": {},
     "output_type": "display_data"
    },
    {
     "data": {
      "application/vnd.jupyter.widget-view+json": {
       "model_id": "255ce9770d1b4db4880539d4cc415524",
       "version_major": 2,
       "version_minor": 0
      },
      "text/plain": [
       "chain 4 |          | 00:00 Status"
      ]
     },
     "metadata": {},
     "output_type": "display_data"
    },
    {
     "name": "stdout",
     "output_type": "stream",
     "text": [
      "                                                                                                                                                                                                                                                                                                                                "
     ]
    },
    {
     "name": "stderr",
     "output_type": "stream",
     "text": [
      "16:36:37 - cmdstanpy - INFO - CmdStan done processing.\n"
     ]
    },
    {
     "name": "stdout",
     "output_type": "stream",
     "text": [
      "\n",
      "MCMC diagnostics:\n",
      "           mean     sd  hdi_3%  hdi_97%  mcse_mean  mcse_sd  ess_bulk  \\\n",
      "beta[0]   0.401  0.353  -0.251    1.075      0.006    0.004    3505.0   \n",
      "beta[1]  -0.161  0.176  -0.489    0.170      0.002    0.002    9481.0   \n",
      "beta[2]  -0.380  0.243  -0.824    0.086      0.003    0.002    8397.0   \n",
      "beta[3]  -0.705  0.606  -1.887    0.383      0.010    0.007    3494.0   \n",
      "beta[4]  -0.387  0.153  -0.664   -0.087      0.002    0.001    9403.0   \n",
      "beta[5]   0.203  0.158  -0.080    0.520      0.002    0.001    8138.0   \n",
      "beta[6]  -0.112  0.468  -0.964    0.795      0.008    0.006    3419.0   \n",
      "beta[7]   0.134  0.603  -0.993    1.273      0.010    0.007    3415.0   \n",
      "beta[8]   0.143  0.153  -0.126    0.425      0.002    0.002    9691.0   \n",
      "beta[9]  -0.282  0.243  -0.721    0.185      0.003    0.002    8803.0   \n",
      "beta[10] -0.268  0.179  -0.590    0.070      0.002    0.001    8161.0   \n",
      "beta[11] -0.005  0.150  -0.295    0.265      0.002    0.002    8602.0   \n",
      "beta[12]  0.124  0.197  -0.262    0.477      0.003    0.002    4006.0   \n",
      "beta[13]  0.401  0.492  -0.531    1.309      0.007    0.005    5602.0   \n",
      "beta[14]  0.374  0.149   0.091    0.654      0.002    0.001    8287.0   \n",
      "beta[15]  0.387  0.153   0.107    0.671      0.002    0.001    8159.0   \n",
      "beta[16] -0.106  0.269  -0.605    0.398      0.003    0.003    6865.0   \n",
      "beta[17]  0.080  0.718  -1.270    1.411      0.012    0.008    3845.0   \n",
      "beta[18] -0.184  0.369  -0.885    0.493      0.006    0.004    3807.0   \n",
      "beta[19]  0.115  0.601  -1.031    1.195      0.010    0.007    3880.0   \n",
      "beta[20]  0.176  0.146  -0.098    0.452      0.001    0.001    9862.0   \n",
      "beta[21] -0.060  0.159  -0.361    0.236      0.002    0.002    9084.0   \n",
      "beta[22]  0.007  0.233  -0.424    0.450      0.003    0.002    6994.0   \n",
      "beta[23]  1.013  0.309   0.440    1.596      0.004    0.003    5537.0   \n",
      "beta[24]  0.355  0.217  -0.050    0.761      0.003    0.002    5579.0   \n",
      "beta[25] -0.271  0.497  -1.252    0.619      0.007    0.005    5559.0   \n",
      "beta[26] -0.111  0.153  -0.401    0.174      0.002    0.001    8650.0   \n",
      "beta[27]  0.052  0.594  -1.022    1.190      0.008    0.006    5234.0   \n",
      "beta[28]  0.333  0.157   0.033    0.626      0.002    0.001    9053.0   \n",
      "beta[29] -0.164  0.215  -0.576    0.238      0.003    0.002    4663.0   \n",
      "beta[30] -0.055  0.146  -0.322    0.223      0.002    0.001    9412.0   \n",
      "beta[31] -0.289  0.131  -0.540   -0.042      0.001    0.001   11171.0   \n",
      "beta[32]  0.164  0.170  -0.151    0.492      0.002    0.001    8905.0   \n",
      "beta[33]  0.513  0.204   0.139    0.908      0.002    0.002    7809.0   \n",
      "beta[34] -0.203  0.176  -0.526    0.135      0.002    0.002   10148.0   \n",
      "beta[35]  0.120  0.181  -0.216    0.464      0.002    0.002    9460.0   \n",
      "beta[36]  0.335  0.208  -0.041    0.735      0.003    0.002    3662.0   \n",
      "beta[37] -0.785  0.449  -1.584    0.090      0.009    0.006    2496.0   \n",
      "beta[38]  0.025  0.206  -0.371    0.408      0.003    0.002    3747.0   \n",
      "beta[39]  0.038  0.184  -0.310    0.382      0.003    0.002    5194.0   \n",
      "beta[40]  0.183  0.205  -0.187    0.572      0.003    0.002    4392.0   \n",
      "beta[41]  0.238  0.191  -0.117    0.596      0.003    0.002    3904.0   \n",
      "beta[42] -0.189  0.157  -0.484    0.100      0.002    0.001   10035.0   \n",
      "beta[43]  0.459  0.160   0.164    0.770      0.002    0.001    8755.0   \n",
      "beta[44]  0.048  0.570  -1.043    1.075      0.008    0.006    5168.0   \n",
      "beta[45]  0.051  0.188  -0.311    0.387      0.003    0.002    3603.0   \n",
      "beta[46] -0.133  0.148  -0.410    0.151      0.001    0.001   10028.0   \n",
      "\n",
      "          ess_tail  r_hat  \n",
      "beta[0]     5055.0    1.0  \n",
      "beta[1]     6052.0    1.0  \n",
      "beta[2]     6202.0    1.0  \n",
      "beta[3]     4979.0    1.0  \n",
      "beta[4]     6680.0    1.0  \n",
      "beta[5]     6400.0    1.0  \n",
      "beta[6]     4786.0    1.0  \n",
      "beta[7]     4717.0    1.0  \n",
      "beta[8]     5679.0    1.0  \n",
      "beta[9]     6242.0    1.0  \n",
      "beta[10]    6512.0    1.0  \n",
      "beta[11]    5909.0    1.0  \n",
      "beta[12]    5436.0    1.0  \n",
      "beta[13]    6068.0    1.0  \n",
      "beta[14]    6214.0    1.0  \n",
      "beta[15]    6692.0    1.0  \n",
      "beta[16]    5467.0    1.0  \n",
      "beta[17]    5209.0    1.0  \n",
      "beta[18]    4983.0    1.0  \n",
      "beta[19]    5267.0    1.0  \n",
      "beta[20]    6327.0    1.0  \n",
      "beta[21]    5789.0    1.0  \n",
      "beta[22]    5932.0    1.0  \n",
      "beta[23]    5544.0    1.0  \n",
      "beta[24]    6223.0    1.0  \n",
      "beta[25]    6031.0    1.0  \n",
      "beta[26]    6079.0    1.0  \n",
      "beta[27]    5268.0    1.0  \n",
      "beta[28]    6244.0    1.0  \n",
      "beta[29]    5763.0    1.0  \n",
      "beta[30]    6208.0    1.0  \n",
      "beta[31]    6360.0    1.0  \n",
      "beta[32]    6212.0    1.0  \n",
      "beta[33]    5824.0    1.0  \n",
      "beta[34]    6253.0    1.0  \n",
      "beta[35]    6114.0    1.0  \n",
      "beta[36]    5518.0    1.0  \n",
      "beta[37]    3682.0    1.0  \n",
      "beta[38]    4132.0    1.0  \n",
      "beta[39]    6324.0    1.0  \n",
      "beta[40]    5690.0    1.0  \n",
      "beta[41]    5166.0    1.0  \n",
      "beta[42]    6226.0    1.0  \n",
      "beta[43]    7141.0    1.0  \n",
      "beta[44]    5185.0    1.0  \n",
      "beta[45]    4876.0    1.0  \n",
      "beta[46]    6487.0    1.0  \n",
      "R-hat diagnostic:\n",
      "<xarray.Dataset>\n",
      "Dimensions:       (beta_dim_0: 47, y_pred_dim_0: 823)\n",
      "Coordinates:\n",
      "  * beta_dim_0    (beta_dim_0) int64 0 1 2 3 4 5 6 7 ... 39 40 41 42 43 44 45 46\n",
      "  * y_pred_dim_0  (y_pred_dim_0) int64 0 1 2 3 4 5 6 ... 817 818 819 820 821 822\n",
      "Data variables:\n",
      "    alpha         float64 0.9999\n",
      "    beta          (beta_dim_0) float64 1.0 1.001 1.0 1.0 ... 1.0 1.001 1.0\n",
      "    y_pred        (y_pred_dim_0) float64 0.9998 0.9999 0.9998 ... 1.0 1.0 1.0\n",
      "Effective sample size (ESS):\n",
      "<xarray.Dataset>\n",
      "Dimensions:       (beta_dim_0: 47, y_pred_dim_0: 823)\n",
      "Coordinates:\n",
      "  * beta_dim_0    (beta_dim_0) int64 0 1 2 3 4 5 6 7 ... 39 40 41 42 43 44 45 46\n",
      "  * y_pred_dim_0  (y_pred_dim_0) int64 0 1 2 3 4 5 6 ... 817 818 819 820 821 822\n",
      "Data variables:\n",
      "    alpha         float64 7.667e+03\n",
      "    beta          (beta_dim_0) float64 3.505e+03 9.481e+03 ... 1.003e+04\n",
      "    y_pred        (y_pred_dim_0) float64 7.596e+03 7.961e+03 ... 7.927e+03\n"
     ]
    },
    {
     "ename": "IndexError",
     "evalue": "too many indices for array: array is 1-dimensional, but 2 were indexed",
     "output_type": "error",
     "traceback": [
      "\u001b[0;31m---------------------------------------------------------------------------\u001b[0m",
      "\u001b[0;31mIndexError\u001b[0m                                Traceback (most recent call last)",
      "Cell \u001b[0;32mIn[37], line 53\u001b[0m\n\u001b[1;32m     50\u001b[0m predictor_names_array \u001b[38;5;241m=\u001b[39m predictor_names\u001b[38;5;241m.\u001b[39mto_numpy()\n\u001b[1;32m     52\u001b[0m \u001b[38;5;66;03m# Identify significant features based on HDI not including zero\u001b[39;00m\n\u001b[0;32m---> 53\u001b[0m significant_features \u001b[38;5;241m=\u001b[39m predictor_names_array[(beta_hdi[:, \u001b[38;5;241m0\u001b[39m] \u001b[38;5;241m>\u001b[39m \u001b[38;5;241m0\u001b[39m) \u001b[38;5;241m|\u001b[39m (beta_hdi[:, \u001b[38;5;241m1\u001b[39m] \u001b[38;5;241m<\u001b[39m \u001b[38;5;241m0\u001b[39m)]\n\u001b[1;32m     54\u001b[0m \u001b[38;5;28mprint\u001b[39m(\u001b[38;5;124m\"\u001b[39m\u001b[38;5;124mSignificant features (HDI not including zero):\u001b[39m\u001b[38;5;124m\"\u001b[39m)\n\u001b[1;32m     55\u001b[0m \u001b[38;5;28mprint\u001b[39m(significant_features)\n",
      "\u001b[0;31mIndexError\u001b[0m: too many indices for array: array is 1-dimensional, but 2 were indexed"
     ]
    }
   ],
   "source": [
    "import pandas as pd\n",
    "import numpy as np\n",
    "from cmdstanpy import CmdStanModel\n",
    "from sklearn.preprocessing import StandardScaler\n",
    "from sklearn.model_selection import train_test_split\n",
    "from sklearn.metrics import roc_auc_score\n",
    "import arviz as az\n",
    "\n",
    "# Load and preprocess data\n",
    "data = pd.read_csv(\"RF_imputation_NEW.csv\")\n",
    "data.drop(columns=['deathtime', 'survival_time', 'LOS', 'Unnamed_0', 'V1', 'admittime', 'ID', 'group', 'tLOS', 'subject_id', 'COPD', 'CHD_with_no_MI'], inplace=True)\n",
    "data['outcome'] = data['outcome'].astype(int)\n",
    "predictor_names = data.columns.difference(['outcome'])\n",
    "\n",
    "# Standardize the predictors\n",
    "scaler = StandardScaler()\n",
    "data[predictor_names] = scaler.fit_transform(data[predictor_names])\n",
    "\n",
    "# Split the data into training and validation sets\n",
    "train_data, valid_data = train_test_split(data, test_size=0.3, random_state=213)\n",
    "\n",
    "# Prepare data for Stan model\n",
    "stan_data = {\n",
    "    'N': train_data.shape[0],\n",
    "    'K': len(predictor_names),\n",
    "    'X': train_data[predictor_names].values,\n",
    "    'y': train_data['outcome'].values\n",
    "}\n",
    "\n",
    "# Compile and sample from Stan model\n",
    "model = CmdStanModel(stan_file='logistic_regression.stan')\n",
    "fit = model.sample(data=stan_data, seed=213, chains=4, parallel_chains=4, iter_sampling=2000, iter_warmup=1000)\n",
    "\n",
    "# Convert the CmdStanPy output to ArviZ's InferenceData object\n",
    "idata = az.from_cmdstanpy(fit)\n",
    "\n",
    "# Check MCMC diagnostics for convergence and mixing\n",
    "print(\"MCMC diagnostics:\")\n",
    "print(az.summary(idata, var_names=['beta']))  # Summary statistics\n",
    "print(\"R-hat diagnostic:\")\n",
    "print(az.rhat(idata))  # R-hat diagnostic\n",
    "print(\"Effective sample size (ESS):\")\n",
    "print(az.ess(idata))  # Effective sample size\n",
    "\n",
    "# Extract and summarize all coefficients\n",
    "beta_samples = idata.posterior['beta']\n",
    "beta_hdi = az.hdi(beta_samples, hdi_prob=0.95).to_array().values\n",
    "\n",
    "# Convert predictor_names to a NumPy array\n",
    "predictor_names_array = predictor_names.to_numpy()\n",
    "\n",
    "# Identify significant features based on HDI not including zero\n",
    "significant_features = predictor_names_array[(beta_hdi[:, 0] > 0) | (beta_hdi[:, 1] < 0)]\n",
    "print(\"Significant features (HDI not including zero):\")\n",
    "print(significant_features)\n",
    "\n",
    "# Compute AUC for training set\n",
    "y_pred_train = fit.stan_variable('y_pred').mean(axis=0)\n",
    "train_auc_value = roc_auc_score(train_data['outcome'], y_pred_train)\n",
    "print(\"Train AUC:\", train_auc_value)\n",
    "\n",
    "# Prepare validation data and compute AUC for test set\n",
    "stan_data_valid = {\n",
    "    'N': valid_data.shape[0],\n",
    "    'K': len(predictor_names),\n",
    "    'X': valid_data[predictor_names].values,\n",
    "    'y': valid_data['outcome'].values\n",
    "}\n",
    "fit_valid = model.sample(data=stan_data_valid, seed=213, chains=4, parallel_chains=4, iter_sampling=2000, iter_warmup=1000)\n",
    "y_pred_valid = fit_valid.stan_variable('y_pred').mean(axis=0)\n",
    "test_auc_value = roc_auc_score(valid_data['outcome'], y_pred_valid)\n",
    "print(\"Test AUC:\", test_auc_value)\n"
   ]
  },
  {
   "cell_type": "code",
   "execution_count": null,
   "id": "f399d694-5071-48cd-a672-3db8687a059d",
   "metadata": {},
   "outputs": [],
   "source": []
  },
  {
   "cell_type": "code",
   "execution_count": null,
   "id": "980397eb-6a03-4413-8136-7555a6f69070",
   "metadata": {},
   "outputs": [],
   "source": []
  }
 ],
 "metadata": {
  "kernelspec": {
   "display_name": "Python 3 (ipykernel)",
   "language": "python",
   "name": "python3"
  },
  "language_info": {
   "codemirror_mode": {
    "name": "ipython",
    "version": 3
   },
   "file_extension": ".py",
   "mimetype": "text/x-python",
   "name": "python",
   "nbconvert_exporter": "python",
   "pygments_lexer": "ipython3",
   "version": "3.11.7"
  }
 },
 "nbformat": 4,
 "nbformat_minor": 5
}
