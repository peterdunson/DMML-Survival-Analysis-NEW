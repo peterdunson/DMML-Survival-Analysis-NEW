{
 "cells": [
  {
   "cell_type": "markdown",
   "id": "e4f55283-c3fd-431b-9375-214156c407ab",
   "metadata": {},
   "source": [
    "## supervised clustering"
   ]
  },
  {
   "cell_type": "markdown",
   "id": "1c914d1d-f6e6-429a-b3c4-9f4bf3369061",
   "metadata": {},
   "source": [
    "### Bayesian Profile Regression"
   ]
  },
  {
   "cell_type": "code",
   "execution_count": null,
   "id": "bc277fd0-a7dc-40a0-bea9-6b093c1e63d5",
   "metadata": {},
   "outputs": [],
   "source": []
  },
  {
   "cell_type": "code",
   "execution_count": null,
   "id": "b9077d04-b58d-4960-8536-4fed54c43d8c",
   "metadata": {},
   "outputs": [],
   "source": []
  },
  {
   "cell_type": "code",
   "execution_count": null,
   "id": "a6413cb1-8cca-4c71-9315-810fa2c8d6a3",
   "metadata": {},
   "outputs": [],
   "source": []
  }
 ],
 "metadata": {
  "kernelspec": {
   "display_name": "Python 3 (ipykernel)",
   "language": "python",
   "name": "python3"
  },
  "language_info": {
   "codemirror_mode": {
    "name": "ipython",
    "version": 3
   },
   "file_extension": ".py",
   "mimetype": "text/x-python",
   "name": "python",
   "nbconvert_exporter": "python",
   "pygments_lexer": "ipython3",
   "version": "3.11.7"
  }
 },
 "nbformat": 4,
 "nbformat_minor": 5
}
