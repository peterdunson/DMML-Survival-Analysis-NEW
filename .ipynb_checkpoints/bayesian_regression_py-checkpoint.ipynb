{
 "cells": [
  {
   "cell_type": "markdown",
   "id": "1d94d9e9-e1ca-4678-a68e-913538777929",
   "metadata": {},
   "source": [
    "## BAYESIAN REGRESSION\n"
   ]
  },
  {
   "cell_type": "code",
   "execution_count": null,
   "id": "12088733-5f4c-4d20-b892-2bef895d5d6e",
   "metadata": {},
   "outputs": [],
   "source": []
  },
  {
   "cell_type": "code",
   "execution_count": 6,
   "id": "c5eeb91f-69f9-4e6f-9507-67721cf4a6fa",
   "metadata": {
    "collapsed": true,
    "jupyter": {
     "outputs_hidden": true
    },
    "scrolled": true
   },
   "outputs": [
    {
     "name": "stderr",
     "output_type": "stream",
     "text": [
      "12:05:17 - cmdstanpy - INFO - CmdStan start processing\n"
     ]
    },
    {
     "data": {
      "application/vnd.jupyter.widget-view+json": {
       "model_id": "43dbd6c0072b46139d93e351a1865896",
       "version_major": 2,
       "version_minor": 0
      },
      "text/plain": [
       "chain 1 |          | 00:00 Status"
      ]
     },
     "metadata": {},
     "output_type": "display_data"
    },
    {
     "data": {
      "application/vnd.jupyter.widget-view+json": {
       "model_id": "17aa574429fb44ebba6334fa74b56a93",
       "version_major": 2,
       "version_minor": 0
      },
      "text/plain": [
       "chain 2 |          | 00:00 Status"
      ]
     },
     "metadata": {},
     "output_type": "display_data"
    },
    {
     "data": {
      "application/vnd.jupyter.widget-view+json": {
       "model_id": "6df21a3d255d4fc8821a06d966094ce0",
       "version_major": 2,
       "version_minor": 0
      },
      "text/plain": [
       "chain 3 |          | 00:00 Status"
      ]
     },
     "metadata": {},
     "output_type": "display_data"
    },
    {
     "data": {
      "application/vnd.jupyter.widget-view+json": {
       "model_id": "f101ba1a14b04f6f942734b65070feb7",
       "version_major": 2,
       "version_minor": 0
      },
      "text/plain": [
       "chain 4 |          | 00:00 Status"
      ]
     },
     "metadata": {},
     "output_type": "display_data"
    },
    {
     "name": "stdout",
     "output_type": "stream",
     "text": [
      "                                                                                                                                                                                                                                                                                                                                "
     ]
    },
    {
     "name": "stderr",
     "output_type": "stream",
     "text": [
      "12:05:23 - cmdstanpy - INFO - CmdStan done processing.\n"
     ]
    },
    {
     "name": "stdout",
     "output_type": "stream",
     "text": [
      "\n",
      "                           Feature  mean    sd  hdi_3%  hdi_97%  r_hat\n",
      "beta[0]                  Anion_gap  0.51  0.35   -0.12     1.18    1.0\n",
      "beta[1]                        BMI  0.01  0.17   -0.29     0.33    1.0\n",
      "beta[2]                  Basophils  0.00  0.15   -0.29     0.28    1.0\n",
      "beta[3]                Bicarbonate -0.94  0.60   -2.09     0.16    1.0\n",
      "beta[4]              Blood_calcium -0.41  0.15   -0.70    -0.13    1.0\n",
      "beta[5]            Blood_potassium  0.20  0.16   -0.10     0.50    1.0\n",
      "beta[6]               Blood_sodium -0.15  0.46   -1.04     0.69    1.0\n",
      "beta[7]                   Chloride  0.26  0.60   -0.92     1.34    1.0\n",
      "beta[8]            Creatine_kinase  0.00  0.32   -0.61     0.55    1.0\n",
      "beta[9]                 Creatinine -0.58  0.28   -1.12    -0.07    1.0\n",
      "beta[10]  Diastolic_blood_pressure -0.35  0.19   -0.70     0.00    1.0\n",
      "beta[11]                        EF -0.14  0.14   -0.41     0.13    1.0\n",
      "beta[12]              Hyperlipemia  0.16  0.20   -0.21     0.52    1.0\n",
      "beta[13]                       INR -0.03  0.52   -0.95     1.00    1.0\n",
      "beta[14]               Lactic_acid  0.15  0.15   -0.13     0.43    1.0\n",
      "beta[15]                 Leucocyte  0.19  0.14   -0.07     0.45    1.0\n",
      "beta[16]                Lymphocyte -0.13  0.26   -0.64     0.34    1.0\n",
      "beta[17]                       MCH -0.05  0.71   -1.36     1.28    1.0\n",
      "beta[18]                      MCHC -0.08  0.37   -0.80     0.57    1.0\n",
      "beta[19]                       MCV  0.05  0.60   -1.07     1.19    1.0\n",
      "beta[20]             Magnesium_ion  0.19  0.15   -0.09     0.47    1.0\n",
      "beta[21]                 NT_proBNP  0.11  0.13   -0.13     0.36    1.0\n",
      "beta[22]               Neutrophils  0.26  0.22   -0.15     0.67    1.0\n",
      "beta[23]                      PCO2  1.21  0.30    0.64     1.78    1.0\n",
      "beta[24]                        PH  0.61  0.22    0.21     1.02    1.0\n",
      "beta[25]                        PT  0.01  0.53   -0.98     1.00    1.0\n",
      "beta[26]                 Platelets -0.24  0.15   -0.53     0.02    1.0\n",
      "beta[27]                       RBC -0.40  0.61   -1.51     0.78    1.0\n",
      "beta[28]                       RDW  0.18  0.14   -0.09     0.44    1.0\n",
      "beta[29]             Renal_failure -0.45  0.21   -0.87    -0.08    1.0\n",
      "beta[30]          Respiratory_rate  0.02  0.14   -0.23     0.29    1.0\n",
      "beta[31]                     SP_O2 -0.29  0.13   -0.54    -0.07    1.0\n",
      "beta[32]   Systolic_blood_pressure  0.02  0.17   -0.30     0.34    1.0\n",
      "beta[33]             Urea_nitrogen  0.64  0.21    0.27     1.04    1.0\n",
      "beta[34]              Urine_output -0.12  0.16   -0.43     0.18    1.0\n",
      "beta[35]                       age  0.14  0.18   -0.17     0.49    1.0\n",
      "beta[36]        atrialfibrillation  0.30  0.20   -0.09     0.67    1.0\n",
      "beta[37]              comorb_score -0.59  0.46   -1.43     0.29    1.0\n",
      "beta[38]         deficiencyanemias  0.04  0.20   -0.35     0.42    1.0\n",
      "beta[39]                depression  0.02  0.17   -0.30     0.34    1.0\n",
      "beta[40]                  diabetes  0.02  0.21   -0.35     0.42    1.0\n",
      "beta[41]                   gendera -0.08  0.19   -0.46     0.26    1.0\n",
      "beta[42]                   glucose -0.03  0.15   -0.30     0.25    1.0\n",
      "beta[43]                heart_rate  0.39  0.15    0.09     0.67    1.0\n",
      "beta[44]                hematocrit  0.29  0.56   -0.73     1.41    1.0\n",
      "beta[45]              hypertensive  0.19  0.19   -0.16     0.55    1.0\n",
      "beta[46]               temperature -0.21  0.14   -0.47     0.07    1.0\n"
     ]
    },
    {
     "data": {
      "image/png": "[encoded data removed]",
      "text/plain": [
       "<Figure size 1200x200 with 2 Axes>"
      ]
     },
     "metadata": {},
     "output_type": "display_data"
    },
    {
     "name": "stderr",
     "output_type": "stream",
     "text": [
      "12:05:25 - cmdstanpy - INFO - CmdStan start processing\n"
     ]
    },
    {
     "name": "stdout",
     "output_type": "stream",
     "text": [
      "Selected features: Index(['Blood_calcium', 'Creatinine', 'PCO2', 'PH', 'Renal_failure', 'SP_O2',\n",
      "       'Urea_nitrogen', 'heart_rate'],\n",
      "      dtype='object')\n",
      "Train AUC: 0.8650372404919209\n"
     ]
    },
    {
     "data": {
      "application/vnd.jupyter.widget-view+json": {
       "model_id": "1601331f805c4832a048c02ed90eeaf1",
       "version_major": 2,
       "version_minor": 0
      },
      "text/plain": [
       "chain 1 |          | 00:00 Status"
      ]
     },
     "metadata": {},
     "output_type": "display_data"
    },
    {
     "data": {
      "application/vnd.jupyter.widget-view+json": {
       "model_id": "ebe6d44f28d54e0f945c5b1f853ca5cc",
       "version_major": 2,
       "version_minor": 0
      },
      "text/plain": [
       "chain 2 |          | 00:00 Status"
      ]
     },
     "metadata": {},
     "output_type": "display_data"
    },
    {
     "data": {
      "application/vnd.jupyter.widget-view+json": {
       "model_id": "710b1622231c43e4bcda83b9b34f08f0",
       "version_major": 2,
       "version_minor": 0
      },
      "text/plain": [
       "chain 3 |          | 00:00 Status"
      ]
     },
     "metadata": {},
     "output_type": "display_data"
    },
    {
     "data": {
      "application/vnd.jupyter.widget-view+json": {
       "model_id": "c6d0a6cb9e01455cb2925f900647350b",
       "version_major": 2,
       "version_minor": 0
      },
      "text/plain": [
       "chain 4 |          | 00:00 Status"
      ]
     },
     "metadata": {},
     "output_type": "display_data"
    },
    {
     "name": "stdout",
     "output_type": "stream",
     "text": [
      "                                                                                                                                                                                                                                                                                                                                "
     ]
    },
    {
     "name": "stderr",
     "output_type": "stream",
     "text": [
      "12:05:27 - cmdstanpy - INFO - CmdStan done processing.\n"
     ]
    },
    {
     "name": "stdout",
     "output_type": "stream",
     "text": [
      "\n",
      "Test AUC: 0.9287666307083784\n"
     ]
    }
   ],
   "source": [
    "import pandas as pd\n",
    "import numpy as np\n",
    "from cmdstanpy import CmdStanModel\n",
    "from sklearn.preprocessing import StandardScaler\n",
    "from sklearn.model_selection import train_test_split\n",
    "from sklearn.metrics import roc_auc_score\n",
    "import arviz as az\n",
    "import matplotlib.pyplot as plt\n",
    "\n",
    "# Load the data\n",
    "data = pd.read_csv(\"RF_imputation_NEW.csv\")\n",
    "\n",
    "# Drop unnecessary columns\n",
    "data.drop(columns=['deathtime', 'survival_time', 'LOS', 'Unnamed_0', 'V1', 'admittime', 'ID', 'group', 'tLOS', 'subject_id', 'COPD', 'CHD_with_no_MI'], inplace=True)\n",
    "\n",
    "# Ensure the 'outcome' column is present and clean\n",
    "if 'outcome' not in data.columns:\n",
    "    raise ValueError(\"The 'outcome' column does not exist in the dataframe.\")\n",
    "if not data['outcome'].isin([0, 1]).all():\n",
    "    raise ValueError(\"The 'outcome' column contains values other than 0 and 1.\")\n",
    "\n",
    "# Convert 'outcome' to integers\n",
    "data['outcome'] = data['outcome'].astype(int)\n",
    "\n",
    "# Normalize the predictors\n",
    "predictor_names = data.columns.difference(['outcome'])\n",
    "scaler = StandardScaler()\n",
    "data[predictor_names] = scaler.fit_transform(data[predictor_names])\n",
    "\n",
    "# Split the data into Training and Validation Sets\n",
    "train_data, valid_data = train_test_split(data, test_size=0.3, random_state=532)\n",
    "\n",
    "# Prepare data for Stan model\n",
    "stan_data = {\n",
    "    'N': train_data.shape[0],\n",
    "    'K': len(predictor_names),\n",
    "    'X': train_data[predictor_names].values,\n",
    "    'y': train_data['outcome'].values\n",
    "}\n",
    "\n",
    "# Compile Stan model\n",
    "model = CmdStanModel(stan_file='logistic_regression.stan')\n",
    "\n",
    "# Sample from the posterior\n",
    "fit = model.sample(data=stan_data, seed=532, chains=4, parallel_chains=4, iter_sampling=2000, iter_warmup=1000)\n",
    "\n",
    "# Extract and summarize all coefficients\n",
    "beta_summary = az.summary(fit, var_names=['beta'], round_to=2)\n",
    "beta_summary['Feature'] = predictor_names\n",
    "\n",
    "print(beta_summary[['Feature', 'mean', 'sd', 'hdi_3%', 'hdi_97%', 'r_hat']])\n",
    "\n",
    "# To visualize the coefficients\n",
    "az.plot_trace(fit, var_names=['beta'])\n",
    "plt.show()\n",
    "\n",
    "# Calculate the mean and HDI (Highest Density Interval) for the coefficients\n",
    "beta_samples = fit.stan_variable('beta')\n",
    "alpha_samples = fit.stan_variable('alpha')\n",
    "beta_means = beta_samples.mean(axis=0)\n",
    "beta_hdi = np.percentile(beta_samples, [2.5, 97.5], axis=0)\n",
    "\n",
    "# Selected features based on HDI not including zero\n",
    "selected_features = predictor_names[(beta_hdi[0] > 0) | (beta_hdi[1] < 0)]\n",
    "print(\"Selected features:\", selected_features)\n",
    "\n",
    "# Posterior predictive checks\n",
    "y_pred_train = fit.stan_variable('y_pred').mean(axis=0)\n",
    "train_auc_value = roc_auc_score(train_data['outcome'], y_pred_train)\n",
    "print(\"Train AUC:\", train_auc_value)\n",
    "\n",
    "# Prepare validation data for prediction\n",
    "stan_data_valid = {\n",
    "    'N': valid_data.shape[0],\n",
    "    'K': len(predictor_names),\n",
    "    'X': valid_data[predictor_names].values,\n",
    "    'y': valid_data['outcome'].values\n",
    "}\n",
    "\n",
    "# Generate predictions for validation set\n",
    "fit_valid = model.sample(data=stan_data_valid, seed=532, chains=4, parallel_chains=4, iter_sampling=2000, iter_warmup=1000)\n",
    "\n",
    "# Extract and calculate validation predictions\n",
    "y_pred_valid = fit_valid.stan_variable('y_pred').mean(axis=0)\n",
    "test_auc_value = roc_auc_score(valid_data['outcome'], y_pred_valid)\n",
    "print(\"Test AUC:\", test_auc_value)\n"
   ]
  },
  {
   "cell_type": "markdown",
   "id": "d6efd7f2-d6ba-47fe-af46-7adfb914788d",
   "metadata": {},
   "source": [
    "### Normal Prior"
   ]
  },
  {
   "cell_type": "code",
   "execution_count": null,
   "id": "182d48da-a827-4940-bc9f-20e64c90b491",
   "metadata": {},
   "outputs": [],
   "source": []
  },
  {
   "cell_type": "code",
   "execution_count": 7,
   "id": "2fb3b180-e761-4a4d-8ca9-7ddbc52a9a61",
   "metadata": {
    "scrolled": true
   },
   "outputs": [
    {
     "name": "stderr",
     "output_type": "stream",
     "text": [
      "12:05:36 - cmdstanpy - INFO - CmdStan start processing\n"
     ]
    },
    {
     "data": {
      "application/vnd.jupyter.widget-view+json": {
       "model_id": "3533d14459324a8b8583155bcfec3e89",
       "version_major": 2,
       "version_minor": 0
      },
      "text/plain": [
       "chain 1 |          | 00:00 Status"
      ]
     },
     "metadata": {},
     "output_type": "display_data"
    },
    {
     "data": {
      "application/vnd.jupyter.widget-view+json": {
       "model_id": "fe8379c368d04b8585d5008218d56304",
       "version_major": 2,
       "version_minor": 0
      },
      "text/plain": [
       "chain 2 |          | 00:00 Status"
      ]
     },
     "metadata": {},
     "output_type": "display_data"
    },
    {
     "data": {
      "application/vnd.jupyter.widget-view+json": {
       "model_id": "72cff35b85e643299d37d581ab42bdd3",
       "version_major": 2,
       "version_minor": 0
      },
      "text/plain": [
       "chain 3 |          | 00:00 Status"
      ]
     },
     "metadata": {},
     "output_type": "display_data"
    },
    {
     "data": {
      "application/vnd.jupyter.widget-view+json": {
       "model_id": "999603e903c04c738695913bee6d5067",
       "version_major": 2,
       "version_minor": 0
      },
      "text/plain": [
       "chain 4 |          | 00:00 Status"
      ]
     },
     "metadata": {},
     "output_type": "display_data"
    },
    {
     "name": "stdout",
     "output_type": "stream",
     "text": [
      "                                                                                                                                                                                                                                                                                                                                "
     ]
    },
    {
     "name": "stderr",
     "output_type": "stream",
     "text": [
      "12:05:42 - cmdstanpy - INFO - CmdStan done processing.\n"
     ]
    },
    {
     "name": "stdout",
     "output_type": "stream",
     "text": [
      "\n"
     ]
    },
    {
     "name": "stderr",
     "output_type": "stream",
     "text": [
      "12:05:43 - cmdstanpy - INFO - CmdStan start processing\n"
     ]
    },
    {
     "name": "stdout",
     "output_type": "stream",
     "text": [
      "                           Feature  mean    sd  hdi_3%  hdi_97%  r_hat\n",
      "beta[0]                  Anion_gap  0.51  0.35   -0.17     1.15    1.0\n",
      "beta[1]                        BMI -0.01  0.16   -0.31     0.30    1.0\n",
      "beta[2]                  Basophils  0.00  0.15   -0.29     0.28    1.0\n",
      "beta[3]                Bicarbonate -0.94  0.61   -2.06     0.22    1.0\n",
      "beta[4]              Blood_calcium -0.42  0.16   -0.70    -0.12    1.0\n",
      "beta[5]            Blood_potassium  0.20  0.16   -0.11     0.50    1.0\n",
      "beta[6]               Blood_sodium -0.12  0.47   -0.98     0.77    1.0\n",
      "beta[7]             CHD_with_no_MI  0.16  0.19   -0.20     0.52    1.0\n",
      "beta[8]                       COPD -0.44  0.22   -0.87    -0.04    1.0\n",
      "beta[9]                   Chloride  0.23  0.60   -0.93     1.35    1.0\n",
      "beta[10]           Creatine_kinase -0.04  0.34   -0.68     0.54    1.0\n",
      "beta[11]                Creatinine -0.64  0.29   -1.16    -0.10    1.0\n",
      "beta[12]  Diastolic_blood_pressure -0.35  0.19   -0.70     0.01    1.0\n",
      "beta[13]                        EF -0.10  0.15   -0.35     0.19    1.0\n",
      "beta[14]              Hyperlipemia  0.04  0.27   -0.46     0.56    1.0\n",
      "beta[15]                       INR -0.06  0.53   -1.05     0.91    1.0\n",
      "beta[16]               Lactic_acid  0.16  0.15   -0.14     0.44    1.0\n",
      "beta[17]                 Leucocyte  0.22  0.14   -0.04     0.49    1.0\n",
      "beta[18]                Lymphocyte -0.15  0.27   -0.64     0.39    1.0\n",
      "beta[19]                       MCH -0.06  0.72   -1.43     1.26    1.0\n",
      "beta[20]                      MCHC -0.07  0.37   -0.76     0.63    1.0\n",
      "beta[21]                       MCV  0.06  0.61   -1.06     1.21    1.0\n",
      "beta[22]             Magnesium_ion  0.20  0.15   -0.06     0.49    1.0\n",
      "beta[23]                 NT_proBNP  0.10  0.13   -0.16     0.34    1.0\n",
      "beta[24]               Neutrophils  0.24  0.24   -0.21     0.68    1.0\n",
      "beta[25]                      PCO2  1.25  0.31    0.67     1.85    1.0\n",
      "beta[26]                        PH  0.55  0.22    0.15     0.98    1.0\n",
      "beta[27]                        PT  0.03  0.54   -0.96     1.05    1.0\n",
      "beta[28]                 Platelets -0.25  0.15   -0.55     0.01    1.0\n",
      "beta[29]                       RBC -0.44  0.62   -1.56     0.72    1.0\n",
      "beta[30]                       RDW  0.17  0.15   -0.10     0.45    1.0\n",
      "beta[31]             Renal_failure -0.53  0.29   -1.09    -0.00    1.0\n",
      "beta[32]          Respiratory_rate  0.01  0.14   -0.26     0.27    1.0\n",
      "beta[33]                     SP_O2 -0.33  0.13   -0.57    -0.09    1.0\n",
      "beta[34]   Systolic_blood_pressure  0.05  0.18   -0.28     0.38    1.0\n",
      "beta[35]             Urea_nitrogen  0.66  0.21    0.26     1.04    1.0\n",
      "beta[36]              Urine_output -0.15  0.16   -0.47     0.15    1.0\n",
      "beta[37]                       age  0.13  0.18   -0.19     0.47    1.0\n",
      "beta[38]        atrialfibrillation  0.18  0.28   -0.33     0.71    1.0\n",
      "beta[39]              comorb_score -0.27  0.76   -1.62     1.22    1.0\n",
      "beta[40]         deficiencyanemias -0.05  0.27   -0.57     0.45    1.0\n",
      "beta[41]                depression -0.06  0.22   -0.46     0.34    1.0\n",
      "beta[42]                  diabetes -0.12  0.28   -0.63     0.43    1.0\n",
      "beta[43]                   gendera -0.21  0.28   -0.74     0.30    1.0\n",
      "beta[44]                   glucose -0.00  0.15   -0.28     0.27    1.0\n",
      "beta[45]                heart_rate  0.39  0.15    0.10     0.67    1.0\n",
      "beta[46]                hematocrit  0.32  0.58   -0.76     1.37    1.0\n",
      "beta[47]              hypertensive  0.09  0.26   -0.36     0.58    1.0\n",
      "beta[48]               temperature -0.22  0.14   -0.48     0.05    1.0\n",
      "Selected features: Index(['Blood_calcium', 'COPD', 'Creatinine', 'PCO2', 'PH', 'SP_O2',\n",
      "       'Urea_nitrogen', 'heart_rate'],\n",
      "      dtype='object')\n",
      "Train AUC: 0.8700294459703559\n"
     ]
    },
    {
     "data": {
      "application/vnd.jupyter.widget-view+json": {
       "model_id": "38cfddd92250414482580b3e7766ceb6",
       "version_major": 2,
       "version_minor": 0
      },
      "text/plain": [
       "chain 1 |          | 00:00 Status"
      ]
     },
     "metadata": {},
     "output_type": "display_data"
    },
    {
     "data": {
      "application/vnd.jupyter.widget-view+json": {
       "model_id": "03a95cbb9955434891299884f5bb47ef",
       "version_major": 2,
       "version_minor": 0
      },
      "text/plain": [
       "chain 2 |          | 00:00 Status"
      ]
     },
     "metadata": {},
     "output_type": "display_data"
    },
    {
     "data": {
      "application/vnd.jupyter.widget-view+json": {
       "model_id": "47113f9ec3b34913a61ddbdab5a3cd40",
       "version_major": 2,
       "version_minor": 0
      },
      "text/plain": [
       "chain 3 |          | 00:00 Status"
      ]
     },
     "metadata": {},
     "output_type": "display_data"
    },
    {
     "data": {
      "application/vnd.jupyter.widget-view+json": {
       "model_id": "d42615f3c6fb49658a9154afcefbb334",
       "version_major": 2,
       "version_minor": 0
      },
      "text/plain": [
       "chain 4 |          | 00:00 Status"
      ]
     },
     "metadata": {},
     "output_type": "display_data"
    },
    {
     "name": "stdout",
     "output_type": "stream",
     "text": [
      "                                                                                                                                                                                                                                                                                                                                "
     ]
    },
    {
     "name": "stderr",
     "output_type": "stream",
     "text": [
      "12:05:45 - cmdstanpy - INFO - CmdStan done processing.\n"
     ]
    },
    {
     "name": "stdout",
     "output_type": "stream",
     "text": [
      "\n",
      "Test AUC: 0.9293779216109314\n"
     ]
    }
   ],
   "source": [
    "import pandas as pd\n",
    "import numpy as np\n",
    "from cmdstanpy import CmdStanModel\n",
    "from sklearn.preprocessing import StandardScaler\n",
    "from sklearn.model_selection import train_test_split\n",
    "from sklearn.metrics import roc_auc_score\n",
    "import arviz as az\n",
    "\n",
    "# Load the data\n",
    "data = pd.read_csv(\"RF_imputation_NEW.csv\")\n",
    "\n",
    "# Drop unnecessary columns\n",
    "data.drop(columns=['deathtime', 'survival_time', 'LOS', 'Unnamed_0', 'V1', 'admittime', 'ID', 'group', 'tLOS', 'subject_id'], inplace=True)\n",
    "\n",
    "# Ensure the 'outcome' column is present and clean\n",
    "if 'outcome' not in data.columns:\n",
    "    raise ValueError(\"The 'outcome' column does not exist in the dataframe.\")\n",
    "if not data['outcome'].isin([0, 1]).all():\n",
    "    raise ValueError(\"The 'outcome' column contains values other than 0 and 1.\")\n",
    "\n",
    "# Convert 'outcome' to integers\n",
    "data['outcome'] = data['outcome'].astype(int)\n",
    "\n",
    "# Normalize the predictors\n",
    "predictor_names = data.columns.difference(['outcome'])\n",
    "scaler = StandardScaler()\n",
    "data[predictor_names] = scaler.fit_transform(data[predictor_names])\n",
    "\n",
    "# Split the data into Training and Validation Sets\n",
    "train_data, valid_data = train_test_split(data, test_size=0.3, random_state=532)\n",
    "\n",
    "# Prepare data for Stan model\n",
    "stan_data = {\n",
    "    'N': train_data.shape[0],\n",
    "    'K': len(predictor_names),\n",
    "    'X': train_data[predictor_names].values,\n",
    "    'y': train_data['outcome'].values\n",
    "}\n",
    "\n",
    "# Compile Stan model\n",
    "model = CmdStanModel(stan_file='logistic_regression.stan')\n",
    "\n",
    "# Sample from the posterior\n",
    "fit = model.sample(data=stan_data, seed=213, chains=4, parallel_chains=4, iter_sampling=2000, iter_warmup=1000)\n",
    "\n",
    "# Extract and summarize all coefficients\n",
    "beta_summary = az.summary(fit, var_names=['beta'], round_to=2)\n",
    "beta_summary['Feature'] = predictor_names\n",
    "\n",
    "# Print the summary of all features\n",
    "print(beta_summary[['Feature', 'mean', 'sd', 'hdi_3%', 'hdi_97%', 'r_hat']])\n",
    "\n",
    "# Calculate the mean and HDI (Highest Density Interval) for the coefficients\n",
    "beta_samples = fit.stan_variable('beta')\n",
    "beta_hdi = np.percentile(beta_samples, [2.5, 97.5], axis=0)\n",
    "\n",
    "# Selected features based on HDI not including zero\n",
    "selected_features = predictor_names[(beta_hdi[0] > 0) | (beta_hdi[1] < 0)]\n",
    "print(\"Selected features:\", selected_features)\n",
    "\n",
    "# Posterior predictive checks\n",
    "y_pred_train = fit.stan_variable('y_pred').mean(axis=0)\n",
    "train_auc_value = roc_auc_score(train_data['outcome'], y_pred_train)\n",
    "print(\"Train AUC:\", train_auc_value)\n",
    "\n",
    "# Prepare validation data for prediction\n",
    "stan_data_valid = {\n",
    "    'N': valid_data.shape[0],\n",
    "    'K': len(predictor_names),\n",
    "    'X': valid_data[predictor_names].values,\n",
    "    'y': valid_data['outcome'].values\n",
    "}\n",
    "\n",
    "# Generate predictions for validation set\n",
    "fit_valid = model.sample(data=stan_data_valid, seed=532, chains=4, parallel_chains=4, iter_sampling=2000, iter_warmup=1000)\n",
    "\n",
    "# Extract and calculate validation predictions\n",
    "y_pred_valid = fit_valid.stan_variable('y_pred').mean(axis=0)\n",
    "test_auc_value = roc_auc_score(valid_data['outcome'], y_pred_valid)\n",
    "print(\"Test AUC:\", test_auc_value)\n"
   ]
  },
  {
   "cell_type": "code",
   "execution_count": null,
   "id": "c0489708-5ce5-4866-a0f5-ac57fafd5c0a",
   "metadata": {},
   "outputs": [],
   "source": []
  },
  {
   "cell_type": "code",
   "execution_count": null,
   "id": "09da5b95-36e2-425d-a68a-35088be2027a",
   "metadata": {},
   "outputs": [],
   "source": []
  },
  {
   "cell_type": "code",
   "execution_count": null,
   "id": "2d6ebc3d-6142-47a2-911f-58544b841c0a",
   "metadata": {},
   "outputs": [],
   "source": []
  },
  {
   "cell_type": "code",
   "execution_count": null,
   "id": "3cdc3e30-a6a8-42a6-a8bb-c16f2cbfc871",
   "metadata": {},
   "outputs": [],
   "source": []
  },
  {
   "cell_type": "code",
   "execution_count": null,
   "id": "a074feab-cfb4-4825-93e4-a57b0181c97c",
   "metadata": {},
   "outputs": [],
   "source": []
  },
  {
   "cell_type": "code",
   "execution_count": null,
   "id": "0d1f4079-c5d9-4d8a-be07-d18bf5fe5e97",
   "metadata": {},
   "outputs": [],
   "source": []
  },
  {
   "cell_type": "code",
   "execution_count": 8,
   "id": "2a82e960-8ae7-4a11-b1af-33807b5a7417",
   "metadata": {
    "scrolled": true
   },
   "outputs": [
    {
     "name": "stderr",
     "output_type": "stream",
     "text": [
      "14:29:47 - cmdstanpy - INFO - CmdStan start processing\n"
     ]
    },
    {
     "data": {
      "application/vnd.jupyter.widget-view+json": {
       "model_id": "2a054acb508e47f5bb76d4f0823d607f",
       "version_major": 2,
       "version_minor": 0
      },
      "text/plain": [
       "chain 1 |          | 00:00 Status"
      ]
     },
     "metadata": {},
     "output_type": "display_data"
    },
    {
     "data": {
      "application/vnd.jupyter.widget-view+json": {
       "model_id": "3786402792694d27bbc1d3707b817207",
       "version_major": 2,
       "version_minor": 0
      },
      "text/plain": [
       "chain 2 |          | 00:00 Status"
      ]
     },
     "metadata": {},
     "output_type": "display_data"
    },
    {
     "data": {
      "application/vnd.jupyter.widget-view+json": {
       "model_id": "843e050887874c05a846b07990bc3291",
       "version_major": 2,
       "version_minor": 0
      },
      "text/plain": [
       "chain 3 |          | 00:00 Status"
      ]
     },
     "metadata": {},
     "output_type": "display_data"
    },
    {
     "data": {
      "application/vnd.jupyter.widget-view+json": {
       "model_id": "9f2b88f35bed45958e0f1bf1ed1d8ed5",
       "version_major": 2,
       "version_minor": 0
      },
      "text/plain": [
       "chain 4 |          | 00:00 Status"
      ]
     },
     "metadata": {},
     "output_type": "display_data"
    },
    {
     "name": "stdout",
     "output_type": "stream",
     "text": [
      "                                                                                                                                                                                                                                                                                                                                "
     ]
    },
    {
     "name": "stderr",
     "output_type": "stream",
     "text": [
      "14:29:52 - cmdstanpy - INFO - CmdStan done processing.\n"
     ]
    },
    {
     "name": "stdout",
     "output_type": "stream",
     "text": [
      "\n",
      "MCMC diagnostics:\n",
      "           mean     sd  hdi_3%  hdi_97%  mcse_mean  mcse_sd  ess_bulk  \\\n",
      "beta[0]   0.401  0.353  -0.251    1.075      0.006    0.004    3505.0   \n",
      "beta[1]  -0.161  0.176  -0.489    0.170      0.002    0.002    9481.0   \n",
      "beta[2]  -0.380  0.243  -0.824    0.086      0.003    0.002    8397.0   \n",
      "beta[3]  -0.705  0.606  -1.887    0.383      0.010    0.007    3494.0   \n",
      "beta[4]  -0.387  0.153  -0.664   -0.087      0.002    0.001    9403.0   \n",
      "beta[5]   0.203  0.158  -0.080    0.520      0.002    0.001    8138.0   \n",
      "beta[6]  -0.112  0.468  -0.964    0.795      0.008    0.006    3419.0   \n",
      "beta[7]   0.134  0.603  -0.993    1.273      0.010    0.007    3415.0   \n",
      "beta[8]   0.143  0.153  -0.126    0.425      0.002    0.002    9691.0   \n",
      "beta[9]  -0.282  0.243  -0.721    0.185      0.003    0.002    8803.0   \n",
      "beta[10] -0.268  0.179  -0.590    0.070      0.002    0.001    8161.0   \n",
      "beta[11] -0.005  0.150  -0.295    0.265      0.002    0.002    8602.0   \n",
      "beta[12]  0.124  0.197  -0.262    0.477      0.003    0.002    4006.0   \n",
      "beta[13]  0.401  0.492  -0.531    1.309      0.007    0.005    5602.0   \n",
      "beta[14]  0.374  0.149   0.091    0.654      0.002    0.001    8287.0   \n",
      "beta[15]  0.387  0.153   0.107    0.671      0.002    0.001    8159.0   \n",
      "beta[16] -0.106  0.269  -0.605    0.398      0.003    0.003    6865.0   \n",
      "beta[17]  0.080  0.718  -1.270    1.411      0.012    0.008    3845.0   \n",
      "beta[18] -0.184  0.369  -0.885    0.493      0.006    0.004    3807.0   \n",
      "beta[19]  0.115  0.601  -1.031    1.195      0.010    0.007    3880.0   \n",
      "beta[20]  0.176  0.146  -0.098    0.452      0.001    0.001    9862.0   \n",
      "beta[21] -0.060  0.159  -0.361    0.236      0.002    0.002    9084.0   \n",
      "beta[22]  0.007  0.233  -0.424    0.450      0.003    0.002    6994.0   \n",
      "beta[23]  1.013  0.309   0.440    1.596      0.004    0.003    5537.0   \n",
      "beta[24]  0.355  0.217  -0.050    0.761      0.003    0.002    5579.0   \n",
      "beta[25] -0.271  0.497  -1.252    0.619      0.007    0.005    5559.0   \n",
      "beta[26] -0.111  0.153  -0.401    0.174      0.002    0.001    8650.0   \n",
      "beta[27]  0.052  0.594  -1.022    1.190      0.008    0.006    5234.0   \n",
      "beta[28]  0.333  0.157   0.033    0.626      0.002    0.001    9053.0   \n",
      "beta[29] -0.164  0.215  -0.576    0.238      0.003    0.002    4663.0   \n",
      "beta[30] -0.055  0.146  -0.322    0.223      0.002    0.001    9412.0   \n",
      "beta[31] -0.289  0.131  -0.540   -0.042      0.001    0.001   11171.0   \n",
      "beta[32]  0.164  0.170  -0.151    0.492      0.002    0.001    8905.0   \n",
      "beta[33]  0.513  0.204   0.139    0.908      0.002    0.002    7809.0   \n",
      "beta[34] -0.203  0.176  -0.526    0.135      0.002    0.002   10148.0   \n",
      "beta[35]  0.120  0.181  -0.216    0.464      0.002    0.002    9460.0   \n",
      "beta[36]  0.335  0.208  -0.041    0.735      0.003    0.002    3662.0   \n",
      "beta[37] -0.785  0.449  -1.584    0.090      0.009    0.006    2496.0   \n",
      "beta[38]  0.025  0.206  -0.371    0.408      0.003    0.002    3747.0   \n",
      "beta[39]  0.038  0.184  -0.310    0.382      0.003    0.002    5194.0   \n",
      "beta[40]  0.183  0.205  -0.187    0.572      0.003    0.002    4392.0   \n",
      "beta[41]  0.238  0.191  -0.117    0.596      0.003    0.002    3904.0   \n",
      "beta[42] -0.189  0.157  -0.484    0.100      0.002    0.001   10035.0   \n",
      "beta[43]  0.459  0.160   0.164    0.770      0.002    0.001    8755.0   \n",
      "beta[44]  0.048  0.570  -1.043    1.075      0.008    0.006    5168.0   \n",
      "beta[45]  0.051  0.188  -0.311    0.387      0.003    0.002    3603.0   \n",
      "beta[46] -0.133  0.148  -0.410    0.151      0.001    0.001   10028.0   \n",
      "\n",
      "          ess_tail  r_hat  \n",
      "beta[0]     5055.0    1.0  \n",
      "beta[1]     6052.0    1.0  \n",
      "beta[2]     6202.0    1.0  \n",
      "beta[3]     4979.0    1.0  \n",
      "beta[4]     6680.0    1.0  \n",
      "beta[5]     6400.0    1.0  \n",
      "beta[6]     4786.0    1.0  \n",
      "beta[7]     4717.0    1.0  \n",
      "beta[8]     5679.0    1.0  \n",
      "beta[9]     6242.0    1.0  \n",
      "beta[10]    6512.0    1.0  \n",
      "beta[11]    5909.0    1.0  \n",
      "beta[12]    5436.0    1.0  \n",
      "beta[13]    6068.0    1.0  \n",
      "beta[14]    6214.0    1.0  \n",
      "beta[15]    6692.0    1.0  \n",
      "beta[16]    5467.0    1.0  \n",
      "beta[17]    5209.0    1.0  \n",
      "beta[18]    4983.0    1.0  \n",
      "beta[19]    5267.0    1.0  \n",
      "beta[20]    6327.0    1.0  \n",
      "beta[21]    5789.0    1.0  \n",
      "beta[22]    5932.0    1.0  \n",
      "beta[23]    5544.0    1.0  \n",
      "beta[24]    6223.0    1.0  \n",
      "beta[25]    6031.0    1.0  \n",
      "beta[26]    6079.0    1.0  \n",
      "beta[27]    5268.0    1.0  \n",
      "beta[28]    6244.0    1.0  \n",
      "beta[29]    5763.0    1.0  \n",
      "beta[30]    6208.0    1.0  \n",
      "beta[31]    6360.0    1.0  \n",
      "beta[32]    6212.0    1.0  \n",
      "beta[33]    5824.0    1.0  \n",
      "beta[34]    6253.0    1.0  \n",
      "beta[35]    6114.0    1.0  \n",
      "beta[36]    5518.0    1.0  \n",
      "beta[37]    3682.0    1.0  \n",
      "beta[38]    4132.0    1.0  \n",
      "beta[39]    6324.0    1.0  \n",
      "beta[40]    5690.0    1.0  \n",
      "beta[41]    5166.0    1.0  \n",
      "beta[42]    6226.0    1.0  \n",
      "beta[43]    7141.0    1.0  \n",
      "beta[44]    5185.0    1.0  \n",
      "beta[45]    4876.0    1.0  \n",
      "beta[46]    6487.0    1.0  \n",
      "R-hat diagnostic:\n",
      "<xarray.Dataset>\n",
      "Dimensions:       (beta_dim_0: 47, y_pred_dim_0: 823)\n",
      "Coordinates:\n",
      "  * beta_dim_0    (beta_dim_0) int64 0 1 2 3 4 5 6 7 ... 39 40 41 42 43 44 45 46\n",
      "  * y_pred_dim_0  (y_pred_dim_0) int64 0 1 2 3 4 5 6 ... 817 818 819 820 821 822\n",
      "Data variables:\n",
      "    alpha         float64 0.9999\n",
      "    beta          (beta_dim_0) float64 1.0 1.001 1.0 1.0 ... 1.0 1.001 1.0\n",
      "    y_pred        (y_pred_dim_0) float64 0.9998 0.9999 0.9998 ... 1.0 1.0 1.0\n",
      "Effective sample size (ESS):\n",
      "<xarray.Dataset>\n",
      "Dimensions:       (beta_dim_0: 47, y_pred_dim_0: 823)\n",
      "Coordinates:\n",
      "  * beta_dim_0    (beta_dim_0) int64 0 1 2 3 4 5 6 7 ... 39 40 41 42 43 44 45 46\n",
      "  * y_pred_dim_0  (y_pred_dim_0) int64 0 1 2 3 4 5 6 ... 817 818 819 820 821 822\n",
      "Data variables:\n",
      "    alpha         float64 7.667e+03\n",
      "    beta          (beta_dim_0) float64 3.505e+03 9.481e+03 ... 1.003e+04\n",
      "    y_pred        (y_pred_dim_0) float64 7.596e+03 7.961e+03 ... 7.927e+03\n",
      "                           Feature  mean    sd  hdi_3%  hdi_97%  r_hat\n",
      "beta[0]                  Anion_gap  0.40  0.35   -0.25     1.08    1.0\n",
      "beta[1]                        BMI -0.16  0.18   -0.49     0.17    1.0\n",
      "beta[2]                  Basophils -0.38  0.24   -0.82     0.09    1.0\n",
      "beta[3]                Bicarbonate -0.70  0.61   -1.89     0.38    1.0\n",
      "beta[4]              Blood_calcium -0.39  0.15   -0.66    -0.09    1.0\n",
      "beta[5]            Blood_potassium  0.20  0.16   -0.08     0.52    1.0\n",
      "beta[6]               Blood_sodium -0.11  0.47   -0.96     0.79    1.0\n",
      "beta[7]                   Chloride  0.13  0.60   -0.99     1.27    1.0\n",
      "beta[8]            Creatine_kinase  0.14  0.15   -0.13     0.43    1.0\n",
      "beta[9]                 Creatinine -0.28  0.24   -0.72     0.19    1.0\n",
      "beta[10]  Diastolic_blood_pressure -0.27  0.18   -0.59     0.07    1.0\n",
      "beta[11]                        EF -0.00  0.15   -0.29     0.26    1.0\n",
      "beta[12]              Hyperlipemia  0.12  0.20   -0.26     0.48    1.0\n",
      "beta[13]                       INR  0.40  0.49   -0.53     1.31    1.0\n",
      "beta[14]               Lactic_acid  0.37  0.15    0.09     0.65    1.0\n",
      "beta[15]                 Leucocyte  0.39  0.15    0.11     0.67    1.0\n",
      "beta[16]                Lymphocyte -0.11  0.27   -0.61     0.40    1.0\n",
      "beta[17]                       MCH  0.08  0.72   -1.27     1.41    1.0\n",
      "beta[18]                      MCHC -0.18  0.37   -0.89     0.49    1.0\n",
      "beta[19]                       MCV  0.11  0.60   -1.03     1.20    1.0\n",
      "beta[20]             Magnesium_ion  0.18  0.15   -0.10     0.45    1.0\n",
      "beta[21]                 NT_proBNP -0.06  0.16   -0.36     0.24    1.0\n",
      "beta[22]               Neutrophils  0.01  0.23   -0.42     0.45    1.0\n",
      "beta[23]                      PCO2  1.01  0.31    0.44     1.60    1.0\n",
      "beta[24]                        PH  0.35  0.22   -0.05     0.76    1.0\n",
      "beta[25]                        PT -0.27  0.50   -1.25     0.62    1.0\n",
      "beta[26]                 Platelets -0.11  0.15   -0.40     0.17    1.0\n",
      "beta[27]                       RBC  0.05  0.59   -1.02     1.19    1.0\n",
      "beta[28]                       RDW  0.33  0.16    0.03     0.63    1.0\n",
      "beta[29]             Renal_failure -0.16  0.22   -0.58     0.24    1.0\n",
      "beta[30]          Respiratory_rate -0.06  0.15   -0.32     0.22    1.0\n",
      "beta[31]                     SP_O2 -0.29  0.13   -0.54    -0.04    1.0\n",
      "beta[32]   Systolic_blood_pressure  0.16  0.17   -0.15     0.49    1.0\n",
      "beta[33]             Urea_nitrogen  0.51  0.20    0.14     0.91    1.0\n",
      "beta[34]              Urine_output -0.20  0.18   -0.53     0.14    1.0\n",
      "beta[35]                       age  0.12  0.18   -0.22     0.46    1.0\n",
      "beta[36]        atrialfibrillation  0.33  0.21   -0.04     0.73    1.0\n",
      "beta[37]              comorb_score -0.79  0.45   -1.58     0.09    1.0\n",
      "beta[38]         deficiencyanemias  0.02  0.21   -0.37     0.41    1.0\n",
      "beta[39]                depression  0.04  0.18   -0.31     0.38    1.0\n",
      "beta[40]                  diabetes  0.18  0.20   -0.19     0.57    1.0\n",
      "beta[41]                   gendera  0.24  0.19   -0.12     0.60    1.0\n",
      "beta[42]                   glucose -0.19  0.16   -0.48     0.10    1.0\n",
      "beta[43]                heart_rate  0.46  0.16    0.16     0.77    1.0\n",
      "beta[44]                hematocrit  0.05  0.57   -1.04     1.07    1.0\n",
      "beta[45]              hypertensive  0.05  0.19   -0.31     0.39    1.0\n",
      "beta[46]               temperature -0.13  0.15   -0.41     0.15    1.0\n"
     ]
    },
    {
     "name": "stderr",
     "output_type": "stream",
     "text": [
      "14:29:55 - cmdstanpy - INFO - CmdStan start processing\n"
     ]
    },
    {
     "name": "stdout",
     "output_type": "stream",
     "text": [
      "Significant features (HDI not including zero):\n",
      "Index(['Blood_calcium', 'Lactic_acid', 'Leucocyte', 'PCO2', 'RDW', 'SP_O2',\n",
      "       'Urea_nitrogen', 'heart_rate'],\n",
      "      dtype='object')\n",
      "Train AUC: 0.875831952059161\n"
     ]
    },
    {
     "data": {
      "application/vnd.jupyter.widget-view+json": {
       "model_id": "43d571d4dba24c6db8d41f29259b6a4e",
       "version_major": 2,
       "version_minor": 0
      },
      "text/plain": [
       "chain 1 |          | 00:00 Status"
      ]
     },
     "metadata": {},
     "output_type": "display_data"
    },
    {
     "data": {
      "application/vnd.jupyter.widget-view+json": {
       "model_id": "ee0ec482fcf549b7a509ed9ebbd02ac2",
       "version_major": 2,
       "version_minor": 0
      },
      "text/plain": [
       "chain 2 |          | 00:00 Status"
      ]
     },
     "metadata": {},
     "output_type": "display_data"
    },
    {
     "data": {
      "application/vnd.jupyter.widget-view+json": {
       "model_id": "bcd6d841b7aa4d1aa210dce2bcd31aa5",
       "version_major": 2,
       "version_minor": 0
      },
      "text/plain": [
       "chain 3 |          | 00:00 Status"
      ]
     },
     "metadata": {},
     "output_type": "display_data"
    },
    {
     "data": {
      "application/vnd.jupyter.widget-view+json": {
       "model_id": "8c886e96cf254d549c36237d223a708d",
       "version_major": 2,
       "version_minor": 0
      },
      "text/plain": [
       "chain 4 |          | 00:00 Status"
      ]
     },
     "metadata": {},
     "output_type": "display_data"
    },
    {
     "name": "stdout",
     "output_type": "stream",
     "text": [
      "                                                                                                                                                                                                                                                                                                                                "
     ]
    },
    {
     "name": "stderr",
     "output_type": "stream",
     "text": [
      "14:29:57 - cmdstanpy - INFO - CmdStan done processing.\n"
     ]
    },
    {
     "name": "stdout",
     "output_type": "stream",
     "text": [
      "\n",
      "Test AUC: 0.9320843091334895\n"
     ]
    }
   ],
   "source": [
    "import pandas as pd\n",
    "import numpy as np\n",
    "from cmdstanpy import CmdStanModel\n",
    "from sklearn.preprocessing import StandardScaler\n",
    "from sklearn.model_selection import train_test_split\n",
    "from sklearn.metrics import roc_auc_score\n",
    "import arviz as az\n",
    "\n",
    "# Load and preprocess data\n",
    "data = pd.read_csv(\"RF_imputation_NEW.csv\")\n",
    "data.drop(columns=['deathtime', 'survival_time', 'LOS', 'Unnamed_0', 'V1', 'admittime', 'ID', 'group', 'tLOS', 'subject_id', 'COPD', 'CHD_with_no_MI'], inplace=True)\n",
    "data['outcome'] = data['outcome'].astype(int)\n",
    "predictor_names = data.columns.difference(['outcome'])\n",
    "scaler = StandardScaler()\n",
    "data[predictor_names] = scaler.fit_transform(data[predictor_names])\n",
    "train_data, valid_data = train_test_split(data, test_size=0.3, random_state=213)\n",
    "\n",
    "# Prepare data for Stan model\n",
    "stan_data = {\n",
    "    'N': train_data.shape[0],\n",
    "    'K': len(predictor_names),\n",
    "    'X': train_data[predictor_names].values,\n",
    "    'y': train_data['outcome'].values\n",
    "}\n",
    "\n",
    "# Compile and sample from Stan model\n",
    "model = CmdStanModel(stan_file='logistic_regression.stan')\n",
    "fit = model.sample(data=stan_data, seed=213, chains=4, parallel_chains=4, iter_sampling=2000, iter_warmup=1000)\n",
    "\n",
    "# Convert the CmdStanPy output to ArviZ's InferenceData object\n",
    "idata = az.from_cmdstanpy(fit)\n",
    "\n",
    "# Check MCMC diagnostics for convergence and mixing\n",
    "print(\"MCMC diagnostics:\")\n",
    "print(az.summary(idata, var_names=['beta']))  # Summary statistics\n",
    "print(\"R-hat diagnostic:\")\n",
    "print(az.rhat(idata))  # R-hat diagnostic\n",
    "print(\"Effective sample size (ESS):\")\n",
    "print(az.ess(idata))  # Effective sample size\n",
    "\n",
    "# Extract and summarize all coefficients\n",
    "beta_summary = az.summary(idata, var_names=['beta'], round_to=2)\n",
    "beta_summary['Feature'] = predictor_names\n",
    "print(beta_summary[['Feature', 'mean', 'sd', 'hdi_3%', 'hdi_97%', 'r_hat']])\n",
    "\n",
    "# Calculate HDI for coefficients\n",
    "beta_samples = fit.stan_variable('beta')\n",
    "beta_hdi = np.percentile(beta_samples, [2.5, 97.5], axis=0)\n",
    "\n",
    "# Identify significant features based on HDI not including zero\n",
    "significant_features = predictor_names[(beta_hdi[0] > 0) | (beta_hdi[1] < 0)]\n",
    "print(\"Significant features (HDI not including zero):\")\n",
    "print(significant_features)\n",
    "\n",
    "# Compute AUC for training set\n",
    "y_pred_train = fit.stan_variable('y_pred').mean(axis=0)\n",
    "train_auc_value = roc_auc_score(train_data['outcome'], y_pred_train)\n",
    "print(\"Train AUC:\", train_auc_value)\n",
    "\n",
    "# Prepare validation data and compute AUC for test set\n",
    "stan_data_valid = {\n",
    "    'N': valid_data.shape[0],\n",
    "    'K': len(predictor_names),\n",
    "    'X': valid_data[predictor_names].values,\n",
    "    'y': valid_data['outcome'].values\n",
    "}\n",
    "fit_valid = model.sample(data=stan_data_valid, seed=213, chains=4, parallel_chains=4, iter_sampling=2000, iter_warmup=1000)\n",
    "y_pred_valid = fit_valid.stan_variable('y_pred').mean(axis=0)\n",
    "test_auc_value = roc_auc_score(valid_data['outcome'], y_pred_valid)\n",
    "print(\"Test AUC:\", test_auc_value)\n"
   ]
  },
  {
   "cell_type": "markdown",
   "id": "97eeda41-d44d-40db-93f2-3269964b5261",
   "metadata": {},
   "source": [
    "## HORSESHOE PRIOR\n",
    "\n"
   ]
  },
  {
   "cell_type": "code",
   "execution_count": 10,
   "id": "324041e8-f4b1-4c79-96d6-46dc76e90358",
   "metadata": {
    "scrolled": true
   },
   "outputs": [
    {
     "name": "stderr",
     "output_type": "stream",
     "text": [
      "14:53:42 - cmdstanpy - INFO - compiling stan file /Users/peterdunson/Documents/DMML-Survival-Analysis-NEW/logistic_regression_horseshoe.stan to exe file /Users/peterdunson/Documents/DMML-Survival-Analysis-NEW/logistic_regression_horseshoe\n",
      "14:53:51 - cmdstanpy - INFO - compiled model executable: /Users/peterdunson/Documents/DMML-Survival-Analysis-NEW/logistic_regression_horseshoe\n",
      "14:53:52 - cmdstanpy - INFO - CmdStan start processing\n"
     ]
    },
    {
     "data": {
      "application/vnd.jupyter.widget-view+json": {
       "model_id": "e94674a28fe5420287d642d727a25245",
       "version_major": 2,
       "version_minor": 0
      },
      "text/plain": [
       "chain 1 |          | 00:00 Status"
      ]
     },
     "metadata": {},
     "output_type": "display_data"
    },
    {
     "data": {
      "application/vnd.jupyter.widget-view+json": {
       "model_id": "04e43f7646bf43efb19ce650b92d5626",
       "version_major": 2,
       "version_minor": 0
      },
      "text/plain": [
       "chain 2 |          | 00:00 Status"
      ]
     },
     "metadata": {},
     "output_type": "display_data"
    },
    {
     "data": {
      "application/vnd.jupyter.widget-view+json": {
       "model_id": "716ad695693a45c0a0189277c1607743",
       "version_major": 2,
       "version_minor": 0
      },
      "text/plain": [
       "chain 3 |          | 00:00 Status"
      ]
     },
     "metadata": {},
     "output_type": "display_data"
    },
    {
     "data": {
      "application/vnd.jupyter.widget-view+json": {
       "model_id": "4ab8e4ff3c4a447fb54249f90a6d4d1d",
       "version_major": 2,
       "version_minor": 0
      },
      "text/plain": [
       "chain 4 |          | 00:00 Status"
      ]
     },
     "metadata": {},
     "output_type": "display_data"
    },
    {
     "name": "stdout",
     "output_type": "stream",
     "text": [
      "                                                                                                                                                                                                                                                                                                                                "
     ]
    },
    {
     "name": "stderr",
     "output_type": "stream",
     "text": [
      "14:54:04 - cmdstanpy - INFO - CmdStan done processing.\n",
      "14:54:04 - cmdstanpy - WARNING - Non-fatal error during sampling:\n",
      "Exception: bernoulli_logit_lpmf: Logit transformed probability parameter[1] is nan, but must be not nan! (in 'logistic_regression_horseshoe.stan', line 27, column 2 to column 40)\n",
      "Exception: bernoulli_logit_lpmf: Logit transformed probability parameter[1] is nan, but must be not nan! (in 'logistic_regression_horseshoe.stan', line 27, column 2 to column 40)\n",
      "Exception: bernoulli_logit_lpmf: Logit transformed probability parameter[1] is nan, but must be not nan! (in 'logistic_regression_horseshoe.stan', line 27, column 2 to column 40)\n",
      "Consider re-running with show_console=True if the above output is unclear!\n",
      "14:54:04 - cmdstanpy - WARNING - Some chains may have failed to converge.\n",
      "\tChain 1 had 205 divergent transitions (10.2%)\n",
      "\tChain 2 had 90 divergent transitions (4.5%)\n",
      "\tChain 3 had 51 divergent transitions (2.5%)\n",
      "\tChain 4 had 48 divergent transitions (2.4%)\n",
      "\tUse the \"diagnose()\" method on the CmdStanMCMC object to see further information.\n"
     ]
    },
    {
     "name": "stdout",
     "output_type": "stream",
     "text": [
      "\n",
      "MCMC diagnostics:\n",
      "           mean     sd  hdi_3%  hdi_97%  mcse_mean  mcse_sd  ess_bulk  \\\n",
      "beta[0]   0.144  0.181  -0.104    0.512      0.003    0.002    2986.0   \n",
      "beta[1]  -0.054  0.105  -0.287    0.110      0.002    0.001    2511.0   \n",
      "beta[2]  -0.105  0.155  -0.433    0.120      0.002    0.001    4780.0   \n",
      "beta[3]  -0.470  0.346  -1.074    0.052      0.007    0.005    2069.0   \n",
      "beta[4]  -0.206  0.152  -0.492    0.022      0.002    0.002    3653.0   \n",
      "beta[5]   0.078  0.106  -0.069    0.310      0.001    0.001    5414.0   \n",
      "beta[6]  -0.016  0.092  -0.184    0.164      0.001    0.001    4828.0   \n",
      "beta[7]   0.008  0.113  -0.211    0.223      0.002    0.001    5441.0   \n",
      "beta[8]   0.036  0.072  -0.076    0.192      0.001    0.001    6823.0   \n",
      "beta[9]  -0.058  0.127  -0.343    0.134      0.002    0.001    5182.0   \n",
      "beta[10] -0.089  0.115  -0.327    0.081      0.002    0.001    4670.0   \n",
      "beta[11]  0.017  0.073  -0.116    0.172      0.001    0.001    5685.0   \n",
      "beta[12] -0.018  0.085  -0.210    0.137      0.001    0.001    6158.0   \n",
      "beta[13]  0.079  0.121  -0.103    0.322      0.002    0.001    5084.0   \n",
      "beta[14]  0.287  0.143  -0.008    0.518      0.003    0.002    3045.0   \n",
      "beta[15]  0.302  0.149  -0.004    0.547      0.003    0.002    3262.0   \n",
      "beta[16] -0.137  0.171  -0.507    0.086      0.003    0.002    4451.0   \n",
      "beta[17]  0.013  0.101  -0.175    0.227      0.002    0.001    4284.0   \n",
      "beta[18] -0.055  0.106  -0.285    0.117      0.002    0.002    2183.0   \n",
      "beta[19]  0.046  0.100  -0.124    0.258      0.001    0.001    5134.0   \n",
      "beta[20]  0.087  0.112  -0.073    0.326      0.002    0.001    3755.0   \n",
      "beta[21]  0.012  0.077  -0.149    0.172      0.001    0.001    7806.0   \n",
      "beta[22]  0.039  0.100  -0.113    0.280      0.001    0.001    2364.0   \n",
      "beta[23]  0.495  0.302  -0.034    1.001      0.006    0.005    2114.0   \n",
      "beta[24]  0.013  0.125  -0.256    0.257      0.002    0.001    3273.0   \n",
      "beta[25]  0.041  0.110  -0.123    0.294      0.001    0.001    5188.0   \n",
      "beta[26] -0.028  0.082  -0.213    0.117      0.001    0.001    5826.0   \n",
      "beta[27]  0.000  0.100  -0.196    0.206      0.001    0.001    5866.0   \n",
      "beta[28]  0.217  0.147  -0.023    0.478      0.003    0.002    2778.0   \n",
      "beta[29] -0.150  0.164  -0.468    0.085      0.004    0.003    1617.0   \n",
      "beta[30]  0.014  0.076  -0.140    0.174      0.001    0.001    5831.0   \n",
      "beta[31] -0.175  0.125  -0.398    0.026      0.002    0.001    4006.0   \n",
      "beta[32]  0.003  0.082  -0.153    0.178      0.002    0.001    2153.0   \n",
      "beta[33]  0.381  0.191  -0.006    0.696      0.004    0.003    2725.0   \n",
      "beta[34] -0.180  0.159  -0.486    0.048      0.003    0.002    3400.0   \n",
      "beta[35]  0.080  0.111  -0.094    0.303      0.001    0.001    5395.0   \n",
      "beta[36]  0.132  0.150  -0.078    0.427      0.009    0.009     500.0   \n",
      "beta[37] -0.350  0.234  -0.748    0.039      0.005    0.003    2218.0   \n",
      "beta[38] -0.048  0.105  -0.275    0.130      0.003    0.002    1011.0   \n",
      "beta[39] -0.028  0.087  -0.216    0.123      0.001    0.001    5366.0   \n",
      "beta[40] -0.005  0.081  -0.176    0.153      0.001    0.001    6171.0   \n",
      "beta[41]  0.039  0.090  -0.119    0.229      0.001    0.001    4880.0   \n",
      "beta[42] -0.042  0.089  -0.232    0.104      0.002    0.001    1723.0   \n",
      "beta[43]  0.262  0.157  -0.020    0.529      0.003    0.002    3475.0   \n",
      "beta[44]  0.009  0.100  -0.162    0.232      0.002    0.001    1787.0   \n",
      "beta[45] -0.047  0.091  -0.251    0.102      0.001    0.001    4547.0   \n",
      "beta[46] -0.054  0.091  -0.251    0.081      0.002    0.001    2900.0   \n",
      "\n",
      "          ess_tail  r_hat  \n",
      "beta[0]     5056.0   1.00  \n",
      "beta[1]     6604.0   1.00  \n",
      "beta[2]     6420.0   1.00  \n",
      "beta[3]     4213.0   1.00  \n",
      "beta[4]     4107.0   1.00  \n",
      "beta[5]     6658.0   1.00  \n",
      "beta[6]     5203.0   1.00  \n",
      "beta[7]     4622.0   1.00  \n",
      "beta[8]     5703.0   1.00  \n",
      "beta[9]     6959.0   1.00  \n",
      "beta[10]    6666.0   1.00  \n",
      "beta[11]    6588.0   1.00  \n",
      "beta[12]    7072.0   1.00  \n",
      "beta[13]    6472.0   1.00  \n",
      "beta[14]    2733.0   1.00  \n",
      "beta[15]    1988.0   1.00  \n",
      "beta[16]    6789.0   1.00  \n",
      "beta[17]    4079.0   1.00  \n",
      "beta[18]     916.0   1.00  \n",
      "beta[19]    6827.0   1.00  \n",
      "beta[20]    5356.0   1.00  \n",
      "beta[21]    6200.0   1.00  \n",
      "beta[22]    6745.0   1.00  \n",
      "beta[23]    2246.0   1.00  \n",
      "beta[24]    5230.0   1.00  \n",
      "beta[25]    6476.0   1.00  \n",
      "beta[26]    6388.0   1.00  \n",
      "beta[27]    3297.0   1.00  \n",
      "beta[28]    3333.0   1.00  \n",
      "beta[29]    3921.0   1.00  \n",
      "beta[30]    4765.0   1.00  \n",
      "beta[31]    4027.0   1.00  \n",
      "beta[32]    7281.0   1.00  \n",
      "beta[33]    1942.0   1.00  \n",
      "beta[34]    5029.0   1.00  \n",
      "beta[35]    7028.0   1.00  \n",
      "beta[36]     168.0   1.01  \n",
      "beta[37]    3511.0   1.00  \n",
      "beta[38]     258.0   1.01  \n",
      "beta[39]    5244.0   1.00  \n",
      "beta[40]    7185.0   1.00  \n",
      "beta[41]    6283.0   1.00  \n",
      "beta[42]    6299.0   1.00  \n",
      "beta[43]    2715.0   1.00  \n",
      "beta[44]    6871.0   1.00  \n",
      "beta[45]    3947.0   1.00  \n",
      "beta[46]    4871.0   1.00  \n",
      "R-hat diagnostic:\n",
      "<xarray.Dataset>\n",
      "Dimensions:       (beta_dim_0: 47, lambda_dim_0: 47, y_pred_dim_0: 823,\n",
      "                   z_dim_0: 47)\n",
      "Coordinates:\n",
      "  * beta_dim_0    (beta_dim_0) int64 0 1 2 3 4 5 6 7 ... 39 40 41 42 43 44 45 46\n",
      "  * lambda_dim_0  (lambda_dim_0) int64 0 1 2 3 4 5 6 7 ... 40 41 42 43 44 45 46\n",
      "  * y_pred_dim_0  (y_pred_dim_0) int64 0 1 2 3 4 5 6 ... 817 818 819 820 821 822\n",
      "  * z_dim_0       (z_dim_0) int64 0 1 2 3 4 5 6 7 8 ... 39 40 41 42 43 44 45 46\n",
      "Data variables:\n",
      "    alpha         float64 1.002\n",
      "    beta          (beta_dim_0) float64 1.001 1.002 1.001 ... 1.003 1.003 1.001\n",
      "    lambda        (lambda_dim_0) float64 1.002 1.002 1.006 ... 1.001 1.001 1.004\n",
      "    tau           float64 1.0\n",
      "    y_pred        (y_pred_dim_0) float64 1.0 1.0 0.9998 ... 0.9999 0.9999 0.9998\n",
      "    z             (z_dim_0) float64 1.002 1.004 1.002 ... 1.001 1.001 1.001\n",
      "Effective sample size (ESS):\n",
      "<xarray.Dataset>\n",
      "Dimensions:       (beta_dim_0: 47, lambda_dim_0: 47, y_pred_dim_0: 823,\n",
      "                   z_dim_0: 47)\n",
      "Coordinates:\n",
      "  * beta_dim_0    (beta_dim_0) int64 0 1 2 3 4 5 6 7 ... 39 40 41 42 43 44 45 46\n",
      "  * lambda_dim_0  (lambda_dim_0) int64 0 1 2 3 4 5 6 7 ... 40 41 42 43 44 45 46\n",
      "  * y_pred_dim_0  (y_pred_dim_0) int64 0 1 2 3 4 5 6 ... 817 818 819 820 821 822\n",
      "  * z_dim_0       (z_dim_0) int64 0 1 2 3 4 5 6 7 8 ... 39 40 41 42 43 44 45 46\n",
      "Data variables:\n",
      "    alpha         float64 5.233e+03\n",
      "    beta          (beta_dim_0) float64 2.986e+03 2.511e+03 ... 4.547e+03 2.9e+03\n",
      "    lambda        (lambda_dim_0) float64 1.668e+03 3.999e+03 ... 3.332e+03\n",
      "    tau           float64 2.348e+03\n",
      "    y_pred        (y_pred_dim_0) float64 7.842e+03 7.636e+03 ... 7.443e+03\n",
      "    z             (z_dim_0) float64 4.417e+03 1.402e+03 ... 3.319e+03 5.967e+03\n",
      "                           Feature  mean    sd  hdi_3%  hdi_97%  r_hat\n",
      "beta[0]                  Anion_gap  0.14  0.18   -0.10     0.51   1.00\n",
      "beta[1]                        BMI -0.05  0.11   -0.29     0.11   1.00\n",
      "beta[2]                  Basophils -0.11  0.16   -0.43     0.12   1.00\n",
      "beta[3]                Bicarbonate -0.47  0.35   -1.07     0.05   1.00\n",
      "beta[4]              Blood_calcium -0.21  0.15   -0.49     0.02   1.00\n",
      "beta[5]            Blood_potassium  0.08  0.11   -0.07     0.31   1.00\n",
      "beta[6]               Blood_sodium -0.02  0.09   -0.18     0.16   1.00\n",
      "beta[7]                   Chloride  0.01  0.11   -0.21     0.22   1.00\n",
      "beta[8]            Creatine_kinase  0.04  0.07   -0.08     0.19   1.00\n",
      "beta[9]                 Creatinine -0.06  0.13   -0.34     0.13   1.00\n",
      "beta[10]  Diastolic_blood_pressure -0.09  0.11   -0.33     0.08   1.00\n",
      "beta[11]                        EF  0.02  0.07   -0.12     0.17   1.00\n",
      "beta[12]              Hyperlipemia -0.02  0.08   -0.21     0.14   1.00\n",
      "beta[13]                       INR  0.08  0.12   -0.10     0.32   1.00\n",
      "beta[14]               Lactic_acid  0.29  0.14   -0.01     0.52   1.00\n",
      "beta[15]                 Leucocyte  0.30  0.15   -0.00     0.55   1.00\n",
      "beta[16]                Lymphocyte -0.14  0.17   -0.51     0.09   1.00\n",
      "beta[17]                       MCH  0.01  0.10   -0.17     0.23   1.00\n",
      "beta[18]                      MCHC -0.05  0.11   -0.28     0.12   1.00\n",
      "beta[19]                       MCV  0.05  0.10   -0.12     0.26   1.00\n",
      "beta[20]             Magnesium_ion  0.09  0.11   -0.07     0.33   1.00\n",
      "beta[21]                 NT_proBNP  0.01  0.08   -0.15     0.17   1.00\n",
      "beta[22]               Neutrophils  0.04  0.10   -0.11     0.28   1.00\n",
      "beta[23]                      PCO2  0.49  0.30   -0.03     1.00   1.00\n",
      "beta[24]                        PH  0.01  0.12   -0.26     0.26   1.00\n",
      "beta[25]                        PT  0.04  0.11   -0.12     0.29   1.00\n",
      "beta[26]                 Platelets -0.03  0.08   -0.21     0.12   1.00\n",
      "beta[27]                       RBC  0.00  0.10   -0.20     0.21   1.00\n",
      "beta[28]                       RDW  0.22  0.15   -0.02     0.48   1.00\n",
      "beta[29]             Renal_failure -0.15  0.16   -0.47     0.08   1.00\n",
      "beta[30]          Respiratory_rate  0.01  0.08   -0.14     0.17   1.00\n",
      "beta[31]                     SP_O2 -0.17  0.13   -0.40     0.03   1.00\n",
      "beta[32]   Systolic_blood_pressure  0.00  0.08   -0.15     0.18   1.00\n",
      "beta[33]             Urea_nitrogen  0.38  0.19   -0.01     0.70   1.00\n",
      "beta[34]              Urine_output -0.18  0.16   -0.49     0.05   1.00\n",
      "beta[35]                       age  0.08  0.11   -0.09     0.30   1.00\n",
      "beta[36]        atrialfibrillation  0.13  0.15   -0.08     0.43   1.01\n",
      "beta[37]              comorb_score -0.35  0.23   -0.75     0.04   1.00\n",
      "beta[38]         deficiencyanemias -0.05  0.10   -0.27     0.13   1.01\n",
      "beta[39]                depression -0.03  0.09   -0.22     0.12   1.00\n",
      "beta[40]                  diabetes -0.00  0.08   -0.18     0.15   1.00\n",
      "beta[41]                   gendera  0.04  0.09   -0.12     0.23   1.00\n",
      "beta[42]                   glucose -0.04  0.09   -0.23     0.10   1.00\n",
      "beta[43]                heart_rate  0.26  0.16   -0.02     0.53   1.00\n",
      "beta[44]                hematocrit  0.01  0.10   -0.16     0.23   1.00\n",
      "beta[45]              hypertensive -0.05  0.09   -0.25     0.10   1.00\n",
      "beta[46]               temperature -0.05  0.09   -0.25     0.08   1.00\n"
     ]
    },
    {
     "name": "stderr",
     "output_type": "stream",
     "text": [
      "14:54:07 - cmdstanpy - INFO - CmdStan start processing\n"
     ]
    },
    {
     "name": "stdout",
     "output_type": "stream",
     "text": [
      "Significant features (HDI not including zero):\n",
      "Index(['Lactic_acid', 'Leucocyte', 'Urea_nitrogen'], dtype='object')\n",
      "Train AUC: 0.8645543797016448\n"
     ]
    },
    {
     "data": {
      "application/vnd.jupyter.widget-view+json": {
       "model_id": "08a6d0b8da21481bb5ddbbe24126f964",
       "version_major": 2,
       "version_minor": 0
      },
      "text/plain": [
       "chain 1 |          | 00:00 Status"
      ]
     },
     "metadata": {},
     "output_type": "display_data"
    },
    {
     "data": {
      "application/vnd.jupyter.widget-view+json": {
       "model_id": "e5982e59fc154ce091744c1950ed89e6",
       "version_major": 2,
       "version_minor": 0
      },
      "text/plain": [
       "chain 2 |          | 00:00 Status"
      ]
     },
     "metadata": {},
     "output_type": "display_data"
    },
    {
     "data": {
      "application/vnd.jupyter.widget-view+json": {
       "model_id": "14f8dc266ec94f2ebdc57754d75fa188",
       "version_major": 2,
       "version_minor": 0
      },
      "text/plain": [
       "chain 3 |          | 00:00 Status"
      ]
     },
     "metadata": {},
     "output_type": "display_data"
    },
    {
     "data": {
      "application/vnd.jupyter.widget-view+json": {
       "model_id": "40b8045e34c8486e8ea9f3d2eaa001a8",
       "version_major": 2,
       "version_minor": 0
      },
      "text/plain": [
       "chain 4 |          | 00:00 Status"
      ]
     },
     "metadata": {},
     "output_type": "display_data"
    },
    {
     "name": "stdout",
     "output_type": "stream",
     "text": [
      "                                                                                                                                                                                                                                                                                                                                "
     ]
    },
    {
     "name": "stderr",
     "output_type": "stream",
     "text": [
      "14:54:11 - cmdstanpy - INFO - CmdStan done processing.\n",
      "14:54:11 - cmdstanpy - WARNING - Some chains may have failed to converge.\n",
      "\tChain 1 had 39 divergent transitions (1.9%)\n",
      "\tChain 2 had 55 divergent transitions (2.8%)\n",
      "\tChain 3 had 34 divergent transitions (1.7%)\n",
      "\tChain 4 had 74 divergent transitions (3.7%)\n",
      "\tUse the \"diagnose()\" method on the CmdStanMCMC object to see further information.\n"
     ]
    },
    {
     "name": "stdout",
     "output_type": "stream",
     "text": [
      "\n",
      "Test AUC: 0.9055871528939444\n"
     ]
    }
   ],
   "source": [
    "import pandas as pd\n",
    "import numpy as np\n",
    "from cmdstanpy import CmdStanModel\n",
    "from sklearn.preprocessing import StandardScaler\n",
    "from sklearn.model_selection import train_test_split\n",
    "from sklearn.metrics import roc_auc_score\n",
    "import arviz as az\n",
    "\n",
    "# Load and preprocess data\n",
    "data = pd.read_csv(\"RF_imputation_NEW.csv\")\n",
    "data.drop(columns=['deathtime', 'survival_time', 'LOS', 'Unnamed_0', 'V1', 'admittime', 'ID', 'group', 'tLOS', 'subject_id', 'COPD', 'CHD_with_no_MI'], inplace=True)\n",
    "data['outcome'] = data['outcome'].astype(int)\n",
    "predictor_names = data.columns.difference(['outcome'])\n",
    "scaler = StandardScaler()\n",
    "data[predictor_names] = scaler.fit_transform(data[predictor_names])\n",
    "train_data, valid_data = train_test_split(data, test_size=0.3, random_state=213)\n",
    "\n",
    "# Prepare data for Stan model\n",
    "stan_data = {\n",
    "    'N': train_data.shape[0],\n",
    "    'K': len(predictor_names),\n",
    "    'X': train_data[predictor_names].values,\n",
    "    'y': train_data['outcome'].values\n",
    "}\n",
    "\n",
    "# Compile and sample from Stan model\n",
    "model = CmdStanModel(stan_file='logistic_regression_horseshoe.stan')\n",
    "fit = model.sample(data=stan_data, seed=213, chains=4, parallel_chains=4, iter_sampling=2000, iter_warmup=1000)\n",
    "\n",
    "# Convert the CmdStanPy output to ArviZ's InferenceData object\n",
    "idata = az.from_cmdstanpy(fit)\n",
    "\n",
    "# Check MCMC diagnostics for convergence and mixing\n",
    "print(\"MCMC diagnostics:\")\n",
    "print(az.summary(idata, var_names=['beta']))  # Summary statistics\n",
    "print(\"R-hat diagnostic:\")\n",
    "print(az.rhat(idata))  # R-hat diagnostic\n",
    "print(\"Effective sample size (ESS):\")\n",
    "print(az.ess(idata))  # Effective sample size\n",
    "\n",
    "# Extract and summarize all coefficients\n",
    "beta_summary = az.summary(idata, var_names=['beta'], round_to=2)\n",
    "beta_summary['Feature'] = predictor_names\n",
    "print(beta_summary[['Feature', 'mean', 'sd', 'hdi_3%', 'hdi_97%', 'r_hat']])\n",
    "\n",
    "# Calculate HDI for coefficients\n",
    "beta_samples = fit.stan_variable('beta')\n",
    "beta_hdi = np.percentile(beta_samples, [2.5, 97.5], axis=0)\n",
    "\n",
    "# Identify significant features based on HDI not including zero\n",
    "significant_features = predictor_names[(beta_hdi[0] > 0) | (beta_hdi[1] < 0)]\n",
    "print(\"Significant features (HDI not including zero):\")\n",
    "print(significant_features)\n",
    "\n",
    "# Compute AUC for training set\n",
    "y_pred_train = fit.stan_variable('y_pred').mean(axis=0)\n",
    "train_auc_value = roc_auc_score(train_data['outcome'], y_pred_train)\n",
    "print(\"Train AUC:\", train_auc_value)\n",
    "\n",
    "# Prepare validation data and compute AUC for test set\n",
    "stan_data_valid = {\n",
    "    'N': valid_data.shape[0],\n",
    "    'K': len(predictor_names),\n",
    "    'X': valid_data[predictor_names].values,\n",
    "    'y': valid_data['outcome'].values\n",
    "}\n",
    "fit_valid = model.sample(data=stan_data_valid, seed=213, chains=4, parallel_chains=4, iter_sampling=2000, iter_warmup=1000)\n",
    "y_pred_valid = fit_valid.stan_variable('y_pred').mean(axis=0)\n",
    "test_auc_value = roc_auc_score(valid_data['outcome'], y_pred_valid)\n",
    "print(\"Test AUC:\", test_auc_value)\n"
   ]
  },
  {
   "cell_type": "markdown",
   "id": "5409c846-af22-4c46-8bbf-3fd57fd33996",
   "metadata": {},
   "source": [
    "### CAUCHY PRIOR\n"
   ]
  },
  {
   "cell_type": "code",
   "execution_count": 12,
   "id": "9d8f7492-1b5c-4a93-ba3b-a93dd498d218",
   "metadata": {},
   "outputs": [
    {
     "name": "stderr",
     "output_type": "stream",
     "text": [
      "15:06:18 - cmdstanpy - INFO - compiling stan file /Users/peterdunson/Documents/DMML-Survival-Analysis-NEW/logistic_regression_cauchy.stan to exe file /Users/peterdunson/Documents/DMML-Survival-Analysis-NEW/logistic_regression_cauchy\n",
      "15:06:23 - cmdstanpy - INFO - compiled model executable: /Users/peterdunson/Documents/DMML-Survival-Analysis-NEW/logistic_regression_cauchy\n",
      "15:06:24 - cmdstanpy - INFO - CmdStan start processing\n"
     ]
    },
    {
     "data": {
      "application/vnd.jupyter.widget-view+json": {
       "model_id": "0318636e8c3943cd853c26b94f78e223",
       "version_major": 2,
       "version_minor": 0
      },
      "text/plain": [
       "chain 1 |          | 00:00 Status"
      ]
     },
     "metadata": {},
     "output_type": "display_data"
    },
    {
     "data": {
      "application/vnd.jupyter.widget-view+json": {
       "model_id": "e9a997beaebd46198bf80b9d294e47a0",
       "version_major": 2,
       "version_minor": 0
      },
      "text/plain": [
       "chain 2 |          | 00:00 Status"
      ]
     },
     "metadata": {},
     "output_type": "display_data"
    },
    {
     "data": {
      "application/vnd.jupyter.widget-view+json": {
       "model_id": "2f36123735ab445ba46ca2f710c9d9bf",
       "version_major": 2,
       "version_minor": 0
      },
      "text/plain": [
       "chain 3 |          | 00:00 Status"
      ]
     },
     "metadata": {},
     "output_type": "display_data"
    },
    {
     "data": {
      "application/vnd.jupyter.widget-view+json": {
       "model_id": "b6e717e2e67a4e969b859144d60f0dc6",
       "version_major": 2,
       "version_minor": 0
      },
      "text/plain": [
       "chain 4 |          | 00:00 Status"
      ]
     },
     "metadata": {},
     "output_type": "display_data"
    },
    {
     "name": "stdout",
     "output_type": "stream",
     "text": [
      "                                                                                                                                                                                                                                                                                                                                "
     ]
    },
    {
     "name": "stderr",
     "output_type": "stream",
     "text": [
      "15:06:32 - cmdstanpy - INFO - CmdStan done processing.\n"
     ]
    },
    {
     "name": "stdout",
     "output_type": "stream",
     "text": [
      "\n",
      "MCMC diagnostics:\n",
      "           mean     sd  hdi_3%  hdi_97%  mcse_mean  mcse_sd  ess_bulk  \\\n",
      "beta[0]   0.281  0.614  -0.912    1.411      0.012    0.008    2792.0   \n",
      "beta[1]  -0.179  0.186  -0.539    0.153      0.002    0.002    9637.0   \n",
      "beta[2]  -0.435  0.267  -0.930    0.067      0.003    0.002    8738.0   \n",
      "beta[3]  -1.132  1.153  -3.301    1.032      0.022    0.016    2769.0   \n",
      "beta[4]  -0.407  0.161  -0.708   -0.109      0.002    0.001   10181.0   \n",
      "beta[5]   0.243  0.185  -0.103    0.590      0.003    0.002    5102.0   \n",
      "beta[6]   0.107  0.902  -1.561    1.846      0.018    0.013    2623.0   \n",
      "beta[7]  -0.157  1.173  -2.450    1.971      0.023    0.016    2647.0   \n",
      "beta[8]   0.153  0.157  -0.110    0.451      0.002    0.002    9164.0   \n",
      "beta[9]  -0.309  0.261  -0.804    0.173      0.003    0.002    8261.0   \n",
      "beta[10] -0.287  0.190  -0.654    0.064      0.002    0.002    7645.0   \n",
      "beta[11] -0.012  0.155  -0.297    0.287      0.002    0.002    9802.0   \n",
      "beta[12]  0.204  0.232  -0.216    0.645      0.005    0.003    2269.0   \n",
      "beta[13]  0.601  0.668  -0.632    1.832      0.009    0.007    5640.0   \n",
      "beta[14]  0.404  0.158   0.114    0.702      0.002    0.001    8088.0   \n",
      "beta[15]  0.408  0.162   0.105    0.719      0.002    0.001    7261.0   \n",
      "beta[16] -0.103  0.286  -0.636    0.453      0.003    0.003    6878.0   \n",
      "beta[17]  0.198  1.538  -2.609    3.163      0.026    0.022    3722.0   \n",
      "beta[18] -0.255  0.741  -1.717    1.095      0.012    0.010    3716.0   \n",
      "beta[19]  0.019  1.313  -2.517    2.440      0.022    0.020    3530.0   \n",
      "beta[20]  0.185  0.152  -0.103    0.464      0.002    0.001    8814.0   \n",
      "beta[21] -0.087  0.167  -0.395    0.229      0.002    0.002    8570.0   \n",
      "beta[22]  0.007  0.250  -0.470    0.479      0.003    0.003    7228.0   \n",
      "beta[23]  1.188  0.338   0.584    1.830      0.005    0.003    5613.0   \n",
      "beta[24]  0.448  0.234  -0.005    0.873      0.003    0.002    5649.0   \n",
      "beta[25] -0.473  0.677  -1.778    0.748      0.009    0.007    5612.0   \n",
      "beta[26] -0.109  0.158  -0.428    0.165      0.002    0.001    8887.0   \n",
      "beta[27]  0.026  0.893  -1.714    1.687      0.014    0.010    4397.0   \n",
      "beta[28]  0.352  0.169   0.036    0.666      0.002    0.001    8508.0   \n",
      "beta[29] -0.118  0.242  -0.567    0.340      0.004    0.003    2975.0   \n",
      "beta[30] -0.073  0.152  -0.363    0.208      0.002    0.002    9185.0   \n",
      "beta[31] -0.299  0.138  -0.555   -0.040      0.001    0.001   10927.0   \n",
      "beta[32]  0.174  0.182  -0.174    0.508      0.002    0.002    8622.0   \n",
      "beta[33]  0.546  0.216   0.129    0.939      0.002    0.002    7734.0   \n",
      "beta[34] -0.205  0.182  -0.539    0.136      0.002    0.002   10185.0   \n",
      "beta[35]  0.124  0.185  -0.232    0.471      0.002    0.002    8091.0   \n",
      "beta[36]  0.426  0.247  -0.043    0.880      0.005    0.004    2347.0   \n",
      "beta[37] -1.034  0.574  -2.153   -0.002      0.014    0.010    1790.0   \n",
      "beta[38]  0.098  0.244  -0.347    0.562      0.005    0.004    2192.0   \n",
      "beta[39]  0.084  0.205  -0.298    0.466      0.004    0.003    3245.0   \n",
      "beta[40]  0.255  0.239  -0.197    0.697      0.005    0.003    2781.0   \n",
      "beta[41]  0.312  0.222  -0.094    0.730      0.004    0.003    2619.0   \n",
      "beta[42] -0.197  0.162  -0.507    0.098      0.002    0.001    9781.0   \n",
      "beta[43]  0.490  0.173   0.166    0.817      0.002    0.001    8025.0   \n",
      "beta[44]  0.089  0.852  -1.496    1.757      0.013    0.010    4289.0   \n",
      "beta[45]  0.118  0.220  -0.287    0.538      0.004    0.003    2504.0   \n",
      "beta[46] -0.145  0.154  -0.441    0.135      0.002    0.001    9105.0   \n",
      "\n",
      "          ess_tail  r_hat  \n",
      "beta[0]     4154.0    1.0  \n",
      "beta[1]     6061.0    1.0  \n",
      "beta[2]     5909.0    1.0  \n",
      "beta[3]     3846.0    1.0  \n",
      "beta[4]     6521.0    1.0  \n",
      "beta[5]     5847.0    1.0  \n",
      "beta[6]     3550.0    1.0  \n",
      "beta[7]     3470.0    1.0  \n",
      "beta[8]     5544.0    1.0  \n",
      "beta[9]     5913.0    1.0  \n",
      "beta[10]    6249.0    1.0  \n",
      "beta[11]    6462.0    1.0  \n",
      "beta[12]    3899.0    1.0  \n",
      "beta[13]    4890.0    1.0  \n",
      "beta[14]    6369.0    1.0  \n",
      "beta[15]    6312.0    1.0  \n",
      "beta[16]    6276.0    1.0  \n",
      "beta[17]    3638.0    1.0  \n",
      "beta[18]    3494.0    1.0  \n",
      "beta[19]    3356.0    1.0  \n",
      "beta[20]    6291.0    1.0  \n",
      "beta[21]    6223.0    1.0  \n",
      "beta[22]    5566.0    1.0  \n",
      "beta[23]    5739.0    1.0  \n",
      "beta[24]    6151.0    1.0  \n",
      "beta[25]    4873.0    1.0  \n",
      "beta[26]    6385.0    1.0  \n",
      "beta[27]    4626.0    1.0  \n",
      "beta[28]    6399.0    1.0  \n",
      "beta[29]    5083.0    1.0  \n",
      "beta[30]    6474.0    1.0  \n",
      "beta[31]    5769.0    1.0  \n",
      "beta[32]    6369.0    1.0  \n",
      "beta[33]    6025.0    1.0  \n",
      "beta[34]    6127.0    1.0  \n",
      "beta[35]    6607.0    1.0  \n",
      "beta[36]    3904.0    1.0  \n",
      "beta[37]    2911.0    1.0  \n",
      "beta[38]    4343.0    1.0  \n",
      "beta[39]    4873.0    1.0  \n",
      "beta[40]    4258.0    1.0  \n",
      "beta[41]    4505.0    1.0  \n",
      "beta[42]    6550.0    1.0  \n",
      "beta[43]    6058.0    1.0  \n",
      "beta[44]    4472.0    1.0  \n",
      "beta[45]    3694.0    1.0  \n",
      "beta[46]    6441.0    1.0  \n",
      "R-hat diagnostic:\n",
      "<xarray.Dataset>\n",
      "Dimensions:       (beta_dim_0: 47, y_pred_dim_0: 823)\n",
      "Coordinates:\n",
      "  * beta_dim_0    (beta_dim_0) int64 0 1 2 3 4 5 6 7 ... 39 40 41 42 43 44 45 46\n",
      "  * y_pred_dim_0  (y_pred_dim_0) int64 0 1 2 3 4 5 6 ... 817 818 819 820 821 822\n",
      "Data variables:\n",
      "    alpha         float64 1.0\n",
      "    beta          (beta_dim_0) float64 1.002 1.0 1.0 1.002 ... 1.001 1.002 1.001\n",
      "    y_pred        (y_pred_dim_0) float64 1.0 1.0 0.9997 ... 0.9998 1.0 0.9999\n",
      "Effective sample size (ESS):\n",
      "<xarray.Dataset>\n",
      "Dimensions:       (beta_dim_0: 47, y_pred_dim_0: 823)\n",
      "Coordinates:\n",
      "  * beta_dim_0    (beta_dim_0) int64 0 1 2 3 4 5 6 7 ... 39 40 41 42 43 44 45 46\n",
      "  * y_pred_dim_0  (y_pred_dim_0) int64 0 1 2 3 4 5 6 ... 817 818 819 820 821 822\n",
      "Data variables:\n",
      "    alpha         float64 7.143e+03\n",
      "    beta          (beta_dim_0) float64 2.792e+03 9.637e+03 ... 9.105e+03\n",
      "    y_pred        (y_pred_dim_0) float64 7.963e+03 8.095e+03 ... 7.872e+03\n",
      "                           Feature  mean    sd  hdi_3%  hdi_97%  r_hat\n",
      "beta[0]                  Anion_gap  0.28  0.61   -0.91     1.41    1.0\n",
      "beta[1]                        BMI -0.18  0.19   -0.54     0.15    1.0\n",
      "beta[2]                  Basophils -0.44  0.27   -0.93     0.07    1.0\n",
      "beta[3]                Bicarbonate -1.13  1.15   -3.30     1.03    1.0\n",
      "beta[4]              Blood_calcium -0.41  0.16   -0.71    -0.11    1.0\n",
      "beta[5]            Blood_potassium  0.24  0.18   -0.10     0.59    1.0\n",
      "beta[6]               Blood_sodium  0.11  0.90   -1.56     1.85    1.0\n",
      "beta[7]                   Chloride -0.16  1.17   -2.45     1.97    1.0\n",
      "beta[8]            Creatine_kinase  0.15  0.16   -0.11     0.45    1.0\n",
      "beta[9]                 Creatinine -0.31  0.26   -0.80     0.17    1.0\n",
      "beta[10]  Diastolic_blood_pressure -0.29  0.19   -0.65     0.06    1.0\n",
      "beta[11]                        EF -0.01  0.15   -0.30     0.29    1.0\n",
      "beta[12]              Hyperlipemia  0.20  0.23   -0.22     0.64    1.0\n",
      "beta[13]                       INR  0.60  0.67   -0.63     1.83    1.0\n",
      "beta[14]               Lactic_acid  0.40  0.16    0.11     0.70    1.0\n",
      "beta[15]                 Leucocyte  0.41  0.16    0.10     0.72    1.0\n",
      "beta[16]                Lymphocyte -0.10  0.29   -0.64     0.45    1.0\n",
      "beta[17]                       MCH  0.20  1.54   -2.61     3.16    1.0\n",
      "beta[18]                      MCHC -0.26  0.74   -1.72     1.10    1.0\n",
      "beta[19]                       MCV  0.02  1.31   -2.52     2.44    1.0\n",
      "beta[20]             Magnesium_ion  0.19  0.15   -0.10     0.46    1.0\n",
      "beta[21]                 NT_proBNP -0.09  0.17   -0.40     0.23    1.0\n",
      "beta[22]               Neutrophils  0.01  0.25   -0.47     0.48    1.0\n",
      "beta[23]                      PCO2  1.19  0.34    0.58     1.83    1.0\n",
      "beta[24]                        PH  0.45  0.23   -0.00     0.87    1.0\n",
      "beta[25]                        PT -0.47  0.68   -1.78     0.75    1.0\n",
      "beta[26]                 Platelets -0.11  0.16   -0.43     0.16    1.0\n",
      "beta[27]                       RBC  0.03  0.89   -1.71     1.69    1.0\n",
      "beta[28]                       RDW  0.35  0.17    0.04     0.67    1.0\n",
      "beta[29]             Renal_failure -0.12  0.24   -0.57     0.34    1.0\n",
      "beta[30]          Respiratory_rate -0.07  0.15   -0.36     0.21    1.0\n",
      "beta[31]                     SP_O2 -0.30  0.14   -0.56    -0.04    1.0\n",
      "beta[32]   Systolic_blood_pressure  0.17  0.18   -0.17     0.51    1.0\n",
      "beta[33]             Urea_nitrogen  0.55  0.22    0.13     0.94    1.0\n",
      "beta[34]              Urine_output -0.20  0.18   -0.54     0.14    1.0\n",
      "beta[35]                       age  0.12  0.19   -0.23     0.47    1.0\n",
      "beta[36]        atrialfibrillation  0.43  0.25   -0.04     0.88    1.0\n",
      "beta[37]              comorb_score -1.03  0.57   -2.15    -0.00    1.0\n",
      "beta[38]         deficiencyanemias  0.10  0.24   -0.35     0.56    1.0\n",
      "beta[39]                depression  0.08  0.21   -0.30     0.47    1.0\n",
      "beta[40]                  diabetes  0.26  0.24   -0.20     0.70    1.0\n",
      "beta[41]                   gendera  0.31  0.22   -0.09     0.73    1.0\n",
      "beta[42]                   glucose -0.20  0.16   -0.51     0.10    1.0\n",
      "beta[43]                heart_rate  0.49  0.17    0.17     0.82    1.0\n",
      "beta[44]                hematocrit  0.09  0.85   -1.50     1.76    1.0\n",
      "beta[45]              hypertensive  0.12  0.22   -0.29     0.54    1.0\n",
      "beta[46]               temperature -0.15  0.15   -0.44     0.14    1.0\n",
      "Significant features (HDI not including zero):\n",
      "Index(['Blood_calcium', 'Lactic_acid', 'Leucocyte', 'PCO2', 'RDW', 'SP_O2',\n",
      "       'Urea_nitrogen', 'heart_rate'],\n",
      "      dtype='object')\n",
      "Train AUC: 0.8757809511666454\n"
     ]
    },
    {
     "name": "stderr",
     "output_type": "stream",
     "text": [
      "15:06:35 - cmdstanpy - INFO - CmdStan start processing\n"
     ]
    },
    {
     "data": {
      "application/vnd.jupyter.widget-view+json": {
       "model_id": "6d207d0fa47c4e0cbc59fd7c435983d5",
       "version_major": 2,
       "version_minor": 0
      },
      "text/plain": [
       "chain 1 |          | 00:00 Status"
      ]
     },
     "metadata": {},
     "output_type": "display_data"
    },
    {
     "data": {
      "application/vnd.jupyter.widget-view+json": {
       "model_id": "996b4c63f985447b8b4b7c8a22ca47bf",
       "version_major": 2,
       "version_minor": 0
      },
      "text/plain": [
       "chain 2 |          | 00:00 Status"
      ]
     },
     "metadata": {},
     "output_type": "display_data"
    },
    {
     "data": {
      "application/vnd.jupyter.widget-view+json": {
       "model_id": "8ae955c3870f4851bed764995eafd6db",
       "version_major": 2,
       "version_minor": 0
      },
      "text/plain": [
       "chain 3 |          | 00:00 Status"
      ]
     },
     "metadata": {},
     "output_type": "display_data"
    },
    {
     "data": {
      "application/vnd.jupyter.widget-view+json": {
       "model_id": "886105187024430693a01b867c507588",
       "version_major": 2,
       "version_minor": 0
      },
      "text/plain": [
       "chain 4 |          | 00:00 Status"
      ]
     },
     "metadata": {},
     "output_type": "display_data"
    },
    {
     "name": "stdout",
     "output_type": "stream",
     "text": [
      "                                                                                                                                                                                                                                                                                                                                "
     ]
    },
    {
     "name": "stderr",
     "output_type": "stream",
     "text": [
      "15:06:38 - cmdstanpy - INFO - CmdStan done processing.\n"
     ]
    },
    {
     "name": "stdout",
     "output_type": "stream",
     "text": [
      "\n",
      "Test AUC: 0.9325192372030779\n"
     ]
    }
   ],
   "source": [
    "import pandas as pd\n",
    "import numpy as np\n",
    "from cmdstanpy import CmdStanModel\n",
    "from sklearn.preprocessing import StandardScaler\n",
    "from sklearn.model_selection import train_test_split\n",
    "from sklearn.metrics import roc_auc_score\n",
    "import arviz as az\n",
    "\n",
    "# Load and preprocess data\n",
    "data = pd.read_csv(\"RF_imputation_NEW.csv\")\n",
    "data.drop(columns=['deathtime', 'survival_time', 'LOS', 'Unnamed_0', 'V1', 'admittime', 'ID', 'group', 'tLOS', 'subject_id', 'COPD', 'CHD_with_no_MI'], inplace=True)\n",
    "data['outcome'] = data['outcome'].astype(int)\n",
    "predictor_names = data.columns.difference(['outcome'])\n",
    "scaler = StandardScaler()\n",
    "data[predictor_names] = scaler.fit_transform(data[predictor_names])\n",
    "train_data, valid_data = train_test_split(data, test_size=0.3, random_state=213)\n",
    "\n",
    "# Prepare data for Stan model\n",
    "stan_data = {\n",
    "    'N': train_data.shape[0],\n",
    "    'K': len(predictor_names),\n",
    "    'X': train_data[predictor_names].values,\n",
    "    'y': train_data['outcome'].values\n",
    "}\n",
    "\n",
    "# Compile and sample from Stan model\n",
    "model = CmdStanModel(stan_file='logistic_regression_cauchy.stan')\n",
    "fit = model.sample(data=stan_data, seed=213, chains=4, parallel_chains=4, iter_sampling=2000, iter_warmup=1000)\n",
    "\n",
    "# Convert the CmdStanPy output to ArviZ's InferenceData object\n",
    "idata = az.from_cmdstanpy(fit)\n",
    "\n",
    "# Check MCMC diagnostics for convergence and mixing\n",
    "print(\"MCMC diagnostics:\")\n",
    "print(az.summary(idata, var_names=['beta']))  # Summary statistics\n",
    "print(\"R-hat diagnostic:\")\n",
    "print(az.rhat(idata))  # R-hat diagnostic\n",
    "print(\"Effective sample size (ESS):\")\n",
    "print(az.ess(idata))  # Effective sample size\n",
    "\n",
    "# Extract and summarize all coefficients\n",
    "beta_summary = az.summary(idata, var_names=['beta'], round_to=2)\n",
    "beta_summary['Feature'] = predictor_names\n",
    "print(beta_summary[['Feature', 'mean', 'sd', 'hdi_3%', 'hdi_97%', 'r_hat']])\n",
    "\n",
    "# Calculate HDI for coefficients\n",
    "beta_samples = fit.stan_variable('beta')\n",
    "beta_hdi = np.percentile(beta_samples, [2.5, 97.5], axis=0)\n",
    "\n",
    "# Identify significant features based on HDI not including zero\n",
    "significant_features = predictor_names[(beta_hdi[0] > 0) | (beta_hdi[1] < 0)]\n",
    "print(\"Significant features (HDI not including zero):\")\n",
    "print(significant_features)\n",
    "\n",
    "# Compute AUC for training set\n",
    "y_pred_train = fit.stan_variable('y_pred').mean(axis=0)\n",
    "train_auc_value = roc_auc_score(train_data['outcome'], y_pred_train)\n",
    "print(\"Train AUC:\", train_auc_value)\n",
    "\n",
    "# Prepare validation data and compute AUC for test set\n",
    "stan_data_valid = {\n",
    "    'N': valid_data.shape[0],\n",
    "    'K': len(predictor_names),\n",
    "    'X': valid_data[predictor_names].values,\n",
    "    'y': valid_data['outcome'].values\n",
    "}\n",
    "fit_valid = model.sample(data=stan_data_valid, seed=213, chains=4, parallel_chains=4, iter_sampling=2000, iter_warmup=1000)\n",
    "y_pred_valid = fit_valid.stan_variable('y_pred').mean(axis=0)\n",
    "test_auc_value = roc_auc_score(valid_data['outcome'], y_pred_valid)\n",
    "print(\"Test AUC:\", test_auc_value)\n"
   ]
  },
  {
   "cell_type": "code",
   "execution_count": null,
   "id": "1a2acab7-3f67-4440-93ca-999fe092734f",
   "metadata": {},
   "outputs": [],
   "source": []
  }
 ],
 "metadata": {
  "kernelspec": {
   "display_name": "Python 3 (ipykernel)",
   "language": "python",
   "name": "python3"
  },
  "language_info": {
   "codemirror_mode": {
    "name": "ipython",
    "version": 3
   },
   "file_extension": ".py",
   "mimetype": "text/x-python",
   "name": "python",
   "nbconvert_exporter": "python",
   "pygments_lexer": "ipython3",
   "version": "3.11.7"
  }
 },
 "nbformat": 4,
 "nbformat_minor": 5
}
