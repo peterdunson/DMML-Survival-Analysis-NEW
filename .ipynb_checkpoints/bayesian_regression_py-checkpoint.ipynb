{
 "cells": [
  {
   "cell_type": "markdown",
   "id": "1d94d9e9-e1ca-4678-a68e-913538777929",
   "metadata": {},
   "source": [
    "## BAYESIAN REGRESSION\n"
   ]
  },
  {
   "cell_type": "code",
   "execution_count": null,
   "id": "12088733-5f4c-4d20-b892-2bef895d5d6e",
   "metadata": {},
   "outputs": [],
   "source": []
  },
  {
   "cell_type": "code",
   "execution_count": null,
   "id": "37d155b6-09d3-47b2-827a-4a7a7c231dc6",
   "metadata": {},
   "outputs": [],
   "source": [
    "import pandas as pd\n",
    "import bambi as bmb\n",
    "import arviz as az\n",
    "from sklearn.metrics import roc_auc_score\n",
    "\n",
    "# Load the data\n",
    "data = pd.read_csv('RF_imputation_NEW.csv')\n",
    "\n",
    "# Drop unwanted columns\n",
    "data = data.drop(columns=['deathtime', 'survival_time', 'LOS', 'Unnamed_0', 'V1', 'admittime', 'ID', 'group', 'tLOS', 'subject_id'])\n",
    "\n",
    "# Normalize the predictors\n",
    "predictor_columns = data.columns.difference(['outcome'])\n",
    "data[predictor_columns] = (data[predictor_columns] - data[predictor_columns].mean()) / data[predictor_columns].std()\n",
    "\n",
    "# Split the data into training and validation sets\n",
    "train_data = data.sample(frac=0.7, random_state=213)\n",
    "valid_data = data.drop(train_data.index)\n",
    "\n",
    "# Define and fit the Bayesian logistic regression model using Laplace approximation\n",
    "model = bmb.Model('outcome ~ ' + ' + '.join(predictor_columns), train_data, family='bernoulli')\n",
    "fitted_model = model.fit(inference_method=\"laplace\")\n",
    "\n",
    "# Summarize the model\n",
    "print(fitted_model.summary())\n",
    "\n",
    "# Evaluate the model performance on the training set\n",
    "train_preds_prob = fitted_model.predict(train_data)\n",
    "train_auc_value = roc_auc_score(train_data['outcome'], train_preds_prob)\n",
    "print(\"Train AUC:\", train_auc_value)\n",
    "\n",
    "# Evaluate the model performance on the validation set\n",
    "valid_preds_prob = fitted_model.predict(valid_data)\n",
    "valid_auc_value = roc_auc_score(valid_data['outcome'], valid_preds_prob)\n",
    "print(\"Validation AUC:\", valid_auc_value)\n",
    "\n"
   ]
  },
  {
   "cell_type": "code",
   "execution_count": 79,
   "id": "b754ae1d-7c51-47e1-8ddc-566a5b5bf12b",
   "metadata": {},
   "outputs": [
    {
     "name": "stdout",
     "output_type": "stream",
     "text": [
      "Requirement already satisfied: pandas in /opt/anaconda3/lib/python3.11/site-packages (2.1.4)\n",
      "Requirement already satisfied: numpy in /opt/anaconda3/lib/python3.11/site-packages (1.26.4)\n",
      "Requirement already satisfied: pymc3 in /opt/anaconda3/lib/python3.11/site-packages (3.11.4)\n",
      "Requirement already satisfied: arviz in /opt/anaconda3/lib/python3.11/site-packages (0.18.0)\n",
      "Requirement already satisfied: scikit-learn in /opt/anaconda3/lib/python3.11/site-packages (1.2.2)\n",
      "Requirement already satisfied: python-dateutil>=2.8.2 in /opt/anaconda3/lib/python3.11/site-packages (from pandas) (2.8.2)\n",
      "Requirement already satisfied: pytz>=2020.1 in /opt/anaconda3/lib/python3.11/site-packages (from pandas) (2023.3.post1)\n",
      "Requirement already satisfied: tzdata>=2022.1 in /opt/anaconda3/lib/python3.11/site-packages (from pandas) (2023.3)\n",
      "Requirement already satisfied: cachetools>=4.2.1 in /opt/anaconda3/lib/python3.11/site-packages (from pymc3) (4.2.2)\n",
      "Requirement already satisfied: dill in /opt/anaconda3/lib/python3.11/site-packages (from pymc3) (0.3.7)\n",
      "Requirement already satisfied: fastprogress>=0.2.0 in /opt/anaconda3/lib/python3.11/site-packages (from pymc3) (1.0.3)\n",
      "Requirement already satisfied: patsy>=0.5.1 in /opt/anaconda3/lib/python3.11/site-packages (from pymc3) (0.5.3)\n",
      "Requirement already satisfied: scipy>=1.2.0 in /opt/anaconda3/lib/python3.11/site-packages (from pymc3) (1.11.4)\n",
      "Requirement already satisfied: semver>=2.13.0 in /opt/anaconda3/lib/python3.11/site-packages (from pymc3) (2.13.0)\n",
      "Requirement already satisfied: theano-pymc==1.1.2 in /opt/anaconda3/lib/python3.11/site-packages (from pymc3) (1.1.2)\n",
      "Requirement already satisfied: typing-extensions>=3.7.4 in /opt/anaconda3/lib/python3.11/site-packages (from pymc3) (4.9.0)\n",
      "Requirement already satisfied: filelock in /opt/anaconda3/lib/python3.11/site-packages (from theano-pymc==1.1.2->pymc3) (3.13.1)\n",
      "Requirement already satisfied: setuptools>=60.0.0 in /opt/anaconda3/lib/python3.11/site-packages (from arviz) (70.1.1)\n",
      "Requirement already satisfied: matplotlib>=3.5 in /opt/anaconda3/lib/python3.11/site-packages (from arviz) (3.8.0)\n",
      "Requirement already satisfied: packaging in /opt/anaconda3/lib/python3.11/site-packages (from arviz) (23.1)\n",
      "Requirement already satisfied: dm-tree>=0.1.8 in /opt/anaconda3/lib/python3.11/site-packages (from arviz) (0.1.8)\n",
      "Requirement already satisfied: xarray>=2022.6.0 in /opt/anaconda3/lib/python3.11/site-packages (from arviz) (2023.6.0)\n",
      "Requirement already satisfied: h5netcdf>=1.0.2 in /opt/anaconda3/lib/python3.11/site-packages (from arviz) (1.3.0)\n",
      "Requirement already satisfied: xarray-einstats>=0.3 in /opt/anaconda3/lib/python3.11/site-packages (from arviz) (0.7.0)\n",
      "Requirement already satisfied: joblib>=1.1.1 in /opt/anaconda3/lib/python3.11/site-packages (from scikit-learn) (1.2.0)\n",
      "Requirement already satisfied: threadpoolctl>=2.0.0 in /opt/anaconda3/lib/python3.11/site-packages (from scikit-learn) (3.5.0)\n",
      "Requirement already satisfied: h5py in /opt/anaconda3/lib/python3.11/site-packages (from h5netcdf>=1.0.2->arviz) (3.11.0)\n",
      "Requirement already satisfied: contourpy>=1.0.1 in /opt/anaconda3/lib/python3.11/site-packages (from matplotlib>=3.5->arviz) (1.2.0)\n",
      "Requirement already satisfied: cycler>=0.10 in /opt/anaconda3/lib/python3.11/site-packages (from matplotlib>=3.5->arviz) (0.11.0)\n",
      "Requirement already satisfied: fonttools>=4.22.0 in /opt/anaconda3/lib/python3.11/site-packages (from matplotlib>=3.5->arviz) (4.25.0)\n",
      "Requirement already satisfied: kiwisolver>=1.0.1 in /opt/anaconda3/lib/python3.11/site-packages (from matplotlib>=3.5->arviz) (1.4.4)\n",
      "Requirement already satisfied: pillow>=6.2.0 in /opt/anaconda3/lib/python3.11/site-packages (from matplotlib>=3.5->arviz) (10.2.0)\n",
      "Requirement already satisfied: pyparsing>=2.3.1 in /opt/anaconda3/lib/python3.11/site-packages (from matplotlib>=3.5->arviz) (3.0.9)\n",
      "Requirement already satisfied: six in /opt/anaconda3/lib/python3.11/site-packages (from patsy>=0.5.1->pymc3) (1.16.0)\n",
      "Note: you may need to restart the kernel to use updated packages.\n"
     ]
    }
   ],
   "source": [
    "pip install pandas numpy pymc3 arviz scikit-learn\n"
   ]
  },
  {
   "cell_type": "code",
   "execution_count": null,
   "id": "16db57e7-8d0a-409b-b731-4a7d1382694a",
   "metadata": {},
   "outputs": [],
   "source": []
  },
  {
   "cell_type": "code",
   "execution_count": null,
   "id": "a77689ce-2a79-48cd-b8d1-940d74677997",
   "metadata": {},
   "outputs": [],
   "source": []
  },
  {
   "cell_type": "code",
   "execution_count": null,
   "id": "ad952a9d-372d-4323-ba7a-f5b8362d90e7",
   "metadata": {},
   "outputs": [],
   "source": []
  }
 ],
 "metadata": {
  "kernelspec": {
   "display_name": "Python 3 (ipykernel)",
   "language": "python",
   "name": "python3"
  },
  "language_info": {
   "codemirror_mode": {
    "name": "ipython",
    "version": 3
   },
   "file_extension": ".py",
   "mimetype": "text/x-python",
   "name": "python",
   "nbconvert_exporter": "python",
   "pygments_lexer": "ipython3",
   "version": "3.11.7"
  }
 },
 "nbformat": 4,
 "nbformat_minor": 5
}
