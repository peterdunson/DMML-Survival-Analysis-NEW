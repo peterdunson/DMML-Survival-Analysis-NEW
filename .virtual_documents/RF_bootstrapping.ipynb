import pandas as pd
import numpy as np
from sklearn.model_selection import train_test_split
from sklearn.preprocessing import StandardScaler
from sklearn.metrics import classification_report, roc_auc_score, roc_curve
from sklearn.ensemble import RandomForestClassifier
from sklearn.model_selection import GridSearchCV
import matplotlib.pyplot as plt
from imblearn.over_sampling import SMOTE
from sklearn.utils import resample

# Load and preprocess data
data = pd.read_csv("RF_imputation_NEW.csv")
data.drop(columns=['deathtime', 'survival_time', 'LOS', 'Unnamed_0', 'V1', 'admittime', 'ID', 'group', 'tLOS', 'subject_id'], inplace=True)
data['outcome'] = data['outcome'].astype(int)
predictor_names = data.columns.difference(['outcome'])

X_train = train_data[predictor_names].values
y_train = train_data['outcome'].values
X_valid = valid_data[predictor_names].values
y_valid = valid_data['outcome'].values

# Apply SMOTE to handle class imbalance
smote = SMOTE(random_state=42)
X_train_resampled, y_train_resampled = smote.fit_resample(X_train, y_train)

# Define the Random Forest model
rf = RandomForestClassifier(random_state=42)

# Hyperparameter tuning using GridSearchCV
param_grid = {
    'n_estimators': [100, 200, 300],
    'max_depth': [10, 20, 30, None],
    'min_samples_split': [2, 5, 10],
    'min_samples_leaf': [1, 2, 4],
    'bootstrap': [True, False]
}

grid_search = GridSearchCV(estimator=rf, param_grid=param_grid, cv=3, n_jobs=-1, verbose=2, scoring='roc_auc')
grid_search.fit(X_train_resampled, y_train_resampled)

# Best hyperparameters found
best_rf = grid_search.best_estimator_
print("Best hyperparameters found:", grid_search.best_params_)

# Train the final model with the best hyperparameters
best_rf.fit(X_train_resampled, y_train_resampled)

# Evaluate the final model
y_pred_proba_final = best_rf.predict_proba(X_valid)[:, 1]
y_pred_final = (y_pred_proba_final > 0.5).astype(int)

print(classification_report(y_valid, y_pred_final, zero_division=0))

# Calculate AUC for the final model
auc_final = roc_auc_score(y_valid, y_pred_proba_final)
print(f"Final AUC: {auc_final}")

# Plot ROC curve for the final model
fpr_final, tpr_final, thresholds_final = roc_curve(y_valid, y_pred_proba_final)
plt.figure()
plt.plot(fpr_final, tpr_final, color='darkorange', lw=2, label=f'ROC curve (area = {auc_final:0.2f})')
plt.plot([0, 1], [0, 1], color='navy', lw=2, linestyle='--')
plt.xlim([0.0, 1.0])
plt.ylim([0.0, 1.05])
plt.xlabel('False Positive Rate')
plt.ylabel('True Positive Rate')
plt.title('Random Forest Model Receiver Operating Characteristic for Final')
plt.legend(loc="lower right")
plt.show()


# Plot ROC curve for the final model
fpr_final, tpr_final, thresholds_final = roc_curve(y_valid, y_pred_proba_final)
plt.figure()
plt.plot(fpr_final, tpr_final, color='darkorange', lw=2, label=f'ROC curve (area = {auc_final:0.2f})')
plt.plot([0, 1], [0, 1], color='navy', lw=2, linestyle='--')
plt.xlim([0.0, 1.0])
plt.ylim([0.0, 1.05])
plt.xlabel('False Positive Rate')
plt.ylabel('True Positive Rate')
plt.title('ROC for Final Random Forest Model')
plt.legend(loc="lower right")
plt.show()

# Perform bootstrapping
n_bootstrap = 1000
bootstrap_aucs = []

for _ in range(n_bootstrap):
    X_valid_resample, y_valid_resample = resample(X_valid, y_valid)
    y_pred_proba_resample = best_rf.predict_proba(X_valid_resample)[:, 1]
    auc_resample = roc_auc_score(y_valid_resample, y_pred_proba_resample)
    bootstrap_aucs.append(auc_resample)

# Plot the distribution of AUC values
plt.figure()
plt.hist(bootstrap_aucs, bins=30, color='lightblue', edgecolor='black')
plt.xlabel('AUC')
plt.ylabel('Frequency')
plt.title('Distribution of AUCs from Bootstrap Samples')
plt.show()

# Calculate and print the mean and 95% confidence interval of AUC values
mean_auc = np.mean(bootstrap_aucs)
std_err_auc = np.std(bootstrap_aucs, ddof=1) / np.sqrt(n_bootstrap)
ci_lower = np.percentile(bootstrap_aucs, 2.5)
ci_upper = np.percentile(bootstrap_aucs, 97.5)

print(f"Mean AUC: {mean_auc}")
print(f"Standard Error of AUC: {std_err_auc}")
print(f"95% Confidence Interval: {ci_lower} - {ci_upper}")




