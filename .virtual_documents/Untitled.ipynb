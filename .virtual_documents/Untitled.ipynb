import pandas as pd
from sklearn.model_selection import train_test_split, GridSearchCV
from sklearn.preprocessing import StandardScaler
from sklearn.gaussian_process import GaussianProcessClassifier
from sklearn.gaussian_process.kernels import RBF
from sklearn.metrics import classification_report, roc_auc_score, roc_curve
import matplotlib.pyplot as plt
from imblearn.over_sampling import SMOTE

# Load and preprocess data
data = pd.read_csv("RF_imputation_NEW.csv")
data.drop(columns=['deathtime', 'survival_time', 'LOS', 'Unnamed_0', 'V1', 'admittime', 'ID', 'group', 'tLOS', 'subject_id'], inplace=True)
data['outcome'] = data['outcome'].astype(int)
predictor_names = data.columns.difference(['outcome'])

# Function to preprocess data
def preprocess_data(data, predictor_names, random_seed):
    scaler = StandardScaler()
    data[predictor_names] = scaler.fit_transform(data[predictor_names])
    train_data, valid_data = train_test_split(data, test_size=0.3, random_state=random_seed)
    return train_data, valid_data

# Preprocess the data
train_data, valid_data = preprocess_data(data, predictor_names, random_seed=42)

X_train = train_data[predictor_names]
y_train = train_data['outcome']
X_valid = valid_data[predictor_names]
y_valid = valid_data['outcome']

# Apply SMOTE to handle class imbalance
smote = SMOTE(random_state=42)
X_train_resampled, y_train_resampled = smote.fit_resample(X_train, y_train)

# Define the model
kernel = 1.0 * RBF(1.0)
gpc = GaussianProcessClassifier(kernel=kernel, random_state=42)

# Train the model
gpc.fit(X_train_resampled, y_train_resampled)

# Evaluate the model
y_pred = gpc.predict(X_valid)
y_pred_proba = gpc.predict_proba(X_valid)[:, 1]

print(classification_report(y_valid, y_pred))

# Calculate AUC
auc = roc_auc_score(y_valid, y_pred_proba)
print(f"AUC: {auc}")

# Plot ROC curve
fpr, tpr, thresholds = roc_curve(y_valid, y_pred_proba)
plt.figure()
plt.plot(fpr, tpr, color='darkorange', lw=2, label=f'ROC curve (area = {auc:0.2f})')
plt.plot([0, 1], [0, 1], color='navy', lw=2, linestyle='--')
plt.xlim([0.0, 1.0])
plt.ylim([0.0, 1.05])
plt.xlabel('False Positive Rate')
plt.ylabel('True Positive Rate')
plt.title('Receiver Operating Characteristic')
plt.legend(loc="lower right")
plt.show()

# Hyperparameter tuning using GridSearchCV
param_grid = {
    'kernel': [1.0 * RBF(l) for l in [0.1, 1.0, 10.0]],
    'max_iter_predict': [100, 200, 300]
}
grid_search = GridSearchCV(GaussianProcessClassifier(random_state=42), param_grid, cv=3)
grid_search.fit(X_train_resampled, y_train_resampled)

print("Best parameters found: ", grid_search.best_params_)
print("Best cross-validation score: ", grid_search.best_score_)

# Evaluate the best model
best_gpc = grid_search.best_estimator_
y_pred_best = best_gpc.predict(X_valid)
y_pred_proba_best = best_gpc.predict_proba(X_valid)[:, 1]

print(classification_report(y_valid, y_pred_best))

# Calculate AUC for the best model
auc_best = roc_auc_score(y_valid, y_pred_proba_best)
print(f"AUC for the best model: {auc_best}")

# Plot ROC curve for the best model
fpr_best, tpr_best, thresholds_best = roc_curve(y_valid, y_pred_proba_best)
plt.figure()
plt.plot(fpr_best, tpr_best, color='darkorange', lw=2, label=f'ROC curve (area = {auc_best:0.2f})')
plt.plot([0, 1], [0, 1], color='navy', lw=2, linestyle='--')
plt.xlim([0.0, 1.0])
plt.ylim([0.0, 1.05])
plt.xlabel('False Positive Rate')
plt.ylabel('True Positive Rate')
plt.title('Receiver Operating Characteristic for Best Model')
plt.legend(loc="lower right")
plt.show()



import pandas as pd
from sklearn.model_selection import train_test_split, GridSearchCV
from sklearn.preprocessing import StandardScaler
from sklearn.gaussian_process import GaussianProcessClassifier
from sklearn.gaussian_process.kernels import RBF
from sklearn.metrics import classification_report, roc_auc_score, roc_curve
import matplotlib.pyplot as plt
from imblearn.over_sampling import SMOTE
from sklearn.ensemble import RandomForestClassifier

# Load and preprocess data
data = pd.read_csv("RF_imputation_NEW.csv")
data.drop(columns=['deathtime', 'survival_time', 'LOS', 'Unnamed_0', 'V1', 'admittime', 'ID', 'group', 'tLOS', 'subject_id'], inplace=True)
data['outcome'] = data['outcome'].astype(int)
predictor_names = data.columns.difference(['outcome'])

# Function to preprocess data
def preprocess_data(data, predictor_names, random_seed):
    scaler = StandardScaler()
    data[predictor_names] = scaler.fit_transform(data[predictor_names])
    train_data, valid_data = train_test_split(data, test_size=0.3, random_state=random_seed)
    return train_data, valid_data

# Preprocess the data
train_data, valid_data = preprocess_data(data, predictor_names, random_seed=42)

X_train = train_data[predictor_names]
y_train = train_data['outcome']
X_valid = valid_data[predictor_names]
y_valid = valid_data['outcome']

# Apply SMOTE to handle class imbalance
smote = SMOTE(random_state=42)
X_train_resampled, y_train_resampled = smote.fit_resample(X_train, y_train)

# Define the Gaussian Process Classifier model
kernel = 1.0 * RBF(1.0)
gpc = GaussianProcessClassifier(kernel=kernel, random_state=42)

# Train the model
gpc.fit(X_train_resampled, y_train_resampled)

# Evaluate the model
y_pred = gpc.predict(X_valid)
y_pred_proba = gpc.predict_proba(X_valid)[:, 1]

print(classification_report(y_valid, y_pred))

# Calculate AUC
auc = roc_auc_score(y_valid, y_pred_proba)
print(f"AUC: {auc}")

# Plot ROC curve
fpr, tpr, thresholds = roc_curve(y_valid, y_pred_proba)
plt.figure()
plt.plot(fpr, tpr, color='darkorange', lw=2, label=f'ROC curve (area = {auc:0.2f})')
plt.plot([0, 1], [0, 1], color='navy', lw=2, linestyle='--')
plt.xlim([0.0, 1.0])
plt.ylim([0.0, 1.05])
plt.xlabel('False Positive Rate')
plt.ylabel('True Positive Rate')
plt.title('Receiver Operating Characteristic')
plt.legend(loc="lower right")
plt.show()

# Hyperparameter tuning using GridSearchCV for GPC
param_grid = {
    'kernel': [1.0 * RBF(l) for l in [0.1, 1.0, 10.0]],
    'max_iter_predict': [100, 200, 300]
}
grid_search = GridSearchCV(GaussianProcessClassifier(random_state=42), param_grid, cv=3)
grid_search.fit(X_train_resampled, y_train_resampled)

print("Best parameters found: ", grid_search.best_params_)
print("Best cross-validation score: ", grid_search.best_score_)

# Evaluate the best model
best_gpc = grid_search.best_estimator_
y_pred_best = best_gpc.predict(X_valid)
y_pred_proba_best = best_gpc.predict_proba(X_valid)[:, 1]

print(classification_report(y_valid, y_pred_best))

# Calculate AUC for the best model
auc_best = roc_auc_score(y_valid, y_pred_proba_best)
print(f"AUC for the best model: {auc_best}")

# Plot ROC curve for the best model
fpr_best, tpr_best, thresholds_best = roc_curve(y_valid, y_pred_proba_best)
plt.figure()
plt.plot(fpr_best, tpr_best, color='darkorange', lw=2, label=f'ROC curve (area = {auc_best:0.2f})')
plt.plot([0, 1], [0, 1], color='navy', lw=2, linestyle='--')
plt.xlim([0.0, 1.0])
plt.ylim([0.0, 1.05])
plt.xlabel('False Positive Rate')
plt.ylabel('True Positive Rate')
plt.title('Receiver Operating Characteristic for Best Model')
plt.legend(loc="lower right")
plt.show()







