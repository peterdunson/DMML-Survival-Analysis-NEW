merged_df_NEW = pd.read_csv('merged_df_NEW.csv')



import pandas as pd

# Load your dataset
# merged_df = pd.read_csv('path_to_your_dataset.csv')

# Display a summary of missing values
print(merged_df.isnull().sum())







import pandas as pd
import numpy as np
from sklearn.experimental import enable_iterative_imputer
from sklearn.impute import IterativeImputer

# Assuming merged_df is your DataFrame
# merged_df = pd.read_csv('path_to_your_dataset.csv')

# Convert datetime columns to numeric (timestamp)
merged_df['admittime'] = pd.to_datetime(merged_df['admittime'])
merged_df['admittime'] = merged_df['admittime'].astype(int) / 10**9  # Convert datetime to seconds since epoch

# Columns to exclude from imputation
exclude_columns = ['deathtime']

# Separate columns to impute and columns to exclude
columns_to_impute = merged_df.drop(columns=exclude_columns).select_dtypes(include=[np.number]).columns
excluded_data = merged_df[exclude_columns]

# Initialize the Iterative Imputer
imputer = IterativeImputer(max_iter=10, random_state=0)

# Perform the imputation
imputed_data = imputer.fit_transform(merged_df[columns_to_impute])

# Convert the imputed data back to a DataFrame
imputed_df = pd.DataFrame(imputed_data, columns=columns_to_impute)

# Add excluded columns back to the DataFrame
imputed_df = pd.concat([imputed_df, excluded_data.reset_index(drop=True)], axis=1)

# If you need to convert the datetime back to its original form
imputed_df['admittime'] = pd.to_datetime(imputed_df['admittime'] * 10**9)

# Display the imputed DataFrame
print(imputed_df)



# Save the imputed DataFrame to a CSV file
# Save the imputed DataFrame to a CSV file in the current working directory
imputed_df.to_csv('imputed_dataset.csv', index=False)







import pandas as pd
import numpy as np
import miceforest as mf
import re

# Convert datetime columns to numeric (timestamp)
merged_df_NEW['admittime'] = pd.to_datetime(merged_df_NEW['admittime'])
merged_df_NEW['admittime'] = merged_df_NEW['admittime'].astype(int) / 10**9  # Convert datetime to seconds since epoch

# Clean column names to remove special characters
cleaned_columns = [re.sub(r'\W+', '_', col) for col in merged_df_NEW.columns]
merged_df_NEW.columns = cleaned_columns

# Check the column names
print(merged_df_NEW.columns)

# Columns to exclude from imputation
exclude_columns = ['survival_time', 'deathtime', 'LOS']

# Ensure exclude_columns exist in the DataFrame
exclude_columns = [col for col in exclude_columns if col in merged_df_NEW.columns]

# Separate columns to impute and columns to exclude
columns_to_impute = merged_df_NEW.drop(columns=exclude_columns).select_dtypes(include=[np.number]).columns
data_to_impute = merged_df_NEW[columns_to_impute]

# Initialize the KernelDataSet
kernel = mf.ImputationKernel(
    data=data_to_impute,
    save_all_iterations=True,
    random_state=0
)

# Perform multiple imputation with 5 imputations
kernel.mice(30)

# Extract the completed data from the first imputation
completed_data = kernel.complete_data(0)

# Combine the imputed data with the excluded columns
imputed_df_NEW = pd.concat([completed_data, merged_df_NEW[exclude_columns].reset_index(drop=True)], axis=1)

# If you need to convert the datetime back to its original form
imputed_df_NEW['admittime'] = pd.to_datetime(imputed_df_NEW['admittime'] * 10**9)

# Save the imputed DataFrame to a CSV file
imputed_df_NEW.to_csv('multiple_imputation_NEW.csv', index=False)


















