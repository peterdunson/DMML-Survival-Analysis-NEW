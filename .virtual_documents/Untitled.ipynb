





# Install and Load Required Packages

import pandas as pd
import pymc3 as pm
from sklearn.metrics import roc_auc_score

# Load the data
data = pd.read_csv('RF_imputation_NEW.csv')

# Drop unwanted columns
data = data.drop(columns=['deathtime', 'survival_time', 'LOS', 'Unnamed_0', 'V1', 'admittime', 'ID', 'group', 'tLOS', 'subject_id'])

# Normalize the predictors
predictor_columns = data.columns.difference(['outcome'])
data[predictor_columns] = (data[predictor_columns] - data[predictor_columns].mean()) / data[predictor_columns].std()

# Split the data into training and validation sets
train_data = data.sample(frac=0.7, random_state=213)
valid_data = data.drop(train_data.index)

# Define and fit the Bayesian logistic regression model using MAP estimation
with pm.Model() as logistic_model:
    pm.glm.GLM.from_formula('outcome ~ .', train_data, family=pm.glm.families.Binomial())
    map_estimate = pm.find_MAP()  # MAP estimation
    print(map_estimate)

# Evaluate the model performance on the training set
with logistic_model:
    posterior_predictive = pm.sample_posterior_predictive([map_estimate], samples=len(train_data))
    train_preds_prob = posterior_predictive['outcome'].mean(axis=0)
    train_auc_value = roc_auc_score(train_data['outcome'], train_preds_prob)
    print("Train AUC:", train_auc_value)

# Evaluate the model performance on the validation set
with logistic_model:
    posterior_predictive = pm.sample_posterior_predictive([map_estimate], samples=len(valid_data))
    valid_preds_prob = posterior_predictive['outcome'].mean(axis=0)
    valid_auc_value = roc_auc_score(valid_data['outcome'], valid_preds_prob)
    print("Validation AUC:", valid_auc_value)










